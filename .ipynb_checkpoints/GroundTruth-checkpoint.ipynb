{
 "cells": [
  {
   "cell_type": "code",
   "execution_count": 1,
   "metadata": {},
   "outputs": [],
   "source": [
    "from Schema import *"
   ]
  },
  {
   "cell_type": "code",
   "execution_count": null,
   "metadata": {},
   "outputs": [],
   "source": [
    "# nodes\n",
    "place = {'name':set([str]), 'url':set([str]), 'Place':set([LBL])}\n",
    "city = {'name':set([str]), 'url':set([str]), 'City':set([LBL])}\n",
    "country = {'name':set([str]), 'url':set([str]), 'Country':set([LBL])}\n",
    "continent = {'name':set([str]), 'url':set([str]), 'Continent':set([LBL])}\n",
    "\n",
    "organization = {'name':set([str]), 'url':set([str]), 'Organisation':set([LBL])}\n",
    "university = {'name':set([str]), 'url':set([str]), 'University':set([LBL])}\n",
    "company = {'name':set([str]), 'url':set([str]), 'Company':set([LBL])}\n",
    "\n",
    "tagclass = {'name':set([str]), 'url':set([str]),'TagClass':set([LBL])}\n",
    "tag = {'name':set([str]), 'url':set([str]), 'Tag':set([LBL])}\n",
    "\n",
    "person={'creationDate':set([str]), 'firstName':set([str]), 'lastName':set([str]),\n",
    "        'gender':set([str]),'birthday':set([str]), 'email':set([list]),\n",
    "        'speaks':set([list]), 'browserUsed':set([str]), 'locationIP':set([str]),\n",
    "        'Person':set([LBL])}\n",
    "forum = {'creationDate':set([str]),'title':set([str]), 'Forum':set([LBL])}\n",
    "\n",
    "message = {'creationDate':set([str]), 'browserUsed':set([str]),'locationIP':set([str]),\n",
    "           'content':set([list]), 'length':set([int]), 'Message':set([LBL])}\n",
    "comment = {'creationDate':set([str]), 'browserUsed':set([str]),'locationIP':set([str]),\n",
    "           'content':set([list]), 'length':set([int]), 'Comment':set([LBL])}\n",
    "post = {'creationDate':set([str]), 'browserUsed':set([str]),'locationIP':set([str]),\n",
    "           'content':set([list]), 'length':set([int]),'language':set([str]),\n",
    "           'imageFile':set([str]), 'Post':set([LBL])}"
   ]
  }
 ],
 "metadata": {
  "kernelspec": {
   "display_name": "Python 3",
   "language": "python",
   "name": "python3"
  },
  "language_info": {
   "codemirror_mode": {
    "name": "ipython",
    "version": 3
   },
   "file_extension": ".py",
   "mimetype": "text/x-python",
   "name": "python",
   "nbconvert_exporter": "python",
   "pygments_lexer": "ipython3",
   "version": "3.7.2"
  }
 },
 "nbformat": 4,
 "nbformat_minor": 1
}
