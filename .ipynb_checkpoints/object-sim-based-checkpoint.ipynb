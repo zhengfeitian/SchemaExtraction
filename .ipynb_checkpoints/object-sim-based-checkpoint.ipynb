{
 "cells": [
  {
   "cell_type": "code",
   "execution_count": 1,
   "metadata": {
    "pycharm": {
     "is_executing": true
    }
   },
   "outputs": [],
   "source": [
    "# from neo4j import GraphDatabase\n",
    "# from py2neo import Graph\n",
    "# from NewElementTypeSet import *\n",
    "# from ElementType import *\n",
    "# graph = Graph('bolt://localhost:7687',name='social')\n",
    "# graph = Graph('bolt://localhost:11003')\n",
    "from SimBaseTopo import *\n",
    "import networkx as nx\n",
    "import numpy as np\n",
    "import matplotlib.pyplot as plt\n",
    "from Evaluation import *\n",
    "import seaborn as sns"
   ]
  },
  {
   "cell_type": "code",
   "execution_count": 4,
   "metadata": {
    "collapsed": true
   },
   "outputs": [
    {
     "name": "stdout",
     "output_type": "stream",
     "text": [
      "computing node f1 score ignoredatatype False consider edges False\n",
      "tp:  3 fn: 1 fp:  49\n",
      "precision:  0.057692307692307696\n",
      "recall:  0.75\n",
      "f1_score:  0.10714285714285714\n",
      "tp:  3 fn: 2 fp:  458\n",
      "precision:  0.006507592190889371\n",
      "recall:  0.6\n",
      "f1_score:  0.012875536480686695\n",
      "merge node by  p\n",
      "4 clusters found out of 52 nodes\n",
      "merge edge by  p\n",
      "5 clusters found out of 461 nodes\n",
      "computing node f1 score ignoredatatype False consider edges False\n",
      "tp:  4 fn: 0 fp:  0\n",
      "precision:  1.0\n",
      "recall:  1.0\n",
      "f1_score:  1.0\n",
      "tp:  5 fn: 0 fp:  0\n",
      "precision:  1.0\n",
      "recall:  1.0\n",
      "f1_score:  1.0\n"
     ]
    },
    {
     "data": {
      "text/plain": [
       "(1.0, 1.0, 1.0, 1.0, 1.0, 1.0)"
      ]
     },
     "execution_count": 4,
     "metadata": {},
     "output_type": "execute_result"
    }
   ],
   "source": [
    "import pickle\n",
    "# with open('stored_schema/snb_schema_emailLanguage_modifiedEdgeTypeSet','rb') as f:\n",
    "with open('stored_schema/schema_mb6_allNodesRels.pickle','rb') as f:\n",
    "    sc = pickle.load(f)\n",
    "with open('stored_schema/schema_mb6_ground_truth.pickle','rb') as f:\n",
    "    mb_sc_gt = pickle.load(f)\n",
    "from Schema import Schema\n",
    "# len(sc.nodetypeset),len(sc.edgetypeset)\n",
    "# gt_sc = get_snb_with_incEdgesAndOutEdges()[0]\n",
    "\n",
    "# gt_sc\n",
    "sc.computeF1score(mb_sc_gt,CONSIDER_EDGES=False)\n",
    "# sc.mergeByLabelsSet()\n",
    "sc.mergeByJaccardSim(theta=0.5,idf=False,mode='p')\n",
    "sc.computeF1score(mb_sc_gt,CONSIDER_EDGES=False,ANALYSE_MODE=False)"
   ]
  },
  {
   "cell_type": "code",
   "execution_count": 6,
   "metadata": {},
   "outputs": [],
   "source": [
    "sc_tax = get_taxonomy()\n",
    "# sc_tax.print()\n",
    "G_tax_gt = getGraphFromSchema(sc_tax)"
   ]
  },
  {
   "cell_type": "code",
   "execution_count": 66,
   "metadata": {
    "collapsed": true
   },
   "outputs": [
    {
     "name": "stderr",
     "output_type": "stream",
     "text": [
      "100%|██████████| 2/2 [00:00<00:00, 667.88it/s]"
     ]
    },
    {
     "name": "stdout",
     "output_type": "stream",
     "text": [
      "getting node matrix with mode  attr\n",
      "getting edge matrix with mode  attr\n"
     ]
    },
    {
     "name": "stderr",
     "output_type": "stream",
     "text": [
      "\n"
     ]
    }
   ],
   "source": [
    "eg_G = nx.MultiDiGraph()\n",
    "eg_G.add_nodes_from([(0,{'Person':'label','Name':'Sam','age':12}),\n",
    "                    (1, {'Person':'lb','Name':'Tom'}),\n",
    "                    (2, {'Person':'lb','Name':'John','Phone':35})])\n",
    "eg_G.add_edges_from([(0,1,{'knows':'lbl'}),(1,2,{'knows':'lbl','at':'school'})])\n",
    "node_sim_matrix = getNodeSimilarityMatrixByAttr(eg_G,'attr')\n",
    "edge_sim_matrix = getEdgeSimilarityMatrixByAttr(eg_G, 'attr')"
   ]
  },
  {
   "cell_type": "code",
   "execution_count": 96,
   "metadata": {
    "scrolled": false
   },
   "outputs": [
    {
     "name": "stderr",
     "output_type": "stream",
     "text": [
      "73it [00:00, 24520.24it/s]\n",
      "118it [00:00, 7867.74it/s]"
     ]
    },
    {
     "name": "stdout",
     "output_type": "stream",
     "text": [
      "rand_s 3 rand_t 8\n"
     ]
    },
    {
     "name": "stderr",
     "output_type": "stream",
     "text": [
      "\n"
     ]
    }
   ],
   "source": [
    "# sc_gt, sc = snb_gt_LT()\n",
    "sc_gt = get_gt_northwind()\n",
    "\n",
    "mode = 'attr'\n",
    "G, node2partition, edge2partition, node_partitions, \\\n",
    "    edge_partitions, node_partition_sim, edge_partition_sim,sc_gen =  \\\n",
    "                    generateGraphFromSchema(sc_gt,l=0.5,p=0.5,rand_s=3,rand_t=8, edge_num=3,mode=mode)\n",
    "# node_sim_matrix_8 = getNodeSimilarityMatrixByAttr(G,mode)\n",
    "# edge_sim_matrix_8 = getEdgeSimilarityMatrixByAttr(G,mode)\n",
    "# node_sim_matrix_cp = node_sim_matrix.copy()\n",
    "# edge_sim_matrix_cp = edge_sim_matrix.copy()\n",
    "# sc = getSchemaFromSimMatrix(G, node_sim_matrix, edge_sim_matrix,theta=l_p)\n",
    "\n",
    "# n_p,n_r,n_f1,e_p,e_r,e_f1 = sc.computeF1score(sc_gt,CONSIDER_EDGES=True,\n",
    "#                                     WEIGHTED=True,CONSIDER_EDGES_OF_SRC_TAR=True)\n",
    "# with open('result/obj-sim-based/sim_matrix/lt_e8_node.npy','rb') as f:\n",
    "#     node_sim_matrix_cp = np.load(f)\n",
    "# with open('result/obj-sim-based/sim_matrix/lt_e8_edge.npy','rb') as f:\n",
    "#     edge_sim_matrix_cp = np.load(f)"
   ]
  },
  {
   "cell_type": "code",
   "execution_count": 104,
   "metadata": {},
   "outputs": [
    {
     "data": {
      "text/plain": [
       "293"
      ]
     },
     "execution_count": 104,
     "metadata": {},
     "output_type": "execute_result"
    }
   ],
   "source": [
    "len(G.edges)"
   ]
  },
  {
   "cell_type": "code",
   "execution_count": 6,
   "metadata": {
    "collapsed": true
   },
   "outputs": [
    {
     "name": "stderr",
     "output_type": "stream",
     "text": [
      " 33%|███▎      | 18/54 [00:00<00:00, 84.58it/s]"
     ]
    },
    {
     "name": "stdout",
     "output_type": "stream",
     "text": [
      "getting node matrix with mode  p\n",
      "getting edge matrix with mode  p\n"
     ]
    },
    {
     "name": "stderr",
     "output_type": "stream",
     "text": [
      "100%|██████████| 54/54 [00:00<00:00, 90.69it/s]\n"
     ]
    }
   ],
   "source": [
    "\n",
    "# sc = getSchemaFromSimMatrix(l_p*node_sim_matrix+t_p*topo_node_sim,\n",
    "#                        l_p*edge_sim_matrix+topo_edge_sim)"
   ]
  },
  {
   "cell_type": "code",
   "execution_count": 107,
   "metadata": {
    "collapsed": true
   },
   "outputs": [
    {
     "name": "stderr",
     "output_type": "stream",
     "text": [
      "100%|██████████| 28/28 [00:00<00:00, 377.17it/s]"
     ]
    },
    {
     "name": "stdout",
     "output_type": "stream",
     "text": [
      "getting node matrix with mode  attrs\n",
      "getting edge matrix with mode  attrs\n"
     ]
    },
    {
     "name": "stderr",
     "output_type": "stream",
     "text": [
      "\n"
     ]
    }
   ],
   "source": [
    "node_sim_gt = getNodeSimilarityMatrixByAttr(G_gt,'attrs')\n",
    "edge_sim_gt = getEdgeSimilarityMatrixByAttr(G_gt,'attrs')\n",
    "sns.heatmap(node_sim_gt)\n",
    "plt.show()\n",
    "sns.heatmap(edge_sim_gt)\n",
    "plt.show()"
   ]
  },
  {
   "cell_type": "code",
   "execution_count": 10,
   "metadata": {
    "collapsed": true
   },
   "outputs": [
    {
     "name": "stdout",
     "output_type": "stream",
     "text": [
      "computing node f1 score ignoredatatype False consider edges False\n",
      "duplicate TP count:  [1, 1, 0, 1, 0, 1, 1, 1, 1, 1, 1, 1, 1]\n",
      "tp:  11.0 fn: 2 fp:  1.0\n",
      "precision:  0.9166666666666666\n",
      "recall:  0.8461538461538461\n",
      "f1_score:  0.8799999999999999\n",
      "duplicate TP count:  [1, 1, 1, 0, 0, 1, 1, 1, 1, 1, 1, 1, 0]\n",
      "tp:  10.0 fn: 3 fp:  3.0\n",
      "precision:  0.7692307692307693\n",
      "recall:  0.7692307692307693\n",
      "f1_score:  0.7692307692307693\n"
     ]
    },
    {
     "data": {
      "text/plain": [
       "(0.9166666666666666,\n",
       " 0.8461538461538461,\n",
       " 0.8799999999999999,\n",
       " 0.7692307692307693,\n",
       " 0.7692307692307693,\n",
       " 0.7692307692307693)"
      ]
     },
     "execution_count": 10,
     "metadata": {},
     "output_type": "execute_result"
    }
   ],
   "source": [
    "sc = getSchemaFromSimMatrix(G, node_sim_matrix_cp, edge_sim_matrix_cp,theta=0.5)\n",
    "sc.computeF1score(sc_gt,CONSIDER_EDGES=False,\n",
    "                    WEIGHTED=True,CONSIDER_EDGES_OF_SRC_TAR=False)"
   ]
  },
  {
   "cell_type": "code",
   "execution_count": 13,
   "metadata": {
    "collapsed": true
   },
   "outputs": [
    {
     "name": "stdout",
     "output_type": "stream",
     "text": [
      "computing node f1 score ignoredatatype False consider edges False\n",
      "duplicate TP count:  [0, 0, 0, 0, 0, 0, 0, 0, 0, 0, 0, 0, 0]\n",
      "tp:  0 fn: 13 fp:  1\n",
      "precision:  0.0\n",
      "recall:  0.0\n",
      "f1_score:  0\n",
      "duplicate TP count:  [0, 0, 0, 0, 0, 0, 0, 0, 0, 0, 0, 0, 0]\n",
      "tp:  0 fn: 13 fp:  11\n",
      "precision:  0.0\n",
      "recall:  0.0\n",
      "f1_score:  0\n"
     ]
    },
    {
     "data": {
      "text/plain": [
       "(0.0, 0.0, 0, 0.0, 0.0, 0)"
      ]
     },
     "execution_count": 13,
     "metadata": {},
     "output_type": "execute_result"
    }
   ],
   "source": [
    "# node_sim_matrix_l = getNodeSimilarityMatrixByAttr(G,'l')\n",
    "# edge_sim_matrix_l = getEdgeSimilarityMatrixByAttr(G,'l')\n",
    "sc = getSchemaFromSimMatrix(G, node_sim_matrix_l, edge_sim_matrix_l,theta=0.5)\n",
    "sc.computeF1score(sc_gt,CONSIDER_EDGES=False,\n",
    "                    WEIGHTED=True,CONSIDER_EDGES_OF_SRC_TAR=False)"
   ]
  },
  {
   "cell_type": "code",
   "execution_count": 26,
   "metadata": {
    "collapsed": true
   },
   "outputs": [
    {
     "name": "stdout",
     "output_type": "stream",
     "text": [
      "computing node f1 score ignoredatatype False consider edges True\n",
      "duplicate TP count:  [1, 1, 1, 0, 1, 1, 1, 1, 1, 1, 1, 1, 0]\n",
      "tp:  11.0 fn: 2 fp:  1.0\n",
      "precision:  0.9166666666666666\n",
      "recall:  0.8461538461538461\n",
      "f1_score:  0.8799999999999999\n",
      "duplicate TP count:  [1, 1, 1, 1, 1, 1, 1, 1, 1, 1, 1, 1, 1]\n",
      "tp:  13.0 fn: 0 fp:  0.0\n",
      "precision:  1.0\n",
      "recall:  1.0\n",
      "f1_score:  1.0\n"
     ]
    },
    {
     "data": {
      "text/plain": [
       "(0.9166666666666666, 0.8461538461538461, 0.8799999999999999, 1.0, 1.0, 1.0)"
      ]
     },
     "execution_count": 26,
     "metadata": {},
     "output_type": "execute_result"
    }
   ],
   "source": [
    "# node_sim_matrix_p = getNodeSimilarityMatrixByAttr(G,'p')\n",
    "# edge_sim_matrix_p = getEdgeSimilarityMatrixByAttr(G,'p')\n",
    "# n_sim,e_sim = objectSimBased(G, node_sim_matrix_p, edge_sim_matrix_p, coef =[0.9]+[0.1],TOBO_BASED_ONLY = False)\n",
    "sc = getSchemaFromSimMatrix(G, node_sim_matrix_p, edge_sim_matrix_p,theta=0.9)\n",
    "sc.computeF1score(sc_gt,CONSIDER_EDGES=True,\n",
    "                    WEIGHTED=True,CONSIDER_EDGES_OF_SRC_TAR=False)"
   ]
  },
  {
   "cell_type": "code",
   "execution_count": 85,
   "metadata": {},
   "outputs": [
    {
     "name": "stdout",
     "output_type": "stream",
     "text": [
      "t 0.0 theta 0\n",
      "computing node f1 score ignoredatatype False consider edges True\n",
      "duplicate TP count:  [0, 0, 0, 0, 0, 0, 0, 0, 0, 0, 0, 0, 0]\n",
      "tp:  0 fn: 13 fp:  1\n",
      "precision:  0.0\n",
      "recall:  0.0\n",
      "f1_score:  0\n",
      "duplicate TP count:  [0, 0, 0, 0, 0, 0, 0, 0, 0, 0, 0, 0, 0]\n",
      "tp:  0 fn: 13 fp:  11\n",
      "precision:  0.0\n",
      "recall:  0.0\n",
      "f1_score:  0\n",
      "t 0.0 theta 1\n",
      "computing node f1 score ignoredatatype False consider edges True\n",
      "duplicate TP count:  [0, 0, 0, 0, 0, 0, 0, 0, 0, 0, 0, 0, 0]\n",
      "tp:  0 fn: 13 fp:  2\n",
      "precision:  0.0\n",
      "recall:  0.0\n",
      "f1_score:  0\n",
      "duplicate TP count:  [0, 0, 0, 0, 0, 0, 0, 0, 0, 0, 0, 0, 0]\n",
      "tp:  0 fn: 13 fp:  11\n",
      "precision:  0.0\n",
      "recall:  0.0\n",
      "f1_score:  0\n",
      "t 0.0 theta 2\n",
      "computing node f1 score ignoredatatype False consider edges True\n",
      "duplicate TP count:  [0, 0, 0, 0, 0, 1, 1, 0, 0, 0, 0, 0, 0]\n",
      "tp:  2.0 fn: 11 fp:  2.0\n",
      "precision:  0.5\n",
      "recall:  0.15384615384615385\n",
      "f1_score:  0.23529411764705882\n",
      "duplicate TP count:  [0, 0, 0, 0, 0, 0, 0, 0, 0, 0, 0, 1, 0]\n",
      "tp:  1.0 fn: 12 fp:  10.0\n",
      "precision:  0.09090909090909091\n",
      "recall:  0.07692307692307693\n",
      "f1_score:  0.08333333333333334\n",
      "t 0.0 theta 3\n",
      "computing node f1 score ignoredatatype False consider edges True\n",
      "duplicate TP count:  [0, 0, 0, 0, 0, 1, 1, 0, 1, 0, 0, 0, 0]\n",
      "tp:  3.0 fn: 10 fp:  5.0\n",
      "precision:  0.375\n",
      "recall:  0.23076923076923078\n",
      "f1_score:  0.2857142857142857\n",
      "duplicate TP count:  [0, 0, 0, 0, 0, 0, 0, 0, 0, 0, 0, 1, 0]\n",
      "tp:  1.0 fn: 12 fp:  10.0\n",
      "precision:  0.09090909090909091\n",
      "recall:  0.07692307692307693\n",
      "f1_score:  0.08333333333333334\n",
      "t 0.0 theta 4\n",
      "computing node f1 score ignoredatatype False consider edges True\n",
      "duplicate TP count:  [1, 1, 0, 0, 0, 1, 1, 0, 1, 0, 1, 1, 0]\n",
      "tp:  7.0 fn: 6 fp:  4.0\n",
      "precision:  0.6363636363636364\n",
      "recall:  0.5384615384615384\n",
      "f1_score:  0.5833333333333334\n",
      "duplicate TP count:  [1, 0, 1, 0, 0, 0, 0, 0, 0, 0, 0, 1, 0]\n",
      "tp:  3.0 fn: 10 fp:  10.0\n",
      "precision:  0.23076923076923078\n",
      "recall:  0.23076923076923078\n",
      "f1_score:  0.23076923076923078\n",
      "t 0.0 theta 5\n",
      "computing node f1 score ignoredatatype False consider edges True\n",
      "duplicate TP count:  [1, 1, 0, 0, 0, 1, 1, 0, 1, 0, 1, 1, 0]\n",
      "tp:  7.0 fn: 6 fp:  4.0\n",
      "precision:  0.6363636363636364\n",
      "recall:  0.5384615384615384\n",
      "f1_score:  0.5833333333333334\n",
      "duplicate TP count:  [1, 0, 1, 0, 0, 0, 0, 0, 0, 0, 0, 1, 0]\n",
      "tp:  3.0 fn: 10 fp:  10.0\n",
      "precision:  0.23076923076923078\n",
      "recall:  0.23076923076923078\n",
      "f1_score:  0.23076923076923078\n",
      "t 0.0 theta 6\n",
      "computing node f1 score ignoredatatype False consider edges True\n",
      "duplicate TP count:  [1, 1, 0, 0, 0, 1, 1, 0, 1, 0, 1, 1, 0]\n",
      "tp:  7.0 fn: 6 fp:  4.0\n",
      "precision:  0.6363636363636364\n",
      "recall:  0.5384615384615384\n",
      "f1_score:  0.5833333333333334\n",
      "duplicate TP count:  [1, 0, 1, 0, 0, 0, 0, 0, 0, 0, 0, 1, 0]\n",
      "tp:  3.0 fn: 10 fp:  10.0\n",
      "precision:  0.23076923076923078\n",
      "recall:  0.23076923076923078\n",
      "f1_score:  0.23076923076923078\n",
      "t 0.0 theta 7\n",
      "computing node f1 score ignoredatatype False consider edges True\n",
      "duplicate TP count:  [1, 1, 0, 0, 0, 1, 1, 0, 1, 0, 1, 1, 0]\n",
      "tp:  7.0 fn: 6 fp:  4.0\n",
      "precision:  0.6363636363636364\n",
      "recall:  0.5384615384615384\n",
      "f1_score:  0.5833333333333334\n",
      "duplicate TP count:  [1, 0, 1, 0, 0, 0, 0, 0, 0, 0, 0, 1, 0]\n",
      "tp:  3.0 fn: 10 fp:  10.0\n",
      "precision:  0.23076923076923078\n",
      "recall:  0.23076923076923078\n",
      "f1_score:  0.23076923076923078\n",
      "t 0.0 theta 8\n",
      "computing node f1 score ignoredatatype False consider edges True\n",
      "duplicate TP count:  [1, 1, 1, 0, 1, 1, 1, 0, 1, 0, 1, 1, 0]\n",
      "tp:  9.0 fn: 4 fp:  3.0\n",
      "precision:  0.75\n",
      "recall:  0.6923076923076923\n",
      "f1_score:  0.7199999999999999\n",
      "duplicate TP count:  [1, 0, 1, 1, 0, 0, 0, 0, 0, 0, 0, 1, 1]\n",
      "tp:  5.0 fn: 8 fp:  8.0\n",
      "precision:  0.38461538461538464\n",
      "recall:  0.38461538461538464\n",
      "f1_score:  0.38461538461538464\n",
      "t 0.0 theta 9\n",
      "computing node f1 score ignoredatatype False consider edges True\n",
      "duplicate TP count:  [1, 1, 1, 0, 1, 1, 1, 0, 1, 0, 1, 1, 0]\n",
      "tp:  9.0 fn: 4 fp:  3.0\n",
      "precision:  0.75\n",
      "recall:  0.6923076923076923\n",
      "f1_score:  0.7199999999999999\n",
      "duplicate TP count:  [1, 0, 1, 1, 0, 0, 0, 0, 0, 0, 0, 1, 1]\n",
      "tp:  5.0 fn: 8 fp:  8.0\n",
      "precision:  0.38461538461538464\n",
      "recall:  0.38461538461538464\n",
      "f1_score:  0.38461538461538464\n",
      "t 0.0 theta 10\n",
      "computing node f1 score ignoredatatype False consider edges True\n",
      "duplicate TP count:  [1, 1, 1, 0, 1, 1, 1, 0, 1, 0, 1, 1, 0]\n",
      "tp:  9.0 fn: 4 fp:  3.0\n",
      "precision:  0.75\n",
      "recall:  0.6923076923076923\n",
      "f1_score:  0.7199999999999999\n",
      "duplicate TP count:  [1, 0, 1, 1, 0, 0, 0, 0, 0, 0, 0, 1, 1]\n",
      "tp:  5.0 fn: 8 fp:  8.0\n",
      "precision:  0.38461538461538464\n",
      "recall:  0.38461538461538464\n",
      "f1_score:  0.38461538461538464\n"
     ]
    }
   ],
   "source": [
    "\n",
    "# node_sim_matrix = getNodeSimilarityMatrixByAttr(G,'l')\n",
    "# edge_sim_matrix = getEdgeSimilarityMatrixByAttr(G,'l')\n",
    "# node_sim_matrix, edge_sim_matrix = np.ones((len(G.nodes), len(G.nodes))), np.ones((len(G.edges), len(G.edges)))\n",
    "\n",
    "# G=G_gt\n",
    "# node_sim_matrix *= 0.4\n",
    "# edge_sim_matrix *= 0.4\n",
    "\n",
    "        \n",
    "def objectSimBased(G, node_sim_matrix=None, edge_sim_matrix=None, coef=[0.5,0.5],TOBO_BASED_ONLY = True):\n",
    "#     set_trace()\n",
    "    emap, cnt = {}, 0\n",
    "    for e in G.edges:\n",
    "        emap[e],cnt = cnt, cnt+1\n",
    "    \n",
    "    k_node = k_edge =  k = len(coef)-1\n",
    "    if coef[0]==0:\n",
    "        TOBO_BASED_ONLY = True\n",
    "    if TOBO_BASED_ONLY:\n",
    "        node_sim_matrix, edge_sim_matrix = np.ones((len(G.nodes), \\\n",
    "                            len(G.nodes))), np.ones((len(G.edges), len(G.edges)))\n",
    "    old_n = node_sim_matrix.copy()\n",
    "    old_e = edge_sim_matrix.copy()\n",
    "        \n",
    "    for level in range(k):\n",
    "        topo_node_sim = getTopoNodeSim(G, node_sim_matrix, edge_sim_matrix, emap,method='j')\n",
    "        topo_edge_sim = getTopoEdgeSim(G, node_sim_matrix, edge_sim_matrix, emap)\n",
    "        if TOBO_BASED_ONLY==True and level==0:\n",
    "            node_sim_matrix = topo_node_sim*coef[level+1]\n",
    "            edge_sim_matrix = topo_edge_sim*coef[level+1]\n",
    "        elif TOBO_BASED_ONLY == False and level==0:\n",
    "            node_sim_matrix = coef[0]*node_sim_matrix + coef[1]*topo_node_sim\n",
    "            edge_sim_matrix = coef[0]*edge_sim_matrix + coef[1]*topo_edge_sim\n",
    "        elif level>0:\n",
    "            node_sim_matrix += coef[level+1]/sum(coef[:level+1]) * topo_node_sim\n",
    "            edge_sim_matrix += coef[level+1]/sum(coef[:level+1]) * topo_edge_sim\n",
    "        old_n = node_sim_matrix.copy()\n",
    "        old_e = edge_sim_matrix.copy()\n",
    "    return node_sim_matrix, edge_sim_matrix\n",
    "\n",
    "n_f1_m = np.zeros((11,11))#{i*0.1+0.1:0 for i in range(10)}\n",
    "e_f1_m = np.zeros((11,11))# {i*0.1+0.1:0 for i in range(10)}\n",
    "\n",
    "# n_f1_m = {}\n",
    "# e_f1_m = {}\n",
    "for para in [10]:# range(11):\n",
    "    para *=0.1\n",
    "    k = 1\n",
    "    node_sim_matrix, edge_sim_matrix = node_sim_matrix_cp.copy(), edge_sim_matrix_cp.copy()\n",
    "    if para==1:\n",
    "        n_sim,e_sim = node_sim_matrix, edge_sim_matrix\n",
    "    else:\n",
    "        n_sim,e_sim = objectSimBased(G, node_sim_matrix, edge_sim_matrix, coef =[para]+[(1-para)/k]*k,TOBO_BASED_ONLY = False)\n",
    "    for l_p in range(11):\n",
    "        print('t',1-para,'theta',l_p)\n",
    "        l_p = 0.1*l_p\n",
    "#         t_p = 1-l_p\n",
    "    #         if level==0:\n",
    "    #             node_sim_matrix = coef[level] * topo_node_sim\n",
    "    #             edge_sim_matrix = coef[level] * topo_edge_sim\n",
    "    #         else:\n",
    "    #             node_sim_matrix += coef[level] * topo_node_sim\n",
    "    #             edge_sim_matrix += coef[level] * topo_edge_sim\n",
    "    #     sc = getSchemaFromSimMatrix(G, l_p*node_sim_matrix+t_p*topo_node_sim,\n",
    "    #                        l_p*edge_sim_matrix+t_p*topo_edge_sim)\n",
    "        if l_p==1:\n",
    "            sc = getSchemaFromSimMatrix(G, n_sim, e_sim,theta=0.99)\n",
    "        else:\n",
    "            sc = getSchemaFromSimMatrix(G, n_sim, e_sim,theta=l_p)\n",
    "\n",
    "    #     print(l_p,np.unique(topo_edge_sim,return_counts=True))\n",
    "    #     if l_p==1:\n",
    "    #         sc = getSchemaFromSimMatrix(l_p*node_sim_matrix+t_p*topo_node_sim,\n",
    "    #                            l_p*edge_sim_matrix)        \n",
    "        n_p,n_r,n_f1,e_p,e_r,e_f1 = sc.computeF1score(sc_gt,CONSIDER_EDGES=True,\n",
    "                                    WEIGHTED=True,CONSIDER_EDGES_OF_SRC_TAR=True)\n",
    "#         n_f1_m[l_p]=[n_p,n_r,n_f1,e_p,e_r,e_f1]\n",
    "        n_f1_m[int(para*10),int(l_p*10)] = n_f1\n",
    "        e_f1_m[int(para*10),int(l_p*10)] = e_f1\n",
    "#         n_f1_m[k] = [n_f1,len(sc.nodetypeset)]\n",
    "#         e_f1_m[k] = [e_f1, len(sc.edgetypeset)]\n",
    "    #     e_f1_m[l_p]=[]\n"
   ]
  },
  {
   "cell_type": "code",
   "execution_count": 77,
   "metadata": {},
   "outputs": [],
   "source": [
    "# n_sim,e_sim = objectSimBased(G, node_sim_matrix, edge_sim_matrix, coef =[0]+[1/40]*40,TOBO_BASED_ONLY = True)\n",
    "# sc = getSchemaFromSimMatrix(G, n_sim, e_sim,theta=l_p)\n",
    "# n_f1_m,e_f1_m\n"
   ]
  },
  {
   "cell_type": "code",
   "execution_count": 86,
   "metadata": {
    "scrolled": true
   },
   "outputs": [
    {
     "data": {
      "image/png": "[encoded data removed]",
      "text/plain": [
       "<Figure size 432x288 with 2 Axes>"
      ]
     },
     "metadata": {
      "needs_background": "light"
     },
     "output_type": "display_data"
    },
    {
     "data": {
      "text/plain": [
       "[Text(33.0, 0.5, 'attr'),\n",
       " Text(0.5, 15.0, 'theta'),\n",
       " Text(0.5, 1.0, 'Edge F1 score')]"
      ]
     },
     "execution_count": 86,
     "metadata": {},
     "output_type": "execute_result"
    },
    {
     "data": {
      "image/png": "[encoded data removed]",
      "text/plain": [
       "<Figure size 432x288 with 2 Axes>"
      ]
     },
     "metadata": {
      "needs_background": "light"
     },
     "output_type": "display_data"
    }
   ],
   "source": [
    "# print(n_f1_m,e_f1_m)\n",
    "# sc = getSchemaFromSimMatrix(G, node_sim_matrix, edge_sim_matrix)\n",
    "# sc.computeF1score(sc_gt,CONSIDER_EDGES=True,\n",
    "#                                 WEIGHTED=True,CONSIDER_EDGES_OF_SRC_TAR=True,PRINT=False)\n",
    "# len(sc.nodetypeset),len(sc.edgetypeset)\n",
    "# for i in n_f1_m:\n",
    "#     print(i, [round(j,2) for j in n_f1_m[i]])\n",
    "# sc.print()\n",
    "#     print(l_p,np.unique(topo_node_sim,return_counts=True))\n",
    "#     print(l_p,np.unique(topo_edge_sim,return_counts=True))\n",
    "#     if l_p==1:\n",
    "#         sc = getSchemaFromSimMatrix(l_p*node_sim_matrix+t_p*topo_node_sim,\n",
    "#                            l_p*edge_sim_matrix)        \n",
    "# node_sim_matrix\n",
    "x_axis_labels = [round(i*0.1,2) for i in range(11)]\n",
    "ax = sns.heatmap(n_f1_m,cmap='YlGnBu',xticklabels=x_axis_labels, yticklabels=x_axis_labels,annot=True)\n",
    "ax.set(title=\"Node F1 score\",\n",
    "      xlabel=\"theta\",\n",
    "      ylabel=mode,)\n",
    "plt.show()\n",
    "ax2 = sns.heatmap(e_f1_m,cmap='YlGnBu',xticklabels=x_axis_labels, yticklabels=x_axis_labels,annot=True)\n",
    "ax2.set(title=\"Edge F1 score\",\n",
    "      xlabel=\"theta\",\n",
    "      ylabel=mode)"
   ]
  },
  {
   "cell_type": "code",
   "execution_count": 92,
   "metadata": {},
   "outputs": [],
   "source": [
    "# prop_sc.computeF1score(sc_gt,CONSIDER_EDGES=True,\n",
    "#                                 WEIGHTED=True,CONSIDER_EDGES_OF_SRC_TAR=True,PRINT=False)\n"
   ]
  },
  {
   "cell_type": "code",
   "execution_count": 106,
   "metadata": {},
   "outputs": [
    {
     "data": {
      "text/plain": [
       "[0,\n",
       " 0,\n",
       " 0,\n",
       " 0,\n",
       " 1,\n",
       " 0,\n",
       " 0,\n",
       " 0,\n",
       " 0,\n",
       " 0,\n",
       " 0,\n",
       " 0,\n",
       " 0,\n",
       " 0,\n",
       " 0,\n",
       " 0,\n",
       " 0,\n",
       " 0,\n",
       " 0,\n",
       " 0,\n",
       " 0,\n",
       " 0,\n",
       " 0,\n",
       " 0,\n",
       " 0,\n",
       " 0,\n",
       " 0,\n",
       " 0]"
      ]
     },
     "execution_count": 106,
     "metadata": {},
     "output_type": "execute_result"
    }
   ],
   "source": [
    "G_gt = nx.MultiDiGraph()\n",
    "G_gt.add_nodes_from([(index, nt.attributes) for index, nt in enumerate(sc_gt.nodetypeset.nodetypes)])\n",
    "edge_type_list = []\n",
    "for et in sc_gt.edgetypeset.edgetypes:\n",
    "    src = findWithIs(sc_gt.nodetypeset.nodetypes, et.src_type)\n",
    "    tar = findWithIs(sc_gt.nodetypeset.nodetypes, et.target_type)\n",
    "    edge_type_list.append((src, tar, et.attributes))\n",
    "G_gt.add_edges_from(edge_type_list)"
   ]
  },
  {
   "cell_type": "code",
   "execution_count": 97,
   "metadata": {},
   "outputs": [
    {
     "data": {
      "text/plain": [
       "<networkx.classes.multigraph.MultiGraph at 0x139b0ab0>"
      ]
     },
     "execution_count": 97,
     "metadata": {},
     "output_type": "execute_result"
    }
   ],
   "source": [
    "G_gt"
   ]
  },
  {
   "cell_type": "code",
   "execution_count": 88,
   "metadata": {},
   "outputs": [
    {
     "name": "stdout",
     "output_type": "stream",
     "text": [
      "computing node f1 score ignoredatatype False consider edges True\n",
      "FALSE POSITIVE\n",
      "------------Content Type----------------\n",
      "name     str            \n",
      "url      str            \n",
      "id       int            \n",
      "incoming edges\n",
      "{'STUDY_AT': {<class 'ElementType.LBL'>}, 'classYear': {<class 'int'>}}\n",
      "{'WORK_AT': {<class 'ElementType.LBL'>}, 'workFrom': {<class 'int'>}}\n",
      "outgoing  edges\n",
      "{'IS_LOCATED_IN': {<class 'ElementType.LBL'>}}\n",
      "FALSE POSITIVE\n",
      "------------Content Type----------------\n",
      "creationDate int            \n",
      "browserUsed str            \n",
      "locationIP str            \n",
      "content  str            \n",
      "length   int            \n",
      "id       int            \n",
      "language? str            \n",
      "imageFile? str            \n",
      "incoming edges\n",
      "{'REPLY_OF': {<class 'ElementType.LBL'>}}\n",
      "{'CONTAINER_OF': {<class 'ElementType.LBL'>}}\n",
      "{'LIKES': {<class 'ElementType.LBL'>}, 'creationDate': {<class 'str'>}}\n",
      "outgoing  edges\n",
      "{'REPLY_OF': {<class 'ElementType.LBL'>}}\n",
      "{'HAS_TAG': {<class 'ElementType.LBL'>}}\n",
      "{'HAS_CREATOR': {<class 'ElementType.LBL'>}}\n",
      "{'IS_LOCATED_IN': {<class 'ElementType.LBL'>}}\n",
      "false negative\n",
      "------------Content Type----------------\n",
      "name?    str            \n",
      "url?     str            \n",
      "id?      int            \n",
      "incoming edges\n",
      "outgoing  edges\n",
      "false negative\n",
      "------------Content Type----------------\n",
      "name?    str            \n",
      "url?     str            \n",
      "id?      int            \n",
      "incoming edges\n",
      "{'IS_LOCATED_IN': {<class 'ElementType.LBL'>}}\n",
      "outgoing  edges\n",
      "{'IS_PART_OF': {<class 'ElementType.LBL'>}}\n",
      "false negative\n",
      "------------Content Type----------------\n",
      "name?    str            \n",
      "url?     str            \n",
      "id?      int            \n",
      "incoming edges\n",
      "{'IS_PART_OF': {<class 'ElementType.LBL'>}}\n",
      "outgoing  edges\n",
      "false negative\n",
      "------------Content Type----------------\n",
      "name?    str            \n",
      "url?     str            \n",
      "id?      int            \n",
      "incoming edges\n",
      "outgoing  edges\n",
      "false negative\n",
      "------------Content Type----------------\n",
      "name?    str            \n",
      "url?     str            \n",
      "id?      int            \n",
      "incoming edges\n",
      "{'STUDY_AT': {<class 'ElementType.LBL'>}, 'classYear': {<class 'int'>}}\n",
      "outgoing  edges\n",
      "{'IS_LOCATED_IN': {<class 'ElementType.LBL'>}}\n",
      "false negative\n",
      "------------Content Type----------------\n",
      "name?    str            \n",
      "url?     str            \n",
      "id?      int            \n",
      "incoming edges\n",
      "{'WORK_AT': {<class 'ElementType.LBL'>}, 'workFrom': {<class 'int'>}}\n",
      "outgoing  edges\n",
      "{'IS_LOCATED_IN': {<class 'ElementType.LBL'>}}\n",
      "false negative\n",
      "------------Content Type----------------\n",
      "creationDate? int            \n",
      "browserUsed? str            \n",
      "locationIP? str            \n",
      "content? str            \n",
      "length?  int            \n",
      "id?      int            \n",
      "incoming edges\n",
      "{'LIKES': {<class 'ElementType.LBL'>}, 'creationDate': {<class 'str'>}}\n",
      "{'REPLY_OF': {<class 'ElementType.LBL'>}}\n",
      "outgoing  edges\n",
      "{'HAS_TAG': {<class 'ElementType.LBL'>}}\n",
      "{'HAS_CREATOR': {<class 'ElementType.LBL'>}}\n",
      "{'IS_LOCATED_IN': {<class 'ElementType.LBL'>}}\n",
      "false negative\n",
      "------------Content Type----------------\n",
      "creationDate? int            \n",
      "browserUsed? str            \n",
      "locationIP? str            \n",
      "content? str            \n",
      "length?  int            \n",
      "id?      int            \n",
      "incoming edges\n",
      "{'LIKES': {<class 'ElementType.LBL'>}, 'creationDate': {<class 'str'>}}\n",
      "{'REPLY_OF': {<class 'ElementType.LBL'>}}\n",
      "outgoing  edges\n",
      "{'REPLY_OF': {<class 'ElementType.LBL'>}}\n",
      "{'HAS_TAG': {<class 'ElementType.LBL'>}}\n",
      "{'HAS_CREATOR': {<class 'ElementType.LBL'>}}\n",
      "{'IS_LOCATED_IN': {<class 'ElementType.LBL'>}}\n",
      "false negative\n",
      "------------Content Type----------------\n",
      "creationDate? int            \n",
      "browserUsed? str            \n",
      "locationIP? str            \n",
      "content? str            \n",
      "length?  int            \n",
      "language? str            \n",
      "imageFile? str            \n",
      "id?      int            \n",
      "incoming edges\n",
      "{'CONTAINER_OF': {<class 'ElementType.LBL'>}}\n",
      "{'LIKES': {<class 'ElementType.LBL'>}, 'creationDate': {<class 'str'>}}\n",
      "{'REPLY_OF': {<class 'ElementType.LBL'>}}\n",
      "outgoing  edges\n",
      "{'HAS_TAG': {<class 'ElementType.LBL'>}}\n",
      "{'HAS_CREATOR': {<class 'ElementType.LBL'>}}\n",
      "{'IS_LOCATED_IN': {<class 'ElementType.LBL'>}}\n",
      "duplicate TP count:  [0, 0, 1, 0, 0, 0, 0, 1, 1, 1, 1, 0, 0, 0]\n",
      "tp:  5.0 fn: 9 fp:  2.0\n",
      "FALSE POSITIVE\n",
      "source\n",
      "------------Content Type----------------\n",
      "name     str            \n",
      "url      str            \n",
      "id       int            \n",
      "edge\n",
      "------------Content Type----------------\n",
      "IS_PART_OF LBL            \n",
      "target\n",
      "------------Content Type----------------\n",
      "name     str            \n",
      "url      str            \n",
      "id       int            \n",
      "FALSE POSITIVE\n",
      "source\n",
      "------------Content Type----------------\n",
      "name     str            \n",
      "url      str            \n",
      "id       int            \n",
      "edge\n",
      "------------Content Type----------------\n",
      "IS_LOCATED_IN LBL            \n",
      "target\n",
      "------------Content Type----------------\n",
      "name     str            \n",
      "url      str            \n",
      "id       int            \n",
      "FALSE POSITIVE\n",
      "source\n",
      "------------Content Type----------------\n",
      "creationDate int            \n",
      "firstName str            \n",
      "lastName str            \n",
      "gender   str            \n",
      "birthday int            \n",
      "email    list           \n",
      "speaks   list           \n",
      "browserUsed str            \n",
      "locationIP str            \n",
      "id       int            \n",
      "edge\n",
      "------------Content Type----------------\n",
      "IS_LOCATED_IN LBL            \n",
      "target\n",
      "------------Content Type----------------\n",
      "name     str            \n",
      "url      str            \n",
      "id       int            \n",
      "FALSE POSITIVE\n",
      "source\n",
      "------------Content Type----------------\n",
      "creationDate int            \n",
      "browserUsed str            \n",
      "locationIP str            \n",
      "content  str            \n",
      "length   int            \n",
      "id       int            \n",
      "language? str            \n",
      "imageFile? str            \n",
      "edge\n",
      "------------Content Type----------------\n",
      "IS_LOCATED_IN LBL            \n",
      "target\n",
      "------------Content Type----------------\n",
      "name     str            \n",
      "url      str            \n",
      "id       int            \n",
      "FALSE POSITIVE\n",
      "source\n",
      "------------Content Type----------------\n",
      "creationDate int            \n",
      "firstName str            \n",
      "lastName str            \n",
      "gender   str            \n",
      "birthday int            \n",
      "email    list           \n",
      "speaks   list           \n",
      "browserUsed str            \n",
      "locationIP str            \n",
      "id       int            \n",
      "edge\n",
      "------------Content Type----------------\n",
      "STUDY_AT LBL            \n",
      "classYear int            \n",
      "target\n",
      "------------Content Type----------------\n",
      "name     str            \n",
      "url      str            \n",
      "id       int            \n",
      "FALSE POSITIVE\n",
      "source\n",
      "------------Content Type----------------\n",
      "creationDate int            \n",
      "firstName str            \n",
      "lastName str            \n",
      "gender   str            \n",
      "birthday int            \n",
      "email    list           \n",
      "speaks   list           \n",
      "browserUsed str            \n",
      "locationIP str            \n",
      "id       int            \n",
      "edge\n",
      "------------Content Type----------------\n",
      "WORK_AT  LBL            \n",
      "workFrom int            \n",
      "target\n",
      "------------Content Type----------------\n",
      "name     str            \n",
      "url      str            \n",
      "id       int            \n",
      "FALSE POSITIVE\n",
      "source\n",
      "------------Content Type----------------\n",
      "creationDate int            \n",
      "firstName str            \n",
      "lastName str            \n",
      "gender   str            \n",
      "birthday int            \n",
      "email    list           \n",
      "speaks   list           \n",
      "browserUsed str            \n",
      "locationIP str            \n",
      "id       int            \n",
      "edge\n",
      "------------Content Type----------------\n",
      "LIKES    LBL            \n",
      "creationDate str            \n",
      "target\n",
      "------------Content Type----------------\n",
      "creationDate int            \n",
      "browserUsed str            \n",
      "locationIP str            \n",
      "content  str            \n",
      "length   int            \n",
      "id       int            \n",
      "language? str            \n",
      "imageFile? str            \n",
      "FALSE POSITIVE\n",
      "source\n",
      "------------Content Type----------------\n",
      "creationDate int            \n",
      "title    str            \n",
      "id       int            \n",
      "edge\n",
      "------------Content Type----------------\n",
      "CONTAINER_OF LBL            \n",
      "target\n",
      "------------Content Type----------------\n",
      "creationDate int            \n",
      "browserUsed str            \n",
      "locationIP str            \n",
      "content  str            \n",
      "length   int            \n",
      "id       int            \n",
      "language? str            \n",
      "imageFile? str            \n",
      "FALSE POSITIVE\n",
      "source\n",
      "------------Content Type----------------\n",
      "creationDate int            \n",
      "browserUsed str            \n",
      "locationIP str            \n",
      "content  str            \n",
      "length   int            \n",
      "id       int            \n",
      "language? str            \n",
      "imageFile? str            \n",
      "edge\n",
      "------------Content Type----------------\n",
      "HAS_TAG  LBL            \n",
      "target\n",
      "------------Content Type----------------\n",
      "name     str            \n",
      "url      str            \n",
      "id       int            \n",
      "FALSE POSITIVE\n",
      "source\n",
      "------------Content Type----------------\n",
      "creationDate int            \n",
      "browserUsed str            \n",
      "locationIP str            \n",
      "content  str            \n",
      "length   int            \n",
      "id       int            \n",
      "language? str            \n",
      "imageFile? str            \n",
      "edge\n",
      "------------Content Type----------------\n",
      "HAS_CREATOR LBL            \n",
      "target\n",
      "------------Content Type----------------\n",
      "creationDate int            \n",
      "firstName str            \n",
      "lastName str            \n",
      "gender   str            \n",
      "birthday int            \n",
      "email    list           \n",
      "speaks   list           \n",
      "browserUsed str            \n",
      "locationIP str            \n",
      "id       int            \n",
      "FALSE POSITIVE\n",
      "source\n",
      "------------Content Type----------------\n",
      "creationDate int            \n",
      "browserUsed str            \n",
      "locationIP str            \n",
      "content  str            \n",
      "length   int            \n",
      "id       int            \n",
      "language? str            \n",
      "imageFile? str            \n",
      "edge\n",
      "------------Content Type----------------\n",
      "REPLY_OF LBL            \n",
      "target\n",
      "------------Content Type----------------\n",
      "creationDate int            \n",
      "browserUsed str            \n",
      "locationIP str            \n",
      "content  str            \n",
      "length   int            \n",
      "id       int            \n",
      "language? str            \n",
      "imageFile? str            \n",
      "FALSE NEGATIVE\n",
      "source\n",
      "------------Content Type----------------\n",
      "creationDate? int            \n",
      "title?   str            \n",
      "id?      int            \n",
      "edge\n",
      "------------Content Type----------------\n",
      "CONTAINER_OF? LBL            \n",
      "target\n",
      "------------Content Type----------------\n",
      "creationDate? int            \n",
      "browserUsed? str            \n",
      "locationIP? str            \n",
      "content? str            \n",
      "length?  int            \n",
      "language? str            \n",
      "imageFile? str            \n",
      "id?      int            \n",
      "FALSE NEGATIVE\n",
      "source\n",
      "------------Content Type----------------\n",
      "creationDate? int            \n",
      "browserUsed? str            \n",
      "locationIP? str            \n",
      "content? str            \n",
      "length?  int            \n",
      "id?      int            \n",
      "edge\n",
      "------------Content Type----------------\n",
      "HAS_CREATOR? LBL            \n",
      "target\n",
      "------------Content Type----------------\n",
      "creationDate? int            \n",
      "firstName? str            \n",
      "lastName? str            \n",
      "gender?  str            \n",
      "birthday? int            \n",
      "email?   list           \n",
      "speaks?  list           \n",
      "browserUsed? str            \n",
      "locationIP? str            \n",
      "id?      int            \n",
      "FALSE NEGATIVE\n",
      "source\n",
      "------------Content Type----------------\n",
      "creationDate? int            \n",
      "browserUsed? str            \n",
      "locationIP? str            \n",
      "content? str            \n",
      "length?  int            \n",
      "id?      int            \n",
      "edge\n",
      "------------Content Type----------------\n",
      "HAS_TAG? LBL            \n",
      "target\n",
      "------------Content Type----------------\n",
      "name?    str            \n",
      "url?     str            \n",
      "id?      int            \n",
      "FALSE NEGATIVE\n",
      "source\n",
      "------------Content Type----------------\n",
      "name?    str            \n",
      "url?     str            \n",
      "id?      int            \n",
      "edge\n",
      "------------Content Type----------------\n",
      "IS_LOCATED_IN? LBL            \n",
      "target\n",
      "------------Content Type----------------\n",
      "name?    str            \n",
      "url?     str            \n",
      "id?      int            \n",
      "FALSE NEGATIVE\n",
      "source\n",
      "------------Content Type----------------\n",
      "creationDate? int            \n",
      "browserUsed? str            \n",
      "locationIP? str            \n",
      "content? str            \n",
      "length?  int            \n",
      "id?      int            \n",
      "edge\n",
      "------------Content Type----------------\n",
      "IS_LOCATED_IN? LBL            \n",
      "target\n",
      "------------Content Type----------------\n",
      "name?    str            \n",
      "url?     str            \n",
      "id?      int            \n",
      "FALSE NEGATIVE\n",
      "source\n",
      "------------Content Type----------------\n",
      "creationDate? int            \n",
      "firstName? str            \n",
      "lastName? str            \n",
      "gender?  str            \n",
      "birthday? int            \n",
      "email?   list           \n",
      "speaks?  list           \n",
      "browserUsed? str            \n",
      "locationIP? str            \n",
      "id?      int            \n",
      "edge\n",
      "------------Content Type----------------\n",
      "IS_LOCATED_IN? LBL            \n",
      "target\n",
      "------------Content Type----------------\n",
      "name?    str            \n",
      "url?     str            \n",
      "id?      int            \n",
      "FALSE NEGATIVE\n",
      "source\n",
      "------------Content Type----------------\n",
      "name?    str            \n",
      "url?     str            \n",
      "id?      int            \n",
      "edge\n",
      "------------Content Type----------------\n",
      "IS_LOCATED_IN? LBL            \n",
      "target\n",
      "------------Content Type----------------\n",
      "name?    str            \n",
      "url?     str            \n",
      "id?      int            \n",
      "FALSE NEGATIVE\n",
      "source\n",
      "------------Content Type----------------\n",
      "name?    str            \n",
      "url?     str            \n",
      "id?      int            \n",
      "edge\n",
      "------------Content Type----------------\n",
      "IS_PART_OF? LBL            \n",
      "target\n",
      "------------Content Type----------------\n",
      "name?    str            \n",
      "url?     str            \n",
      "id?      int            \n",
      "FALSE NEGATIVE\n",
      "source\n",
      "------------Content Type----------------\n",
      "name?    str            \n",
      "url?     str            \n",
      "id?      int            \n",
      "edge\n",
      "------------Content Type----------------\n",
      "IS_PART_OF? LBL            \n",
      "target\n",
      "------------Content Type----------------\n",
      "name?    str            \n",
      "url?     str            \n",
      "id?      int            \n",
      "FALSE NEGATIVE\n",
      "source\n",
      "------------Content Type----------------\n",
      "creationDate? int            \n",
      "firstName? str            \n",
      "lastName? str            \n",
      "gender?  str            \n",
      "birthday? int            \n",
      "email?   list           \n",
      "speaks?  list           \n",
      "browserUsed? str            \n",
      "locationIP? str            \n",
      "id?      int            \n",
      "edge\n",
      "------------Content Type----------------\n",
      "LIKES?   LBL            \n",
      "creationDate? str            \n",
      "target\n",
      "------------Content Type----------------\n",
      "creationDate? int            \n",
      "browserUsed? str            \n",
      "locationIP? str            \n",
      "content? str            \n",
      "length?  int            \n",
      "id?      int            \n",
      "FALSE NEGATIVE\n",
      "source\n",
      "------------Content Type----------------\n",
      "creationDate? int            \n",
      "browserUsed? str            \n",
      "locationIP? str            \n",
      "content? str            \n",
      "length?  int            \n",
      "id?      int            \n",
      "edge\n",
      "------------Content Type----------------\n",
      "REPLY_OF? LBL            \n",
      "target\n",
      "------------Content Type----------------\n",
      "creationDate? int            \n",
      "browserUsed? str            \n",
      "locationIP? str            \n",
      "content? str            \n",
      "length?  int            \n",
      "id?      int            \n",
      "FALSE NEGATIVE\n",
      "source\n",
      "------------Content Type----------------\n",
      "creationDate? int            \n",
      "firstName? str            \n",
      "lastName? str            \n",
      "gender?  str            \n",
      "birthday? int            \n",
      "email?   list           \n",
      "speaks?  list           \n",
      "browserUsed? str            \n",
      "locationIP? str            \n",
      "id?      int            \n",
      "edge\n",
      "------------Content Type----------------\n",
      "STUDY_AT? LBL            \n",
      "classYear? int            \n",
      "target\n",
      "------------Content Type----------------\n",
      "name?    str            \n",
      "url?     str            \n",
      "id?      int            \n",
      "FALSE NEGATIVE\n",
      "source\n",
      "------------Content Type----------------\n",
      "creationDate? int            \n",
      "firstName? str            \n",
      "lastName? str            \n",
      "gender?  str            \n",
      "birthday? int            \n",
      "email?   list           \n",
      "speaks?  list           \n",
      "browserUsed? str            \n",
      "locationIP? str            \n",
      "id?      int            \n",
      "edge\n",
      "------------Content Type----------------\n",
      "WORK_AT? LBL            \n",
      "workFrom? int            \n",
      "target\n",
      "------------Content Type----------------\n",
      "name?    str            \n",
      "url?     str            \n",
      "id?      int            \n",
      "FALSE NEGATIVE\n",
      "source\n",
      "------------Content Type----------------\n",
      "creationDate? int            \n",
      "browserUsed? str            \n",
      "locationIP? str            \n",
      "content? str            \n",
      "length?  int            \n",
      "language? str            \n",
      "imageFile? str            \n",
      "id?      int            \n",
      "edge\n",
      "------------Content Type----------------\n",
      "IS_LOCATED_IN? LBL            \n",
      "target\n",
      "------------Content Type----------------\n",
      "name?    str            \n",
      "url?     str            \n",
      "id?      int            \n",
      "FALSE NEGATIVE\n",
      "source\n",
      "------------Content Type----------------\n",
      "creationDate? int            \n",
      "browserUsed? str            \n",
      "locationIP? str            \n",
      "content? str            \n",
      "length?  int            \n",
      "id?      int            \n",
      "edge\n",
      "------------Content Type----------------\n",
      "IS_LOCATED_IN? LBL            \n",
      "target\n",
      "------------Content Type----------------\n",
      "name?    str            \n",
      "url?     str            \n",
      "id?      int            \n",
      "FALSE NEGATIVE\n",
      "source\n",
      "------------Content Type----------------\n",
      "creationDate? int            \n",
      "firstName? str            \n",
      "lastName? str            \n",
      "gender?  str            \n",
      "birthday? int            \n",
      "email?   list           \n",
      "speaks?  list           \n",
      "browserUsed? str            \n",
      "locationIP? str            \n",
      "id?      int            \n",
      "edge\n",
      "------------Content Type----------------\n",
      "LIKES?   LBL            \n",
      "creationDate? str            \n",
      "target\n",
      "------------Content Type----------------\n",
      "creationDate? int            \n",
      "browserUsed? str            \n",
      "locationIP? str            \n",
      "content? str            \n",
      "length?  int            \n",
      "language? str            \n",
      "imageFile? str            \n",
      "id?      int            \n",
      "FALSE NEGATIVE\n",
      "source\n",
      "------------Content Type----------------\n",
      "creationDate? int            \n",
      "firstName? str            \n",
      "lastName? str            \n",
      "gender?  str            \n",
      "birthday? int            \n",
      "email?   list           \n",
      "speaks?  list           \n",
      "browserUsed? str            \n",
      "locationIP? str            \n",
      "id?      int            \n",
      "edge\n",
      "------------Content Type----------------\n",
      "LIKES?   LBL            \n",
      "creationDate? str            \n",
      "target\n",
      "------------Content Type----------------\n",
      "creationDate? int            \n",
      "browserUsed? str            \n",
      "locationIP? str            \n",
      "content? str            \n",
      "length?  int            \n",
      "id?      int            \n",
      "FALSE NEGATIVE\n",
      "source\n",
      "------------Content Type----------------\n",
      "creationDate? int            \n",
      "browserUsed? str            \n",
      "locationIP? str            \n",
      "content? str            \n",
      "length?  int            \n",
      "language? str            \n",
      "imageFile? str            \n",
      "id?      int            \n",
      "edge\n",
      "------------Content Type----------------\n",
      "HAS_CREATOR? LBL            \n",
      "target\n",
      "------------Content Type----------------\n",
      "creationDate? int            \n",
      "firstName? str            \n",
      "lastName? str            \n",
      "gender?  str            \n",
      "birthday? int            \n",
      "email?   list           \n",
      "speaks?  list           \n",
      "browserUsed? str            \n",
      "locationIP? str            \n",
      "id?      int            \n",
      "FALSE NEGATIVE\n",
      "source\n",
      "------------Content Type----------------\n",
      "creationDate? int            \n",
      "browserUsed? str            \n",
      "locationIP? str            \n",
      "content? str            \n",
      "length?  int            \n",
      "id?      int            \n",
      "edge\n",
      "------------Content Type----------------\n",
      "HAS_CREATOR? LBL            \n",
      "target\n",
      "------------Content Type----------------\n",
      "creationDate? int            \n",
      "firstName? str            \n",
      "lastName? str            \n",
      "gender?  str            \n",
      "birthday? int            \n",
      "email?   list           \n",
      "speaks?  list           \n",
      "browserUsed? str            \n",
      "locationIP? str            \n",
      "id?      int            \n",
      "FALSE NEGATIVE\n",
      "source\n",
      "------------Content Type----------------\n",
      "creationDate? int            \n",
      "browserUsed? str            \n",
      "locationIP? str            \n",
      "content? str            \n",
      "length?  int            \n",
      "language? str            \n",
      "imageFile? str            \n",
      "id?      int            \n",
      "edge\n",
      "------------Content Type----------------\n",
      "HAS_TAG? LBL            \n",
      "target\n",
      "------------Content Type----------------\n",
      "name?    str            \n",
      "url?     str            \n",
      "id?      int            \n",
      "FALSE NEGATIVE\n",
      "source\n",
      "------------Content Type----------------\n",
      "creationDate? int            \n",
      "browserUsed? str            \n",
      "locationIP? str            \n",
      "content? str            \n",
      "length?  int            \n",
      "id?      int            \n",
      "edge\n",
      "------------Content Type----------------\n",
      "HAS_TAG? LBL            \n",
      "target\n",
      "------------Content Type----------------\n",
      "name?    str            \n",
      "url?     str            \n",
      "id?      int            \n"
     ]
    },
    {
     "name": "stdout",
     "output_type": "stream",
     "text": [
      "duplicate TP count:  [0, 0, 1, 1, 1, 0, 1, 1, 0, 0, 0, 0, 0, 0, 1, 1, 0, 0, 0, 0, 0, 0, 0, 0, 0, 0, 0, 0]\n",
      "tp:  7.0 fn: 21 fp:  11.0\n"
     ]
    },
    {
     "data": {
      "text/plain": [
       "(0.7142857142857143,\n",
       " 0.35714285714285715,\n",
       " 0.4761904761904762,\n",
       " 0.3888888888888889,\n",
       " 0.25,\n",
       " 0.30434782608695654)"
      ]
     },
     "execution_count": 88,
     "metadata": {},
     "output_type": "execute_result"
    }
   ],
   "source": [
    "# for i in label_sc.nodetypeset:\n",
    "#     i.print(True)\n",
    "mix_sc.computeF1score(sc_gt,CONSIDER_EDGES=True,\n",
    "                                WEIGHTED=True,CONSIDER_EDGES_OF_SRC_TAR=True,PRINT=False, ANALYSE_MODE=True)\n",
    "# label_sc.print()"
   ]
  },
  {
   "cell_type": "code",
   "execution_count": 28,
   "metadata": {},
   "outputs": [
    {
     "data": {
      "text/plain": [
       "<matplotlib.axes._subplots.AxesSubplot at 0x11c53310>"
      ]
     },
     "execution_count": 28,
     "metadata": {},
     "output_type": "execute_result"
    },
    {
     "data": {
      "image/png": "[encoded data removed]",
      "text/plain": [
       "<Figure size 432x288 with 2 Axes>"
      ]
     },
     "metadata": {
      "needs_background": "light"
     },
     "output_type": "display_data"
    }
   ],
   "source": [
    "import seaborn as sns\n",
    "# n_f1_m,e_f1_m\n",
    "# n_p,n_r,n_f1,e_p,e_r,e_f1\n",
    "# l_p=0.6, t_p=0.4\n",
    "# sc = getSchemaFromSimMatrix(l_p*node_sim_matrix+t_p*topo_node_sim,\n",
    "#                    l_p*edge_sim_matrix+t_p*topo_edge_sim)\n",
    "# np.unique(topo_node_sim,return_counts=True)\n",
    "# np.unique(topo_node_sim, return_counts=True)\n",
    "sns.heatmap(topo_node_sim,cmap=\"YlGnBu\")\n",
    "# %debug computeSim(in_edges_i,\\\n",
    "#                        in_edges_j, edge_sim_matrix,method='e')"
   ]
  },
  {
   "cell_type": "code",
   "execution_count": 32,
   "metadata": {},
   "outputs": [
    {
     "data": {
      "text/plain": [
       "<matplotlib.axes._subplots.AxesSubplot at 0x12046a90>"
      ]
     },
     "execution_count": 32,
     "metadata": {},
     "output_type": "execute_result"
    },
    {
     "data": {
      "image/png": "[encoded data removed]",
      "text/plain": [
       "<Figure size 432x288 with 2 Axes>"
      ]
     },
     "metadata": {
      "needs_background": "light"
     },
     "output_type": "display_data"
    }
   ],
   "source": [
    "sns.heatmap(node_sim_matrix,cmap=\"YlGnBu\")"
   ]
  },
  {
   "cell_type": "code",
   "execution_count": 21,
   "metadata": {},
   "outputs": [
    {
     "data": {
      "text/plain": [
       "{0.1: 0.05563562986451428,\n",
       " 0.2: 0.05563562986451428,\n",
       " 0.30000000000000004: 0.09387755102040816,\n",
       " 0.4: 0.09387755102040816,\n",
       " 0.5: 0.1197604790419162,\n",
       " 0.6: 0.44,\n",
       " 0.7000000000000001: 0.44,\n",
       " 0.8: 0.15384615384615383,\n",
       " 0.9: 0.15384615384615383,\n",
       " 1.0: 0.4074074074074074}"
      ]
     },
     "execution_count": 21,
     "metadata": {},
     "output_type": "execute_result"
    }
   ],
   "source": [
    "# sc = getSchemaFromSimMatrix(node_sim_matrix,\n",
    "#                        edge_sim_matrix)\n",
    "# n_p,n_r,n_f1,e_p,e_r,e_f1 = sc.computeF1score(sc_gt,CONSIDER_EDGES=True,WEIGHTED=True,CONSIDER_EDGES_OF_SRC_TAR=True)\n",
    "# n_p,n_r,n_f1,e_p,e_r,e_f1"
   ]
  },
  {
   "cell_type": "code",
   "execution_count": 8,
   "metadata": {},
   "outputs": [],
   "source": [
    "# sc.computeF1score(sc_gt,CONSIDER_EDGES=True,WEIGHTED=True,CONSIDER_EDGES_OF_SRC_TAR=False)"
   ]
  },
  {
   "cell_type": "code",
   "execution_count": 3,
   "metadata": {},
   "outputs": [],
   "source": [
    "# node_sim_matrix = getNodeSimilarityMatrixByAttr(G,'l')\n",
    "# edge_sim_matrix = getEdgeSimilarityMatrixByAttr(G,'l')\n"
   ]
  },
  {
   "cell_type": "code",
   "execution_count": 111,
   "metadata": {},
   "outputs": [
    {
     "name": "stdout",
     "output_type": "stream",
     "text": [
      "computing node f1 score ignoredatatype False consider edges True\n",
      "duplicate TP count:  [0, 0, 0, 0, 0, 0, 0, 0, 0, 1, 1, 0, 0, 0]\n",
      "tp:  2.0 fn: 12 fp:  2\n",
      "precision:  0.5\n",
      "recall:  0.14285714285714285\n",
      "f1_score:  0.22222222222222224\n",
      "duplicate TP count:  [0, 0, 0, 1, 1, 0, 0, 0, 0, 0, 0, 0, 0, 0, 0, 1, 0, 0, 0, 0, 0, 0, 0, 0, 0, 0, 0, 0]\n",
      "tp:  3.0 fn: 25 fp:  15\n",
      "precision:  0.16666666666666666\n",
      "recall:  0.10714285714285714\n",
      "f1_score:  0.13043478260869565\n"
     ]
    }
   ],
   "source": [
    "topo_sck1.computeF1score(sc_gt,CONSIDER_EDGES=True,WEIGHTED=True,CONSIDER_EDGES_OF_SRC_TAR=False)\n",
    "# [0, 0, 0, 0, 0, 0, 0, 0, 0, 1, 1, 0, 0, 0].index(1)\n",
    "# sc_gt.nodetypeset[10].print(True)"
   ]
  },
  {
   "cell_type": "code",
   "execution_count": 80,
   "metadata": {},
   "outputs": [
    {
     "name": "stdout",
     "output_type": "stream",
     "text": [
      "computing node f1 score ignoredatatype False consider edges True\n",
      "duplicate TP count:  [0, 0, 0, 0, 0, 0, 0, 0, 0, 0, 1, 0, 0, 0]\n",
      "tp:  1.0 fn: 13 fp:  3\n",
      "precision:  0.25\n",
      "recall:  0.07142857142857142\n",
      "f1_score:  0.11111111111111112\n",
      "duplicate TP count:  [0, 0, 0, 0, 0, 0, 0, 0, 0, 0, 0, 0, 0, 0, 0, 0, 0, 0, 0, 0, 0, 0, 0, 0, 0, 0, 0, 0]\n",
      "tp:  0 fn: 28 fp:  13\n",
      "precision:  0.0\n",
      "recall:  0.0\n",
      "f1_score:  0\n"
     ]
    }
   ],
   "source": [
    "# remove_attr(topo_sck1)\n",
    "topo_sck1.computeF1score(sc_gt,CONSIDER_EDGES=True,WEIGHTED=True,CONSIDER_EDGES_OF_SRC_TAR=True)\n",
    "# topo_sck1.nodetypeset.print()"
   ]
  },
  {
   "cell_type": "code",
   "execution_count": 55,
   "metadata": {},
   "outputs": [],
   "source": [
    "node_type = NodeTypeSet()\n",
    "edge_type_set = EdgeTypeSet()\n",
    "\n",
    "# turn labels to attributes\n",
    "def preprocessPy2neoNode(node):\n",
    "    node_dict = dict(node)\n",
    "    # convert labels to attribute\n",
    "    labels = str(node.labels).split(':')[1:]\n",
    "    for l in labels:\n",
    "        node_dict[l] = LBL()\n",
    "    return node_dict"
   ]
  },
  {
   "cell_type": "code",
   "execution_count": 67,
   "metadata": {},
   "outputs": [],
   "source": [
    "import py2neo\n",
    "subg = graph.run('MATCH (n) where rand() <= 0.001 OPTIONAL MATCH (n)-[r]-() return *').to_subgraph()"
   ]
  },
  {
   "cell_type": "code",
   "execution_count": 68,
   "metadata": {},
   "outputs": [
    {
     "data": {
      "text/plain": [
       "(2119, 2051)"
      ]
     },
     "execution_count": 68,
     "metadata": {},
     "output_type": "execute_result"
    }
   ],
   "source": [
    "len(subg.relationships),len(subg.nodes)"
   ]
  },
  {
   "cell_type": "code",
   "execution_count": 69,
   "metadata": {
    "pycharm": {
     "name": "#%%\n"
    }
   },
   "outputs": [],
   "source": [
    "# node_type = NodeTypeSet()\n",
    "# at least one match\n",
    "nodes = list(subg._Subgraph__nodes)\n",
    "for i,n in enumerate(nodes):\n",
    "    node = nodes[i]\n",
    "    node_dict = dict(node)\n",
    "    # convert labels to attribute\n",
    "    labels = str(node.labels).split(':')[1:]\n",
    "    for l in labels:\n",
    "        node_dict[l] = LBL()\n",
    "\n",
    "    node_type.add(node_dict)"
   ]
  },
  {
   "cell_type": "code",
   "execution_count": 70,
   "metadata": {
    "pycharm": {
     "name": "#%%\n"
    }
   },
   "outputs": [],
   "source": [
    "\n",
    "relationships = list(subg._Subgraph__relationships)\n",
    "for i, r in enumerate(relationships):\n",
    "\n",
    "    relation = relationships[i]\n",
    "    relation[type(relation).__name__] = LBL()\n",
    "    # it's possible that a relationship have more than two nodes\n",
    "    edge_type_set.add(relation)"
   ]
  },
  {
   "cell_type": "code",
   "execution_count": 73,
   "metadata": {
    "pycharm": {
     "name": "#%%\n"
    }
   },
   "outputs": [],
   "source": [
    "def tojson(type_list):\n",
    "    # type_list is a list of types\n",
    "    res = []\n",
    "    for t in type_list:\n",
    "        # new dict of type, serilized\n",
    "        type_dict = {}\n",
    "        nt = t.getAttrs()\n",
    "\n",
    "        for k in nt:\n",
    "            type_dict[k] = [i.__name__ for i in list(nt[k])]\n",
    "        res.append(type_dict)\n",
    "    return res\n",
    "        \n",
    "types = tojson(node_type.nodetypes)"
   ]
  },
  {
   "cell_type": "code",
   "execution_count": 74,
   "metadata": {
    "pycharm": {
     "name": "#%%\n"
    }
   },
   "outputs": [
    {
     "data": {
      "text/plain": [
       "'[{\"birthday\": [\"int\"], \"firstName\": [\"str\"], \"lastName\": [\"str\"], \"gender\": [\"str\"], \"browserUsed\": [\"str\"], \"locationIP\": [\"str\"], \"id\": [\"int\"], \"creationDate\": [\"int\"], \"Person\": [\"LBL\"]}, {\"name\": [\"str\"], \"id\": [\"int\"], \"url\": [\"str\"], \"Tag\": [\"LBL\"]}, {\"browserUsed\": [\"str\"], \"length\": [\"int\"], \"locationIP\": [\"str\"], \"id\": [\"int\"], \"creationDate\": [\"int\"], \"content\": [\"str\"], \"Comment\": [\"LBL\"], \"Message\": [\"LBL\"]}, {\"id\": [\"int\"], \"title\": [\"str\"], \"creationDate\": [\"int\"], \"Forum\": [\"LBL\"]}, {\"name\": [\"str\"], \"id\": [\"int\"], \"url\": [\"str\"], \"Organisation\": [\"LBL\"], \"University\": [\"LBL\"]}, {\"imageFile\": [\"str\"], \"browserUsed\": [\"str\"], \"length\": [\"int\"], \"locationIP\": [\"str\"], \"id\": [\"int\"], \"creationDate\": [\"int\"], \"Message\": [\"LBL\"], \"Post\": [\"LBL\"]}, {\"name\": [\"str\"], \"id\": [\"int\"], \"url\": [\"str\"], \"Country\": [\"LBL\"], \"Place\": [\"LBL\"]}, {\"browserUsed\": [\"str\"], \"length\": [\"int\"], \"locationIP\": [\"str\"], \"language\": [\"str\"], \"id\": [\"int\"], \"creationDate\": [\"int\"], \"content\": [\"str\"], \"Message\": [\"LBL\"], \"Post\": [\"LBL\"]}, {\"name\": [\"str\"], \"id\": [\"int\"], \"url\": [\"str\"], \"City\": [\"LBL\"], \"Place\": [\"LBL\"]}, {\"name\": [\"str\"], \"id\": [\"int\"], \"url\": [\"str\"], \"TagClass\": [\"LBL\"]}, {\"name\": [\"str\"], \"id\": [\"int\"], \"url\": [\"str\"], \"Company\": [\"LBL\"], \"Organisation\": [\"LBL\"]}]'"
      ]
     },
     "execution_count": 74,
     "metadata": {},
     "output_type": "execute_result"
    }
   ],
   "source": [
    "import json\n",
    "json.dumps(types)"
   ]
  },
  {
   "cell_type": "code",
   "execution_count": 75,
   "metadata": {
    "pycharm": {
     "name": "#%%\n"
    }
   },
   "outputs": [
    {
     "data": {
      "text/plain": [
       "[{'birthday': ['int'],\n",
       "  'firstName': ['str'],\n",
       "  'lastName': ['str'],\n",
       "  'gender': ['str'],\n",
       "  'browserUsed': ['str'],\n",
       "  'locationIP': ['str'],\n",
       "  'id': ['int'],\n",
       "  'creationDate': ['int'],\n",
       "  'Person': ['LBL']},\n",
       " {'name': ['str'], 'id': ['int'], 'url': ['str'], 'Tag': ['LBL']},\n",
       " {'browserUsed': ['str'],\n",
       "  'length': ['int'],\n",
       "  'locationIP': ['str'],\n",
       "  'id': ['int'],\n",
       "  'creationDate': ['int'],\n",
       "  'content': ['str'],\n",
       "  'Comment': ['LBL'],\n",
       "  'Message': ['LBL']},\n",
       " {'id': ['int'], 'title': ['str'], 'creationDate': ['int'], 'Forum': ['LBL']},\n",
       " {'name': ['str'],\n",
       "  'id': ['int'],\n",
       "  'url': ['str'],\n",
       "  'Organisation': ['LBL'],\n",
       "  'University': ['LBL']},\n",
       " {'imageFile': ['str'],\n",
       "  'browserUsed': ['str'],\n",
       "  'length': ['int'],\n",
       "  'locationIP': ['str'],\n",
       "  'id': ['int'],\n",
       "  'creationDate': ['int'],\n",
       "  'Message': ['LBL'],\n",
       "  'Post': ['LBL']},\n",
       " {'name': ['str'],\n",
       "  'id': ['int'],\n",
       "  'url': ['str'],\n",
       "  'Country': ['LBL'],\n",
       "  'Place': ['LBL']},\n",
       " {'browserUsed': ['str'],\n",
       "  'length': ['int'],\n",
       "  'locationIP': ['str'],\n",
       "  'language': ['str'],\n",
       "  'id': ['int'],\n",
       "  'creationDate': ['int'],\n",
       "  'content': ['str'],\n",
       "  'Message': ['LBL'],\n",
       "  'Post': ['LBL']},\n",
       " {'name': ['str'],\n",
       "  'id': ['int'],\n",
       "  'url': ['str'],\n",
       "  'City': ['LBL'],\n",
       "  'Place': ['LBL']},\n",
       " {'name': ['str'], 'id': ['int'], 'url': ['str'], 'TagClass': ['LBL']},\n",
       " {'name': ['str'],\n",
       "  'id': ['int'],\n",
       "  'url': ['str'],\n",
       "  'Company': ['LBL'],\n",
       "  'Organisation': ['LBL']}]"
      ]
     },
     "execution_count": 75,
     "metadata": {},
     "output_type": "execute_result"
    }
   ],
   "source": [
    "types"
   ]
  },
  {
   "cell_type": "code",
   "execution_count": 77,
   "metadata": {
    "pycharm": {
     "name": "#%%\n"
    }
   },
   "outputs": [
    {
     "data": {
      "text/plain": [
       "26"
      ]
     },
     "execution_count": 77,
     "metadata": {},
     "output_type": "execute_result"
    }
   ],
   "source": [
    "len(edge_type_set.edgetypes)\n"
   ]
  },
  {
   "cell_type": "code",
   "execution_count": null,
   "metadata": {
    "pycharm": {
     "name": "#%%\n"
    }
   },
   "outputs": [],
   "source": []
  }
 ],
 "metadata": {
  "kernelspec": {
   "display_name": "Python 3",
   "language": "python",
   "name": "python3"
  },
  "language_info": {
   "codemirror_mode": {
    "name": "ipython",
    "version": 3
   },
   "file_extension": ".py",
   "mimetype": "text/x-python",
   "name": "python",
   "nbconvert_exporter": "python",
   "pygments_lexer": "ipython3",
   "version": "3.7.2"
  }
 },
 "nbformat": 4,
 "nbformat_minor": 1
}
