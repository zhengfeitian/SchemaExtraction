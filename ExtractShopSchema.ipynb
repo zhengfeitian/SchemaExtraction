{
 "cells": [
  {
   "cell_type": "code",
   "execution_count": 1,
   "metadata": {},
   "outputs": [],
   "source": [
    "import pandas as pd\n",
    "from Schema import *\n",
    "from NewElementTypeSet import *\n",
    "from ElementType import *\n",
    "# import matplotlib.pyplot as plt\n",
    "# from sklearn.feature_extraction.text import CountVectorizer\n",
    "# import plotly.graph_objects as go\n",
    "# from sklearn.manifold import TSNE\n",
    "from tqdm import tqdm\n",
    "import numpy as np\n",
    "\n",
    "class MyRel(dict):\n",
    "    def __init__(self,*arg,**kw):\n",
    "        self.nodes = [{},{}]\n",
    "\n",
    "        super(MyRel, self).__init__(*arg, **kw)\n",
    "    def __eq__(self,other):\n",
    "        if set(self.nodes[0])==set(other.nodes[0]) and \\\n",
    "             set(self.nodes[1])==set(other.nodes[1]) and \\\n",
    "            set(self)==set(other):\n",
    "            return True \n",
    "        return False\n",
    "    def getKey(self):\n",
    "        return set(self)\n",
    "    def mapToStr(self):\n",
    "        s = ','.join(sorted(list(set(self.nodes[0]))))\n",
    "        t = ','.join(sorted(list(set(self.nodes[1]))))\n",
    "        e = ','.join(sorted(list(set(self))))\n",
    "        return 'src:'+s+'|tar'+t+'|edge'+e\n",
    "from pickle5 import pickle\n",
    "shop_sc = pickle.load(open('shop_attr_based_schema.pkl','rb',-1))"
   ]
  },
  {
   "cell_type": "code",
   "execution_count": 111,
   "metadata": {},
   "outputs": [],
   "source": [
    "import json\n",
    "with open('cpg/stl/parsed_stl.json') as f:\n",
    "    node_dict_list = json.load(f)\n",
    "# node_map = {}\n",
    "# for node_dict in node_dict_list:\n",
    "#     node_map[node_dict['id']] = node_dict"
   ]
  },
  {
   "cell_type": "code",
   "execution_count": 26,
   "metadata": {},
   "outputs": [],
   "source": [
    "for n in node_dict_list:\n",
    "    n[n['_label']] = LBL()\n",
    "    n.pop('_label',None)"
   ]
  },
  {
   "cell_type": "code",
   "execution_count": 41,
   "metadata": {},
   "outputs": [
    {
     "name": "stderr",
     "output_type": "stream",
     "text": [
      "  0%|          | 1/873 [00:02<37:42,  2.59s/it]"
     ]
    },
    {
     "name": "stdout",
     "output_type": "stream",
     "text": [
      "['DDG', ' ploc == nullptr ? _cpp_isleadbyte((c >> 8) & 0xff) ', ' (ploc->_Table[(c >> 8) & 0xff] & _LEADBYTE) != 0']\n"
     ]
    },
    {
     "name": "stderr",
     "output_type": "stream",
     "text": [
      "  1%|          | 10/873 [00:06<06:33,  2.19it/s]"
     ]
    },
    {
     "name": "stdout",
     "output_type": "stream",
     "text": [
      "['DDG', ' perms', '', 'owner_write']\n",
      "['DDG', ' perms', '', 'group_write | perms', '', 'others_write']\n",
      "['DDG', ' perms', '', 'group_write']\n",
      "['DDG', ' perms', '', 'others_write']\n",
      "['DDG', ' perms', '', 'all']\n",
      "['DDG', ' _Data.dwFileAttributes & FILE_ATTRIBUTE_READONLY ? _Readonly_perms ', ' perms', '', 'all']\n",
      "['DDG', ' perms', '', 'all']\n",
      "['DDG', ' perms', '', 'group_write']\n",
      "['DDG', ' perms', '', 'others_write']\n",
      "['DDG', ' perms', '', 'owner_write | perms', '', 'group_write | perms', '', 'others_write']\n",
      "['DDG', ' perms', '', 'group_write | perms', '', 'others_write']\n",
      "['DDG', ' perms', '', 'owner_write']\n",
      "['DDG', ' perms', '', 'all & ~_Write_perms']\n",
      "['DDG', ' perms', '', 'all']\n",
      "['DDG', ' perms', '', 'all']\n",
      "['DDG', ' file_type', '', 'not_found']\n",
      "['DDG', ' file_type', '', 'unknown']\n"
     ]
    },
    {
     "name": "stderr",
     "output_type": "stream",
     "text": [
      "\r",
      "  1%|▏         | 11/873 [00:07<06:43,  2.13it/s]"
     ]
    },
    {
     "name": "stdout",
     "output_type": "stream",
     "text": [
      "['DDG', ' _Ok ? _Info.NumberOfLinks ', ' static_cast<unsigned long long>(-1)']\n",
      "['DDG', ' _Ok ? _Info.NumberOfLinks ', ' static_cast<unsigned long long>(-1)']\n"
     ]
    },
    {
     "name": "stderr",
     "output_type": "stream",
     "text": [
      "  2%|▏         | 17/873 [00:12<13:34,  1.05it/s]"
     ]
    },
    {
     "name": "stdout",
     "output_type": "stream",
     "text": [
      "['DDG', ' _Info1.VolumeSerialNumber != _Info2.VolumeSerialNumber\\n\\\\n                    || memcmp(&_Info1.FileId, &_Info2.FileId, sizeof(_Info1.FileId)) != 0\\n\\\\n                 ? 0\\n\\\\n                 ', ' 1']\n",
      "['DDG', ' _Info1.VolumeSerialNumber != _Info2.VolumeSerialNumber\\n\\\\n                    || memcmp(&_Info1.FileId, &_Info2.FileId, sizeof(_Info1.FileId)) != 0\\n\\\\n                 ? 0\\n\\\\n                 ', ' 1']\n"
     ]
    },
    {
     "name": "stderr",
     "output_type": "stream",
     "text": [
      "  2%|▏         | 20/873 [00:12<06:18,  2.26it/s]"
     ]
    },
    {
     "name": "stdout",
     "output_type": "stream",
     "text": [
      "['DDG', ' _wrename(_Fname1, _Fname2) == 0 ? 0 ', ' GetLastError()']\n",
      "['DDG', ' _wrename(_Fname1, _Fname2) == 0 ? 0 ', ' GetLastError()']\n"
     ]
    },
    {
     "name": "stderr",
     "output_type": "stream",
     "text": [
      "\r",
      "  2%|▏         | 21/873 [00:13<06:57,  2.04it/s]"
     ]
    },
    {
     "name": "stdout",
     "output_type": "stream",
     "text": [
      "['DDG', ' _Ok ? 0 ', ' GetLastError()']\n",
      "['DDG', ' _Ok ? 0 ', ' GetLastError()']\n"
     ]
    },
    {
     "name": "stderr",
     "output_type": "stream",
     "text": [
      "\r",
      "  3%|▎         | 22/873 [00:13<05:43,  2.48it/s]"
     ]
    },
    {
     "name": "stdout",
     "output_type": "stream",
     "text": [
      "['DDG', ' _wremove(_Fname) == 0 ? 0 ', ' GetLastError()']\n",
      "['DDG', ' _wremove(_Fname) == 0 ? 0 ', ' GetLastError()']\n"
     ]
    },
    {
     "name": "stderr",
     "output_type": "stream",
     "text": [
      "  3%|▎         | 24/873 [00:15<09:03,  1.56it/s]"
     ]
    },
    {
     "name": "stdout",
     "output_type": "stream",
     "text": [
      "['DDG', ' perms', '', 'owner_write']\n",
      "['DDG', ' perms', '', 'group_write | perms', '', 'others_write']\n",
      "['DDG', ' perms', '', 'group_write']\n",
      "['DDG', ' perms', '', 'others_write']\n",
      "['DDG', ' _Mode == _Oldmode ? 0 ', ' SetFileAttributesW(_Fname, _Mode) != 0 ? 0 ', ' -1']\n",
      "['DDG', ' perms', '', 'owner_write | perms', '', 'group_write | perms', '', 'others_write']\n",
      "['DDG', ' perms', '', 'group_write | perms', '', 'others_write']\n",
      "['DDG', ' perms', '', 'owner_write']\n",
      "['DDG', ' (_Newmode & _Write_perms) == perms', '', 'none']\n",
      "['DDG', ' perms', '', 'none']\n",
      "['DDG', ' perms', '', 'others_write']\n",
      "['DDG', ' perms', '', 'group_write']\n",
      "['DDG', ' _Mode == _Oldmode ? 0 ', ' SetFileAttributesW(_Fname, _Mode) != 0 ? 0 ', ' -1']\n",
      "['DDG', ' SetFileAttributesW(_Fname, _Mode) != 0 ? 0 ', ' -1']\n"
     ]
    },
    {
     "name": "stderr",
     "output_type": "stream",
     "text": [
      "  4%|▎         | 31/873 [00:15<02:10,  6.46it/s]"
     ]
    },
    {
     "name": "stdout",
     "output_type": "stream",
     "text": [
      "['DDG', ' __std_win_error', '', '_Success']\n"
     ]
    },
    {
     "name": "stderr",
     "output_type": "stream",
     "text": [
      "  5%|▍         | 41/873 [00:18<04:35,  3.02it/s]"
     ]
    },
    {
     "name": "stdout",
     "output_type": "stream",
     "text": [
      "['DDG', ' ios_base', '', 'ate']\n",
      "['DDG', ' ios_base', '', '_Noreplace']\n",
      "['DDG', ' ios_base', '', 'ate | ios_base', '', '_Nocreate | ios_base', '', '_Noreplace']\n",
      "['DDG', ' ios_base', '', 'ate']\n",
      "['DDG', ' ios_base', '', '_Nocreate | ios_base', '', '_Noreplace']\n",
      "['DDG', ' ios_base', '', '_Nocreate']\n",
      "['DDG', ' ios_base', '', '_Noreplace']\n",
      "['DDG', ' mode & (ios_base', '', 'out | ios_base', '', 'app)']\n",
      "['DDG', ' ios_base', '', 'out | ios_base', '', 'app']\n",
      "['DDG', ' ios_base', '', 'out']\n",
      "['DDG', ' ios_base', '', 'app']\n",
      "['DDG', ' ios_base', '', '_Nocreate']\n",
      "['DDG', ' ios_base', '', '_Noreplace']\n",
      "['DDG', ' ios_base', '', 'out']\n",
      "['DDG', ' (mode & (ios_base', '', 'out | ios_base', '', 'app))\\n\\\\n        && (fp = _Xfsopen(filename, 0, prot)) != nullptr']\n",
      "['DDG', ' norepflag && (mode & (ios_base', '', 'out | ios_base', '', 'app))\\n\\\\n        && (fp = _Xfsopen(filename, 0, prot)) != nullptr']\n",
      "['DDG', ' ios_base', '', 'out | ios_base', '', 'app']\n",
      "['DDG', ' ios_base', '', 'ate | ios_base', '', '_Nocreate | ios_base', '', '_Noreplace']\n",
      "['DDG', ' mode & (ios_base', '', 'out | ios_base', '', 'app)']\n",
      "['DDG', ' ~(ios_base', '', 'ate | ios_base', '', '_Nocreate | ios_base', '', '_Noreplace)']\n",
      "['DDG', ' ios_base', '', 'app']\n",
      "['DDG', ' ios_base', '', 'out']\n",
      "['DDG', ' mode & ios_base', '', '_Nocreate']\n",
      "['DDG', ' mode & ios_base', '', '_Noreplace']\n",
      "['DDG', ' ios_base', '', 'in']\n",
      "['DDG', ' mode & ios_base', '', 'ate']\n",
      "['DDG', ' ios_base', '', 'app']\n",
      "['DDG', ' mode & ios_base', '', 'app']\n",
      "['DDG', ' ios_base', '', '_Nocreate | ios_base', '', '_Noreplace']\n",
      "['DDG', ' ios_base', '', 'ate']\n",
      "['DDG', ' ios_base', '', 'ate']\n",
      "['DDG', ' ios_base', '', '_Nocreate']\n",
      "['DDG', ' ios_base', '', '_Noreplace']\n",
      "['DDG', ' ios_base', '', 'app']\n"
     ]
    },
    {
     "name": "stderr",
     "output_type": "stream",
     "text": [
      "  5%|▌         | 48/873 [00:19<01:55,  7.17it/s]"
     ]
    },
    {
     "name": "stdout",
     "output_type": "stream",
     "text": [
      "['DDG', ' iostr.setf(ios_base', '', '_Fmtzero, mask)']\n",
      "['DDG', ' ios_base', '', '_Fmtzero']\n",
      "['DDG', ' iostr.setf(ios_base', '', '_Fmtmask, mask)']\n",
      "['DDG', ' ios_base', '', '_Fmtmask']\n"
     ]
    },
    {
     "name": "stderr",
     "output_type": "stream",
     "text": [
      "\r",
      "  6%|▌         | 50/873 [00:19<02:12,  6.19it/s]"
     ]
    },
    {
     "name": "stdout",
     "output_type": "stream",
     "text": [
      "['DDG', ' ios_base', '', 'basefield']\n",
      "['DDG', ' base == 8    ? ios_base', '', 'oct\\n\\\\n               ', ' base == 10 ? ios_base', '', 'dec\\n\\\\n               ', ' base == 16 ? ios_base', '', 'hex\\n\\\\n                            ', ' ios_base', '', '_Fmtzero']\n",
      "['DDG', ' iostr.setf(base == 8    ? ios_base', '', 'oct\\n\\\\n               ', ' base == 10 ? ios_base', '', 'dec\\n\\\\n               ', ' base == 16 ? ios_base', '', 'hex\\n\\\\n                            ', ' ios_base', '', '_Fmtzero,\\n\\\\n        ios_base', '', 'basefield)']\n",
      "['DDG', ' ios_base', '', 'hex']\n",
      "['DDG', ' ios_base', '', '_Fmtzero']\n",
      "['DDG', ' base == 10 ? ios_base', '', 'dec\\n\\\\n               ', ' base == 16 ? ios_base', '', 'hex\\n\\\\n                            ', ' ios_base', '', '_Fmtzero']\n",
      "['DDG', ' ios_base', '', 'oct']\n",
      "['DDG', ' base == 16 ? ios_base', '', 'hex\\n\\\\n                            ', ' ios_base', '', '_Fmtzero']\n",
      "['DDG', ' ios_base', '', 'dec']\n"
     ]
    },
    {
     "name": "stderr",
     "output_type": "stream",
     "text": [
      "\r",
      "  6%|▌         | 52/873 [00:19<01:59,  6.85it/s]"
     ]
    },
    {
     "name": "stdout",
     "output_type": "stream",
     "text": [
      "['DDG', ' _Smanip<ios_base', '', 'fmtflags>(&rsfun, mask)']\n",
      "['DDG', ' ios_base', '', 'fmtflags']\n",
      "['DDG', ' ios_base', '', 'fmtflags>(&rsfun, mask)']\n",
      "['DDG', ' _Smanip<ios_base', '', 'fmtflags>(&rsfun, mask)']\n",
      "['DDG', ' ios_base', '', 'fmtflags']\n",
      "['DDG', ' _Smanip<ios_base', '', 'fmtflags>(&sifun, mask)']\n",
      "['DDG', ' ios_base', '', 'fmtflags']\n",
      "['DDG', ' ios_base', '', 'fmtflags>(&sifun, mask)']\n",
      "['DDG', ' _Smanip<ios_base', '', 'fmtflags>(&sifun, mask)']\n",
      "['DDG', ' ios_base', '', 'fmtflags']\n"
     ]
    },
    {
     "name": "stderr",
     "output_type": "stream",
     "text": [
      "  7%|▋         | 62/873 [00:21<01:56,  6.96it/s]"
     ]
    },
    {
     "name": "stdout",
     "output_type": "stream",
     "text": [
      "['DDG', ' ios_base', '', 'Init', '', '_Init_cnt']\n"
     ]
    },
    {
     "name": "stderr",
     "output_type": "stream",
     "text": [
      "  7%|▋         | 65/873 [00:23<05:27,  2.47it/s]"
     ]
    },
    {
     "name": "stdout",
     "output_type": "stream",
     "text": [
      "['DDG', ' locale', '', '_Locimp']\n",
      "['DDG', ' locale', '', '_Locimp']\n",
      "['DDG', ' (_LOCK_LOCALE)\\n\\\\n    locale', '', '_Locimp* ptr']\n",
      "['DDG', ' (_LOCK_LOCALE)\\n\\\\n    locale', '', '_Locimp']\n"
     ]
    },
    {
     "name": "stderr",
     "output_type": "stream",
     "text": [
      "\r",
      "  8%|▊         | 66/873 [00:24<06:07,  2.20it/s]"
     ]
    },
    {
     "name": "stdout",
     "output_type": "stream",
     "text": [
      "['DDG', ' _Locimp', '', '_Makeushloc(lobj, cat, ptrimp, ptrloc)']\n",
      "['DDG', ' _Locimp', '', '_Makewloc(lobj, cat, ptrimp, ptrloc)']\n",
      "['DDG', ' _Locimp', '', '_Makexloc(lobj, cat, ptrimp, ptrloc)']\n"
     ]
    },
    {
     "name": "stderr",
     "output_type": "stream",
     "text": [
      "\r",
      "  8%|▊         | 67/873 [00:25<07:36,  1.77it/s]"
     ]
    },
    {
     "name": "stdout",
     "output_type": "stream",
     "text": [
      "['DDG', ' _Makeloc(_Lobj, locale', '', 'all, _This, nullptr)']\n",
      "['DDG', ' (_Lobj)\\n\\\\n        _Makeloc(_Lobj, locale', '', 'all, _This, nullptr)']\n",
      "['DDG', ' locale', '', 'all']\n",
      "['DDG', ' _malloc_crt(_This->_Facetcount * sizeof(locale', '', 'facet*))']\n",
      "['DDG', ' _This->_Facetcount * sizeof(locale', '', 'facet*)']\n",
      "['DDG', ' locale', '', 'all']\n",
      "['DDG', ' _malloc_crt(_This->_Facetcount * sizeof(locale', '', 'facet*))']\n",
      "['DDG', ' _This->_Facetcount * sizeof(locale', '', 'facet*)']\n",
      "['DDG', ' static_cast<locale', '', 'facet**>(_malloc_crt(_This->_Facetcount * sizeof(locale', '', 'facet*)))']\n"
     ]
    },
    {
     "name": "stderr",
     "output_type": "stream",
     "text": [
      "\r",
      "  8%|▊         | 68/873 [00:26<08:55,  1.50it/s]"
     ]
    },
    {
     "name": "stdout",
     "output_type": "stream",
     "text": [
      "['DDG', ' _realloc_crt(_This->_Facetvec, count * sizeof(locale', '', 'facet**))']\n",
      "['DDG', ' count * sizeof(locale', '', 'facet**)']\n",
      "['DDG', ' count * sizeof(locale', '', 'facet**)']\n",
      "['DDG', ' static_cast<locale', '', 'facet**>(_realloc_crt(_This->_Facetvec, count * sizeof(locale', '', 'facet**)))']\n",
      "['DDG', ' _realloc_crt(_This->_Facetvec, count * sizeof(locale', '', 'facet**))']\n"
     ]
    },
    {
     "name": "stderr",
     "output_type": "stream",
     "text": [
      "\r",
      "  8%|▊         | 70/873 [00:26<06:11,  2.16it/s]"
     ]
    },
    {
     "name": "stdout",
     "output_type": "stream",
     "text": [
      "['DDG', ' oldlocname == nullptr ? \\\\\\\\ ', ' oldlocname']\n"
     ]
    },
    {
     "name": "stderr",
     "output_type": "stream",
     "text": [
      "  9%|▉         | 77/873 [00:29<03:41,  3.60it/s]"
     ]
    },
    {
     "name": "stdout",
     "output_type": "stream",
     "text": [
      "['DDG', ' _Size > 0 ? _Size ', ' 1']\n",
      "['DDG', ' _Size > 0 ? _Size ', ' 1']\n",
      "['DDG', ' _malloc_dbg(_Size > 0 ? _Size ', ' 1, _CRT_BLOCK, __FILE__, __LINE__)']\n"
     ]
    },
    {
     "name": "stderr",
     "output_type": "stream",
     "text": [
      "  9%|▉         | 79/873 [00:29<03:06,  4.26it/s]"
     ]
    },
    {
     "name": "stdout",
     "output_type": "stream",
     "text": [
      "['DDG', ' *static_cast<std', '', 'locale', '', '_Locimp**>(ptr)']\n"
     ]
    },
    {
     "name": "stderr",
     "output_type": "stream",
     "text": [
      " 10%|▉         | 83/873 [00:30<02:07,  6.18it/s]"
     ]
    },
    {
     "name": "stdout",
     "output_type": "stream",
     "text": [
      "['DDG', ' static_cast<std', '', 'locale', '', '_Locimp*>(ptr)']\n"
     ]
    },
    {
     "name": "stderr",
     "output_type": "stream",
     "text": [
      "\r",
      " 10%|▉         | 85/873 [00:30<01:46,  7.41it/s]"
     ]
    },
    {
     "name": "stdout",
     "output_type": "stream",
     "text": [
      "['DDG', ' locale(_Locimp', '', '_New_Locimp(true))']\n",
      "['DDG', ' locale(_Locimp', '', '_New_Locimp(true))']\n",
      "['DDG', ' _Locimp', '', '_New_Locimp(true)']\n"
     ]
    },
    {
     "name": "stderr",
     "output_type": "stream",
     "text": [
      "\r",
      " 10%|▉         | 87/873 [00:30<02:28,  5.30it/s]"
     ]
    },
    {
     "name": "stdout",
     "output_type": "stream",
     "text": [
      "['DDG', ' _Setgloballocale(ptr = _Locimp', '', '_New_Locimp())']\n",
      "['DDG', ' _Locimp', '', '_Clocptr->_Incref()']\n",
      "['DDG', ' _Locimp', '', '_Clocptr']\n",
      "['DDG', ' locale(_Locimp', '', '_Clocptr)']\n",
      "['DDG', ' _Locimp', '', '_New_Locimp()']\n",
      "['DDG', ' _Locimp', '', '_Clocptr']\n"
     ]
    },
    {
     "name": "stderr",
     "output_type": "stream",
     "text": [
      " 11%|█         | 92/873 [00:31<02:27,  5.30it/s]"
     ]
    },
    {
     "name": "stdout",
     "output_type": "stream",
     "text": [
      "['DDG', ' locname == nullptr ? \\\\*\\\\ ', ' locname']\n",
      "['DDG', ' oldlocname == nullptr ? \\\\\\\\ ', ' oldlocname']\n"
     ]
    },
    {
     "name": "stderr",
     "output_type": "stream",
     "text": [
      " 12%|█▏        | 103/873 [00:32<00:58, 13.07it/s]"
     ]
    },
    {
     "name": "stdout",
     "output_type": "stream",
     "text": [
      "['DDG', ' reinterpret_cast<Concurrency', '', 'details', '', 'stl_critical_section_interface*>(&cs)']\n",
      "['DDG', ' reinterpret_cast<Concurrency', '', 'details', '', 'stl_critical_section_interface*>(&cs)']\n"
     ]
    },
    {
     "name": "stderr",
     "output_type": "stream",
     "text": [
      "\r",
      " 12%|█▏        | 105/873 [00:32<01:16, 10.05it/s]"
     ]
    },
    {
     "name": "stdout",
     "output_type": "stream",
     "text": [
      "['DDG', ' Concurrency', '', 'details', '', 'create_stl_critical_section(mtx->_get_cs())']\n"
     ]
    },
    {
     "name": "stderr",
     "output_type": "stream",
     "text": [
      " 13%|█▎        | 113/873 [00:41<16:10,  1.28s/it]"
     ]
    },
    {
     "name": "stdout",
     "output_type": "stream",
     "text": [
      "['DDG', ' ploc == nullptr ? _cpp_isleadbyte((c >> 8) & 0xff) ', ' (ploc->_Table[(c >> 8) & 0xff] & _LEADBYTE) != 0']\n"
     ]
    },
    {
     "name": "stderr",
     "output_type": "stream",
     "text": [
      "\r",
      " 13%|█▎        | 115/873 [00:41<10:00,  1.26it/s]"
     ]
    },
    {
     "name": "stdout",
     "output_type": "stream",
     "text": [
      "['DDG', ' res == _Thrd_busy ? _Thrd_timedout ', ' res']\n",
      "['DDG', ' res == _Thrd_busy ? _Thrd_timedout ', ' res']\n"
     ]
    },
    {
     "name": "stderr",
     "output_type": "stream",
     "text": [
      " 15%|█▌        | 132/873 [00:43<01:25,  8.65it/s]"
     ]
    },
    {
     "name": "stdout",
     "output_type": "stream",
     "text": [
      "['DDG', ' std', '', 'terminate()']\n"
     ]
    },
    {
     "name": "stderr",
     "output_type": "stream",
     "text": [
      " 16%|█▌        | 139/873 [00:45<03:36,  3.40it/s]"
     ]
    },
    {
     "name": "stdout",
     "output_type": "stream",
     "text": [
      "['DDG', ' AsyncStatus', '', 'Error']\n",
      "['DDG', ' AsyncStatus', '', 'Canceled']\n",
      "['DDG', ' AsyncStatus', '', 'Completed']\n"
     ]
    },
    {
     "name": "stderr",
     "output_type": "stream",
     "text": [
      " 18%|█▊        | 159/873 [00:48<01:06, 10.79it/s]"
     ]
    },
    {
     "name": "stdout",
     "output_type": "stream",
     "text": [
      "['DDG', ' Concurrency', '', 'details', '', 'asyncCausalityTracer.release()']\n"
     ]
    },
    {
     "name": "stderr",
     "output_type": "stream",
     "text": [
      " 27%|██▋       | 236/873 [00:54<00:50, 12.59it/s]"
     ]
    },
    {
     "name": "stdout",
     "output_type": "stream",
     "text": [
      "['DDG', ' ios_base', '', 'unitbuf']\n",
      "['DDG', ' cerr.setf(ios_base', '', 'unitbuf)']\n"
     ]
    },
    {
     "name": "stderr",
     "output_type": "stream",
     "text": [
      " 29%|██▊       | 249/873 [00:55<01:08,  9.11it/s]"
     ]
    },
    {
     "name": "stdout",
     "output_type": "stream",
     "text": [
      "['DDG', ' _STL_host_status', '', '_Dll']\n",
      "['DDG', ' _STL_host_status', '', '_Dll']\n",
      "['DDG', ' _Get_STL_host_status() == _STL_host_status', '', '_Dll']\n"
     ]
    },
    {
     "name": "stderr",
     "output_type": "stream",
     "text": [
      "\r",
      " 29%|██▉       | 251/873 [00:56<01:14,  8.33it/s]"
     ]
    },
    {
     "name": "stdout",
     "output_type": "stream",
     "text": [
      "['DDG', ' _STL_host_status', '', '_Dll']\n",
      "['DDG', ' _Get_STL_host_status() == _STL_host_status', '', '_Dll']\n"
     ]
    },
    {
     "name": "stderr",
     "output_type": "stream",
     "text": [
      " 29%|██▉       | 256/873 [00:57<01:41,  6.08it/s]"
     ]
    },
    {
     "name": "stdout",
     "output_type": "stream",
     "text": [
      "['DDG', ' _STL_host_status', '', '_Exe']\n",
      "['DDG', ' _Get_STL_host_status() != _STL_host_status', '', '_Exe']\n"
     ]
    },
    {
     "name": "stderr",
     "output_type": "stream",
     "text": [
      " 30%|███       | 265/873 [00:59<01:40,  6.08it/s]"
     ]
    },
    {
     "name": "stdout",
     "output_type": "stream",
     "text": [
      "['DDG', ' wcerr.setf(ios_base', '', 'unitbuf)']\n",
      "['DDG', ' ios_base', '', 'unitbuf']\n"
     ]
    },
    {
     "name": "stderr",
     "output_type": "stream",
     "text": [
      " 33%|███▎      | 292/873 [01:04<01:18,  7.40it/s]"
     ]
    },
    {
     "name": "stdout",
     "output_type": "stream",
     "text": [
      "['DDG', ' Concurrency', '', 'details', '', 'create_stl_condition_variable(cond->_get_cv())']\n"
     ]
    },
    {
     "name": "stderr",
     "output_type": "stream",
     "text": [
      " 38%|███▊      | 330/873 [01:14<04:27,  2.03it/s]"
     ]
    },
    {
     "name": "stdout",
     "output_type": "stream",
     "text": [
      "['DDG', ' std', '', 'time_base', '', 'mdy']\n",
      "['DDG', ' std', '', 'time_base', '', 'dmy']\n",
      "['DDG', ' std', '', 'time_base', '', 'ymd']\n",
      "['DDG', ' std', '', 'time_base', '', 'no_order']\n"
     ]
    },
    {
     "name": "stderr",
     "output_type": "stream",
     "text": [
      "\r",
      " 38%|███▊      | 331/873 [01:17<10:27,  1.16s/it]"
     ]
    },
    {
     "name": "stdout",
     "output_type": "stream",
     "text": [
      "['DDG', ' (ps->_Sh[_D0] & _DFRAC) == 0 && ps->_Sh[_D1] == 0 && ps->_Sh[_D2] == 0 && ps->_Sh[_D3] == 0 ? _INFCODE\\n\\\\n                                                                                                           ', ' _NANCODE']\n",
      "['DDG', ' frac != 0 ? _FINITE ', ' 0']\n",
      "['DDG', ' (ps->_Sh[_D0] & _DFRAC) == 0 && ps->_Sh[_D1] == 0 && ps->_Sh[_D2] == 0 && ps->_Sh[_D3] == 0 ? _INFCODE\\n\\\\n                                                                                                           ', ' _NANCODE']\n",
      "['DDG', ' frac != 0 ? _FINITE ', ' 0']\n"
     ]
    },
    {
     "name": "stderr",
     "output_type": "stream",
     "text": [
      " 38%|███▊      | 333/873 [01:28<29:25,  3.27s/it]"
     ]
    },
    {
     "name": "stdout",
     "output_type": "stream",
     "text": [
      "['DDG', ' psx != 0 ? 1 ', ' 0']\n",
      "['DDG', ' psx != 0 ? 1 ', ' 0']\n",
      "['DDG', ' short>(\\n\\\\n            (ps->_Sh[_D0] & _DFRAC) != 0 || ps->_Sh[_D1] != 0 || ps->_Sh[_D2] != 0 || ps->_Sh[_D3] != 0 ? _NANCODE\\n\\\\n                                                                                                        ', ' _INFCODE)']\n",
      "['DDG', ' (ps->_Sh[_D0] & _DFRAC) != 0 || ps->_Sh[_D1] != 0 || ps->_Sh[_D2] != 0 || ps->_Sh[_D3] != 0 ? _NANCODE\\n\\\\n                                                                                                        ', ' _INFCODE']\n",
      "['DDG', ' psx != 0 ? 1 ', ' 0']\n",
      "['DDG', ' psx != 0 ? 1 ', ' 0']\n",
      "['DDG', ' ps->_Sh[_D0] & _DSIGN ? -_Inf._Double ', ' _Inf._Double']\n",
      "['DDG', ' ps->_Sh[_D3] | (psx != 0 ? 1 ', ' 0)']\n",
      "['DDG', ' (ps->_Sh[_D3] << (16 - xexp)) | (psx != 0 ? 1 ', ' 0)']\n"
     ]
    },
    {
     "name": "stderr",
     "output_type": "stream",
     "text": [
      " 38%|███▊      | 335/873 [01:30<19:25,  2.17s/it]"
     ]
    },
    {
     "name": "stdout",
     "output_type": "stream",
     "text": [
      "['DDG', ' short>(\\n\\\\n            (ps->_Sh[_D0] & _DFRAC) != 0 || ps->_Sh[_D1] != 0 || ps->_Sh[_D2] != 0 || ps->_Sh[_D3] != 0 ? _NANCODE\\n\\\\n                                                                                                        ', ' _INFCODE)']\n",
      "['DDG', ' (ps->_Sh[_D0] & _DFRAC) != 0 || ps->_Sh[_D1] != 0 || ps->_Sh[_D2] != 0 || ps->_Sh[_D3] != 0 ? _NANCODE\\n\\\\n                                                                                                        ', ' _INFCODE']\n",
      "['DDG', ' (ps->_Sh[_D0] & _DMASK) == 0 ? _DENORM ', ' _FINITE']\n",
      "['DDG', ' (ps->_Sh[_D0] & _DMASK) == 0 ? _DENORM ', ' _FINITE']\n"
     ]
    },
    {
     "name": "stderr",
     "output_type": "stream",
     "text": [
      " 39%|███▊      | 337/873 [01:30<10:31,  1.18s/it]"
     ]
    },
    {
     "name": "stdout",
     "output_type": "stream",
     "text": [
      "['DDG', ' static_cast<Concurrency', '', 'details', '', 'stl_critical_section_interface*>(_Mtx_getconcrtcs(mtx))']\n"
     ]
    },
    {
     "name": "stderr",
     "output_type": "stream",
     "text": [
      " 39%|███▉      | 339/873 [01:32<09:17,  1.04s/it]"
     ]
    },
    {
     "name": "stdout",
     "output_type": "stream",
     "text": [
      "['DDG', ' (ps->_Sh[_D0] & _DFRAC) != 0 || ps->_Sh[_D1] != 0 || ps->_Sh[_D2] != 0 || ps->_Sh[_D3] != 0 ? _NANCODE\\n\\\\n                                                                                                           ', ' _INFCODE']\n",
      "['DDG', ' (ps->_Sh[_D0] & _DFRAC) != 0 || ps->_Sh[_D1] != 0 || ps->_Sh[_D2] != 0 || ps->_Sh[_D3] != 0 ? _NANCODE\\n\\\\n                                                                                                           ', ' _INFCODE']\n"
     ]
    },
    {
     "name": "stderr",
     "output_type": "stream",
     "text": [
      "\r",
      " 39%|███▉      | 340/873 [01:35<15:03,  1.69s/it]"
     ]
    },
    {
     "name": "stdout",
     "output_type": "stream",
     "text": [
      "['DDG', ' short>(g + (g < 0.0 ? -0.5 ', ' +0.5))']\n",
      "['DDG', ' g + (g < 0.0 ? -0.5 ', ' +0.5)']\n",
      "['DDG', ' g < 0.0 ? -0.5 ', ' +0.5']\n"
     ]
    },
    {
     "name": "stderr",
     "output_type": "stream",
     "text": [
      " 39%|███▉      | 342/873 [01:39<16:15,  1.84s/it]"
     ]
    },
    {
     "name": "stdout",
     "output_type": "stream",
     "text": [
      "['DDG', ' (ps->_Sh[_F0] & _FFRAC) == 0 && ps->_Sh[_F1] == 0 ? _INFCODE ', ' _NANCODE']\n",
      "['DDG', ' frac != 0 ? _FINITE ', ' 0']\n",
      "['DDG', ' frac != 0 ? _FINITE ', ' 0']\n",
      "['DDG', ' (ps->_Sh[_F0] & _FFRAC) == 0 && ps->_Sh[_F1] == 0 ? _INFCODE ', ' _NANCODE']\n"
     ]
    },
    {
     "name": "stderr",
     "output_type": "stream",
     "text": [
      " 39%|███▉      | 344/873 [01:47<27:41,  3.14s/it]"
     ]
    },
    {
     "name": "stdout",
     "output_type": "stream",
     "text": [
      "['DDG', ' psx != 0 ? 1 ', ' 0']\n",
      "['DDG', ' (ps->_Sh[_F0] & _FFRAC) != 0 || ps->_Sh[_F1] != 0 ? _NANCODE ', ' _INFCODE']\n",
      "['DDG', ' short>((ps->_Sh[_F0] & _FFRAC) != 0 || ps->_Sh[_F1] != 0 ? _NANCODE ', ' _INFCODE)']\n",
      "['DDG', ' psx != 0 ? 1 ', ' 0']\n",
      "['DDG', ' (ps->_Sh[_F1] << (16 - xexp)) | (psx != 0 ? 1 ', ' 0)']\n",
      "['DDG', ' ps->_Sh[_F0] & _FSIGN ? -_FInf._Float ', ' _FInf._Float']\n"
     ]
    },
    {
     "name": "stderr",
     "output_type": "stream",
     "text": [
      " 40%|███▉      | 346/873 [01:48<15:57,  1.82s/it]"
     ]
    },
    {
     "name": "stdout",
     "output_type": "stream",
     "text": [
      "['DDG', ' (ps->_Sh[_F0] & _FFRAC) != 0 || ps->_Sh[_F1] != 0 ? _NANCODE ', ' _INFCODE']\n",
      "['DDG', ' short>((ps->_Sh[_F0] & _FFRAC) != 0 || ps->_Sh[_F1] != 0 ? _NANCODE ', ' _INFCODE)']\n",
      "['DDG', ' (ps->_Sh[_F0] & _FMASK) == 0 ? _DENORM ', ' _FINITE']\n",
      "['DDG', ' (ps->_Sh[_F0] & _FMASK) == 0 ? _DENORM ', ' _FINITE']\n"
     ]
    },
    {
     "name": "stderr",
     "output_type": "stream",
     "text": [
      " 40%|███▉      | 349/873 [01:50<09:56,  1.14s/it]"
     ]
    },
    {
     "name": "stdout",
     "output_type": "stream",
     "text": [
      "['DDG', ' (ps->_Sh[_F0] & _FFRAC) != 0 || ps->_Sh[_F1] != 0 ? _NANCODE ', ' _INFCODE']\n",
      "['DDG', ' (ps->_Sh[_F0] & _FFRAC) != 0 || ps->_Sh[_F1] != 0 ? _NANCODE ', ' _INFCODE']\n"
     ]
    },
    {
     "name": "stderr",
     "output_type": "stream",
     "text": [
      " 40%|████      | 351/873 [01:53<12:36,  1.45s/it]"
     ]
    },
    {
     "name": "stdout",
     "output_type": "stream",
     "text": [
      "['DDG', ' g < 0.0F ? -0.5F ', ' +0.5F']\n",
      "['DDG', ' g + (g < 0.0F ? -0.5F ', ' +0.5F)']\n",
      "['DDG', ' short>(g + (g < 0.0F ? -0.5F ', ' +0.5F))']\n"
     ]
    },
    {
     "name": "stderr",
     "output_type": "stream",
     "text": [
      "\r",
      " 40%|████      | 352/873 [01:56<14:20,  1.65s/it]"
     ]
    },
    {
     "name": "stdout",
     "output_type": "stream",
     "text": [
      "['DDG', ' y != 0.0F ? x ', ' FSIGN(x) ? -y ', ' y']\n",
      "['DDG', ' x < 0.0F ? -y ', ' y']\n",
      "['DDG', ' neg ? -x ', ' x']\n",
      "['DDG', ' neg ? -x ', ' x']\n",
      "['DDG', ' FSIGN(x) ? -y ', ' y']\n",
      "['DDG', ' y != 0.0F ? x ', ' FSIGN(x) ? -y ', ' y']\n",
      "['DDG', ' x < 0.0F ? -y ', ' y']\n"
     ]
    },
    {
     "name": "stderr",
     "output_type": "stream",
     "text": [
      " 41%|████      | 354/873 [01:56<08:06,  1.07it/s]"
     ]
    },
    {
     "name": "stdout",
     "output_type": "stream",
     "text": [
      "['DDG', ' short>(GetStringTypeW(CT_CTYPE1, &_Ch, 1, reinterpret_cast<LPWORD>(&_Mask)) == 0 ? 0 ', ' _Mask)']\n",
      "['DDG', ' GetStringTypeW(CT_CTYPE1, &_Ch, 1, reinterpret_cast<LPWORD>(&_Mask)) == 0 ? 0 ', ' _Mask']\n"
     ]
    },
    {
     "name": "stderr",
     "output_type": "stream",
     "text": [
      " 53%|█████▎    | 463/873 [02:16<03:46,  1.81it/s]"
     ]
    },
    {
     "name": "stdout",
     "output_type": "stream",
     "text": [
      "['DDG', ' y != 0.0 ? x ', ' DSIGN(x) ? -y ', ' y']\n",
      "['DDG', ' x < 0.0 ? -y ', ' y']\n",
      "['DDG', ' neg ? -x ', ' x']\n",
      "['DDG', ' neg ? -x ', ' x']\n",
      "['DDG', ' x < 0.0 ? -y ', ' y']\n",
      "['DDG', ' DSIGN(x) ? -y ', ' y']\n",
      "['DDG', ' y != 0.0 ? x ', ' DSIGN(x) ? -y ', ' y']\n"
     ]
    },
    {
     "name": "stderr",
     "output_type": "stream",
     "text": [
      " 53%|█████▎    | 466/873 [02:19<05:25,  1.25it/s]"
     ]
    },
    {
     "name": "stdout",
     "output_type": "stream",
     "text": [
      "['DDG', \" sign == '-' ? LONG_MIN \", ' LONG_MAX']\n",
      "['DDG', \" sign == '-' ? 0 - x \", ' x']\n",
      "['DDG', \" *sc == '-' || *sc == '+' ? *sc++ \", \" '+'\"]\n",
      "['DDG', \" sign == '-' ? LONG_MIN \", ' LONG_MAX']\n"
     ]
    },
    {
     "name": "stderr",
     "output_type": "stream",
     "text": [
      "\r",
      " 53%|█████▎    | 467/873 [02:21<07:04,  1.05s/it]"
     ]
    },
    {
     "name": "stdout",
     "output_type": "stream",
     "text": [
      "['DDG', \" sign == '-' ? LLONG_MIN \", ' LLONG_MAX']\n",
      "['DDG', \" sign == '-' ? 0 - x \", ' x']\n",
      "['DDG', \" char>(*sc == '-' || *sc == '+' ? *sc++ \", \" '+')\"]\n",
      "['DDG', \" *sc == '-' || *sc == '+' ? *sc++ \", \" '+'\"]\n",
      "['DDG', \" sign == '-' ? LLONG_MIN \", ' LLONG_MAX']\n"
     ]
    },
    {
     "name": "stderr",
     "output_type": "stream",
     "text": [
      "\r",
      " 54%|█████▎    | 469/873 [02:21<04:28,  1.50it/s]"
     ]
    },
    {
     "name": "stdout",
     "output_type": "stream",
     "text": [
      "['DDG', ' thr->_Hnd == nullptr ? _Thrd_error ', ' _Thrd_success']\n",
      "['DDG', ' thr->_Hnd == nullptr ? _Thrd_error ', ' _Thrd_success']\n"
     ]
    },
    {
     "name": "stderr",
     "output_type": "stream",
     "text": [
      " 54%|█████▍    | 472/873 [02:32<13:04,  1.96s/it]"
     ]
    },
    {
     "name": "stdout",
     "output_type": "stream",
     "text": [
      "['DDG', \" *sc == '-' || *sc == '+' ? *sc++ \", \" '+'\"]\n"
     ]
    },
    {
     "name": "stderr",
     "output_type": "stream",
     "text": [
      " 54%|█████▍    | 474/873 [02:37<13:12,  1.99s/it]"
     ]
    },
    {
     "name": "stdout",
     "output_type": "stream",
     "text": [
      "['DDG', \" *sc == '-' || *sc == '+' ? *sc++ \", \" '+'\"]\n",
      "['DDG', \" char>(*sc == '-' || *sc == '+' ? *sc++ \", \" '+')\"]\n"
     ]
    },
    {
     "name": "stderr",
     "output_type": "stream",
     "text": [
      "\r",
      " 54%|█████▍    | 475/873 [02:38<12:19,  1.86s/it]"
     ]
    },
    {
     "name": "stdout",
     "output_type": "stream",
     "text": [
      "['DDG', ' n1 < n2 ? n1 ', ' n2']\n",
      "['DDG', ' n1 < n2 ? -1 ', ' +1']\n",
      "['DDG', ' ans != 0 || n1 == n2 ? ans ', ' n1 < n2 ? -1 ', ' +1']\n",
      "['DDG', ' n1 < n2 ? n1 ', ' n2']\n",
      "['DDG', ' memcmp(string1, string2, n1 < n2 ? n1 ', ' n2)']\n"
     ]
    },
    {
     "name": "stderr",
     "output_type": "stream",
     "text": [
      " 55%|█████▌    | 482/873 [02:39<02:57,  2.20it/s]"
     ]
    },
    {
     "name": "stdout",
     "output_type": "stream",
     "text": [
      "['DDG', ' CloseHandle(thr._Hnd) == 0 ? _Thrd_error ', ' _Thrd_success']\n",
      "['DDG', ' CloseHandle(thr._Hnd) == 0 ? _Thrd_error ', ' _Thrd_success']\n"
     ]
    },
    {
     "name": "stderr",
     "output_type": "stream",
     "text": [
      " 56%|█████▌    | 491/873 [02:43<02:42,  2.35it/s]"
     ]
    },
    {
     "name": "stdout",
     "output_type": "stream",
     "text": [
      "['DDG', ' CloseHandle(thr._Hnd) == 0 ? _Thrd_error ', ' _Thrd_success']\n",
      "['DDG', ' CloseHandle(thr._Hnd) == 0 ? _Thrd_error ', ' _Thrd_success']\n"
     ]
    },
    {
     "name": "stderr",
     "output_type": "stream",
     "text": [
      " 57%|█████▋    | 497/873 [02:45<02:11,  2.87it/s]"
     ]
    },
    {
     "name": "stdout",
     "output_type": "stream",
     "text": [
      "['DDG', ' std', '', 'memory_order_relaxed']\n",
      "['DDG', ' freq_cached.load(std', '', 'memory_order_relaxed)']\n",
      "['DDG', ' std', '', 'memory_order_relaxed']\n",
      "['DDG', ' freq_cached.store(freq, std', '', 'memory_order_relaxed)']\n",
      "['DDG', ' std', '', 'memory_order_relaxed']\n",
      "['DDG', ' std', '', 'memory_order_relaxed']\n"
     ]
    },
    {
     "name": "stderr",
     "output_type": "stream",
     "text": [
      " 58%|█████▊    | 503/873 [02:49<05:36,  1.10it/s]"
     ]
    },
    {
     "name": "stdout",
     "output_type": "stream",
     "text": [
      "['DDG', ' n1 < n2 ? n1 ', ' n2']\n",
      "['DDG', ' n1 < n2 ? n1 ', ' n2']\n",
      "['DDG', ' ans != 0 || n1 == n2 ? ans ', ' n1 < n2 ? -1 ', ' +1']\n",
      "['DDG', ' n1 < n2 ? -1 ', ' +1']\n",
      "['DDG', ' wmemcmp(string1, string2, n1 < n2 ? n1 ', ' n2)']\n"
     ]
    },
    {
     "name": "stderr",
     "output_type": "stream",
     "text": [
      " 61%|██████    | 531/873 [03:07<12:39,  2.22s/it]"
     ]
    },
    {
     "name": "stdout",
     "output_type": "stream",
     "text": [
      "['DDG', ' x0 != FLIT(0.0) ? x0 ', ' p[k]']\n"
     ]
    },
    {
     "name": "stderr",
     "output_type": "stream",
     "text": [
      " 99%|█████████▉| 863/873 [03:35<00:00, 10.21it/s]"
     ]
    },
    {
     "name": "stdout",
     "output_type": "stream",
     "text": [
      "['DDG', ' __std_atomic_api_level', '', '__detecting']\n",
      "['DDG', ' __std_atomic_api_level', '', '__detecting']\n",
      "['DDG', ' _Level > __std_atomic_api_level', '', '__detecting']\n",
      "['DDG', ' _Wait_functions._Api_level.compare_exchange_weak(_Level, __std_atomic_api_level', '', '__detecting)']\n",
      "['DDG', ' !_Wait_functions._Api_level.compare_exchange_weak(_Level, __std_atomic_api_level', '', '__detecting)']\n",
      "['DDG', ' __std_atomic_api_level', '', '__has_srwlock']\n",
      "['DDG', ' __std_atomic_api_level', '', '__has_wait_on_address']\n",
      "['DDG', ' __std_atomic_api_level', '', '__detecting']\n",
      "['DDG', ' __std_atomic_api_level', '', '__detecting']\n",
      "['DDG', ' file_type', '', 'directory']\n",
      "['DDG', ' file_type', '', 'regular']\n",
      "['DDG', ' file_type', '', 'unknown']\n"
     ]
    },
    {
     "name": "stderr",
     "output_type": "stream",
     "text": [
      " 99%|█████████▉| 868/873 [03:36<00:00,  5.52it/s]"
     ]
    },
    {
     "name": "stdout",
     "output_type": "stream",
     "text": [
      "['DDG', ' file_type', '', 'unknown']\n"
     ]
    },
    {
     "name": "stderr",
     "output_type": "stream",
     "text": [
      "100%|██████████| 873/873 [03:37<00:00,  4.01it/s]\n"
     ]
    }
   ],
   "source": [
    "import os\n",
    "import re\n",
    "import pydot\n",
    "edge_dict_list = []\n",
    "directory = 'cpg/stl/out/'\n",
    "edges = {}\n",
    "dot_str = ''\n",
    "for filename in tqdm(os.listdir(directory)):\n",
    "    if filename.endswith(\".dot\") :\n",
    "        try:\n",
    "            with open(directory + filename) as f:\n",
    "                dot_str = f.read()\n",
    "                li = dot_str.split('\\n')\n",
    "                li[0] = re.sub(r'[^a-zA-Z0-9{\\s]','',li[0])\n",
    "                dot_str = '\\n'.join(li)\n",
    "            g = pydot.graph_from_dot_data(dot_str)[0]\n",
    "            for e in g.get_edges():\n",
    "                s = int(re.sub('\"','',e.get_source()))\n",
    "                t = int(re.sub('\"','',e.get_destination()))\n",
    "                lbls = re.sub('\"','',e.get_attributes()['label']).split(':')\n",
    "                if len(lbls)>2:\n",
    "                    print(lbls)\n",
    "                rel = MyRel({lbls[0]:LBL()})\n",
    "                rel.nodes[0] = node_map[s]\n",
    "                rel.nodes[1] = node_map[t]\n",
    "                edge_dict_list.append(rel)\n",
    "        except:\n",
    "            print(dot_str)\n",
    "            print(filename)"
   ]
  },
  {
   "cell_type": "code",
   "execution_count": 45,
   "metadata": {},
   "outputs": [],
   "source": [
    "from pickle5 import pickle\n",
    "with open('stl_edge_dict_list.pkl','wb') as f:\n",
    "    pickle.dump(edge_dict_list, f)"
   ]
  },
  {
   "cell_type": "code",
   "execution_count": 113,
   "metadata": {},
   "outputs": [],
   "source": [
    "edge_dict_list = pickle.load(open('stl_edge_dict_list.pkl','rb'))"
   ]
  },
  {
   "cell_type": "code",
   "execution_count": 114,
   "metadata": {},
   "outputs": [
    {
     "data": {
      "text/plain": [
       "38679"
      ]
     },
     "execution_count": 114,
     "metadata": {},
     "output_type": "execute_result"
    }
   ],
   "source": [
    "len(edge_dict_list)"
   ]
  },
  {
   "cell_type": "code",
   "execution_count": 42,
   "metadata": {},
   "outputs": [
    {
     "name": "stderr",
     "output_type": "stream",
     "text": [
      "20077it [00:00, 34618.45it/s]\n",
      "38679it [00:09, 4190.72it/s]"
     ]
    },
    {
     "name": "stdout",
     "output_type": "stream",
     "text": [
      "Schema extraction time 9.815649509429932\n"
     ]
    },
    {
     "name": "stderr",
     "output_type": "stream",
     "text": [
      "\n"
     ]
    }
   ],
   "source": [
    "from Schema import Schema\n",
    "cpg_sc = Schema()\n",
    "cpg_sc.extractSchema(node_dict_list=node_dict_list,edge_dict_list=edge_dict_list)"
   ]
  },
  {
   "cell_type": "code",
   "execution_count": 49,
   "metadata": {},
   "outputs": [],
   "source": [
    "# with open('stl_cpg_schema.pkl','wb') as f:\n",
    "#     pickle.dump(cpg_sc, f, -1)\n"
   ]
  },
  {
   "cell_type": "code",
   "execution_count": 115,
   "metadata": {},
   "outputs": [
    {
     "data": {
      "text/plain": [
       "(32, 378)"
      ]
     },
     "execution_count": 115,
     "metadata": {},
     "output_type": "execute_result"
    }
   ],
   "source": [
    "len(gt_cpg_sc.nodetypeset),len(gt_cpg_sc.edgetypeset)"
   ]
  },
  {
   "cell_type": "code",
   "execution_count": 2,
   "metadata": {},
   "outputs": [],
   "source": [
    "cpg_sc = pickle.load(open('stl_cpg_schema.pkl','rb',-1))\n",
    "# gt_cpg_sc = pickle.load(open('gt_cpg_sc_stl.pkl','rb',-1))\n",
    "\n",
    "gt_cpg_sc = pickle.load(open('gt_cpg_sc_stl_enhanced.pkl','rb',-1))"
   ]
  },
  {
   "cell_type": "code",
   "execution_count": 93,
   "metadata": {
    "scrolled": true
   },
   "outputs": [
    {
     "name": "stdout",
     "output_type": "stream",
     "text": [
      "16 16 13\n",
      "precision:  0.5517241379310345\n",
      "recall:  0.5\n",
      "f1_score:  0.5245901639344263\n",
      "20 358 45\n",
      "precision:  0.3076923076923077\n",
      "recall:  0.05291005291005291\n",
      "f1_score:  0.09029345372460496\n"
     ]
    }
   ],
   "source": [
    "cpg_sc.computeF1score(gt_cpg_sc,igoreDatatype=True)"
   ]
  },
  {
   "cell_type": "code",
   "execution_count": 96,
   "metadata": {},
   "outputs": [
    {
     "name": "stdout",
     "output_type": "stream",
     "text": [
      "16 16 7\n",
      "precision:  0.6956521739130435\n",
      "recall:  0.5\n",
      "f1_score:  0.5818181818181818\n",
      "20 358 40\n",
      "precision:  0.3333333333333333\n",
      "recall:  0.05291005291005291\n",
      "f1_score:  0.091324200913242\n"
     ]
    }
   ],
   "source": [
    "cpg_sc.mergeByLabelsSet()\n",
    "cpg_sc.computeF1score(gt_cpg_sc,igoreDatatype=True)"
   ]
  },
  {
   "cell_type": "code",
   "execution_count": 98,
   "metadata": {},
   "outputs": [
    {
     "name": "stdout",
     "output_type": "stream",
     "text": [
      "23 clusters found out of 29 nodes\n",
      "60 clusters found out of 65 nodes\n",
      "16 16 7\n",
      "precision:  0.6956521739130435\n",
      "recall:  0.5\n",
      "f1_score:  0.5818181818181818\n",
      "20 358 40\n",
      "precision:  0.3333333333333333\n",
      "recall:  0.05291005291005291\n",
      "f1_score:  0.091324200913242\n"
     ]
    }
   ],
   "source": [
    "cpg_sc = pickle.load(open('stl_cpg_schema.pkl','rb',-1))\n",
    "cpg_sc.mergeByJaccardSim(idf=True)\n",
    "cpg_sc.computeF1score(gt_cpg_sc,igoreDatatype=True)"
   ]
  },
  {
   "cell_type": "code",
   "execution_count": 100,
   "metadata": {},
   "outputs": [
    {
     "name": "stdout",
     "output_type": "stream",
     "text": [
      "8 clusters found out of 29 nodes\n",
      "7 clusters found out of 65 nodes\n",
      "3 29 5\n",
      "precision:  0.375\n",
      "recall:  0.09375\n",
      "f1_score:  0.15\n",
      "0 378 7\n",
      "precision:  0.0\n",
      "recall:  0.0\n",
      "f1_score:  0\n"
     ]
    }
   ],
   "source": [
    "cpg_sc = pickle.load(open('stl_cpg_schema.pkl','rb',-1))\n",
    "cpg_sc.mergeByJaccardSim()\n",
    "cpg_sc.computeF1score(gt_cpg_sc,igoreDatatype=True)"
   ]
  },
  {
   "cell_type": "code",
   "execution_count": 101,
   "metadata": {},
   "outputs": [
    {
     "name": "stdout",
     "output_type": "stream",
     "text": [
      "start merging node type by DBScan, with idf False\n",
      "3 clusters found out of 29 nodes\n",
      "start merging edge type by DBScan, with idf False\n",
      "4 clusters found out of 65 nodes\n",
      "1 31 2\n",
      "precision:  0.3333333333333333\n",
      "recall:  0.03125\n",
      "f1_score:  0.05714285714285714\n",
      "0 378 4\n",
      "precision:  0.0\n",
      "recall:  0.0\n",
      "f1_score:  0\n"
     ]
    }
   ],
   "source": [
    "cpg_sc = pickle.load(open('stl_cpg_schema.pkl','rb',-1))\n",
    "cpg_sc.mergeByDBScan()\n",
    "cpg_sc.computeF1score(gt_cpg_sc,igoreDatatype=True)"
   ]
  },
  {
   "cell_type": "code",
   "execution_count": 102,
   "metadata": {},
   "outputs": [
    {
     "name": "stdout",
     "output_type": "stream",
     "text": [
      "start merging node type by DBScan, with idf True\n",
      "22 clusters found out of 29 nodes\n",
      "start merging edge type by DBScan, with idf True\n",
      "idf not supported\n",
      "15 17 7\n",
      "precision:  0.6818181818181818\n",
      "recall:  0.46875\n",
      "f1_score:  0.5555555555555556\n",
      "20 358 45\n",
      "precision:  0.3076923076923077\n",
      "recall:  0.05291005291005291\n",
      "f1_score:  0.09029345372460496\n"
     ]
    }
   ],
   "source": [
    "cpg_sc = pickle.load(open('stl_cpg_schema.pkl','rb',-1))\n",
    "cpg_sc.mergeByDBScan(idf=True)\n",
    "cpg_sc.computeF1score(gt_cpg_sc,igoreDatatype=True)"
   ]
  },
  {
   "cell_type": "code",
   "execution_count": 5,
   "metadata": {},
   "outputs": [
    {
     "name": "stdout",
     "output_type": "stream",
     "text": [
      "components  2\n",
      "2 clusters found out of 29 nodes\n",
      "13 clusters found out of 65 nodes\n",
      "0 32 2\n",
      "precision:  0.0\n",
      "recall:  0.0\n",
      "f1_score:  0\n",
      "1 377 12\n",
      "precision:  0.07692307692307693\n",
      "recall:  0.0026455026455026454\n",
      "f1_score:  0.005115089514066496\n"
     ]
    }
   ],
   "source": [
    "cpg_sc = pickle.load(open('stl_cpg_schema.pkl','rb',-1))\n",
    "cpg_sc.mergeBySimAndEdge(comb='AVG')\n",
    "cpg_sc.computeF1score(gt_cpg_sc,igoreDatatype=True)"
   ]
  },
  {
   "cell_type": "code",
   "execution_count": 6,
   "metadata": {},
   "outputs": [
    {
     "name": "stdout",
     "output_type": "stream",
     "text": [
      "number of node types  2\n",
      "number of elements:  1\n",
      "------------Content Type----------------\n",
      "overlays? list           \n",
      "policyDirectories? list           \n",
      "version? str            \n",
      "language? str            \n",
      "id       int            \n",
      "META_DATA? LBL            \n",
      "name?    str            \n",
      "fullName? str            \n",
      "order?   int            \n",
      "filename? str            \n",
      "NAMESPACE_BLOCK? LBL            \n",
      "typeDeclFullName? str            \n",
      "TYPE?    LBL            \n",
      "code?    str            \n",
      "lineNumber? int            \n",
      "COMMENT? LBL            \n",
      "astParentFullName? str            \n",
      "columnNumberEnd? int            \n",
      "signature? str            \n",
      "astParentType? str            \n",
      "columnNumber? int            \n",
      "lineNumberEnd? int            \n",
      "isExternal? bool           \n",
      "METHOD?  LBL            \n",
      "dynamicTypeHintFullName? list           \n",
      "evaluationStrategy? str            \n",
      "typeFullName? str            \n",
      "METHOD_PARAMETER_IN? LBL            \n",
      "argumentIndex? int            \n",
      "BLOCK?   LBL            \n",
      "LOCAL?   LBL            \n",
      "parserTypeName? str            \n",
      "controlStructureType? str            \n",
      "CONTROL_STRUCTURE? LBL            \n",
      "IDENTIFIER? LBL            \n",
      "LITERAL? LBL            \n",
      "METHOD_RETURN? LBL            \n",
      "inheritsFromTypeFullName? list           \n",
      "TYPE_DECL? LBL            \n",
      "MEMBER?  LBL            \n",
      "JUMP_TARGET? LBL            \n",
      "UNKNOWN? LBL            \n",
      "METHOD_PARAMETER_OUT? LBL            \n",
      "FILE?    LBL            \n",
      "isMethodNeverOverridden? bool           \n",
      "BINDING? LBL            \n",
      "NAMESPACE? LBL            \n",
      "number of elements:  152\n",
      "------------Content Type----------------\n",
      "name?    str            \n",
      "code     str            \n",
      "typeFullName? str            \n",
      "columnNumber int            \n",
      "order    int            \n",
      "methodFullName? str            \n",
      "argumentIndex int            \n",
      "dynamicTypeHintFullName? list           \n",
      "dispatchType? str            \n",
      "signature? str            \n",
      "lineNumber int            \n",
      "id       int            \n",
      "CALL?    LBL            \n",
      "canonicalName? str            \n",
      "FIELD_IDENTIFIER? LBL            \n",
      "RETURN?  LBL            \n",
      "parserTypeName? str            \n",
      "UNKNOWN? LBL            \n"
     ]
    }
   ],
   "source": [
    "cpg_sc.nodetypeset.print()"
   ]
  },
  {
   "cell_type": "code",
   "execution_count": 22,
   "metadata": {},
   "outputs": [],
   "source": [
    "with open('cpg/stl/base.json') as f:\n",
    "    d = json.load(f)\n",
    "for nt in d['nodeTypes']:\n",
    "    for j in range(len(nt['keys'])):\n",
    "        nt['keys'][j] = underscoreToCap(nt['keys'][j])\n",
    "cpg_gt_nodemap = {}\n",
    "for nt in d['nodeTypes']:\n",
    "    cpg_gt_nodemap[nt['name']] = nt"
   ]
  },
  {
   "cell_type": "code",
   "execution_count": 90,
   "metadata": {},
   "outputs": [],
   "source": [
    "with open('cpg/stl/base.json') as f:\n",
    "    d = json.load(f)\n",
    "with open('cpg/stl/enhancements.json') as f:\n",
    "    en_d = json.load(f)\n",
    "# merge two schema\n",
    "cpg_gt_nodemap = {}\n",
    "for nt in d['nodeTypes']:\n",
    "    cpg_gt_nodemap[nt['name']] = nt\n",
    "def appendJsonNodeTypeAttr(d, type_name, key, nt):\n",
    "    if not key in d[type_name]:\n",
    "        d[type_name][key] = []\n",
    "    if key in nt:\n",
    "        d[type_name][key] = d[type_name][key] + nt[key]\n",
    "\n",
    "for nt in en_d['nodeTypes']:\n",
    "    cnt += 1\n",
    "    if nt['name'] in cpg_gt_nodemap:\n",
    "        for k in ['keys','outEdges']:\n",
    "            appendJsonNodeTypeAttr(cpg_gt_nodemap, nt['name'], k, nt)\n",
    "#             print('just nt', nt, '\\n')\n",
    "#             print('after merged',cpg_gt_nodemap[nt['name']],'\\n')\n",
    "    else:\n",
    "        cpg_gt_nodemap[nt['name']] = nt\n",
    "# cpg_gt_nodemap is the merged ground truth"
   ]
  },
  {
   "cell_type": "code",
   "execution_count": 92,
   "metadata": {},
   "outputs": [
    {
     "name": "stdout",
     "output_type": "stream",
     "text": [
      "policyDirectories\n",
      "astParentType\n",
      "astParentFullName\n",
      "evaluationStrategy\n",
      "dynamicTypeHintFullName\n",
      "evaluationStrategy\n",
      "dynamicTypeHintFullName\n",
      "astParentType\n",
      "astParentFullName\n",
      "dynamicTypeHintFullName\n",
      "dynamicTypeHintFullName\n",
      "dispatchType\n",
      "dynamicTypeHintFullName\n",
      "closureBindingId\n",
      "dynamicTypeHintFullName\n",
      "dynamicTypeHintFullName\n",
      "dynamicTypeHintFullName\n",
      "dynamicTypeHintFullName\n",
      "dynamicTypeHintFullName\n",
      "internalFlags\n",
      "dynamicTypeHintFullName\n",
      "isMethodNeverOverridden\n",
      "value\n",
      "evaluationStrategy\n"
     ]
    }
   ],
   "source": [
    "# with open('cpg/stl/base.json') as f:\n",
    "#     d = json.load(f)\n",
    "from pydoc import locate\n",
    "from Schema import Schema\n",
    "def underscoreToCap(s):\n",
    "    li  =  s.lower().split('_')\n",
    "    for i in range(1,len(li)):\n",
    "        li[i] = li[i].capitalize()\n",
    "    return ''.join(li)   \n",
    "\n",
    "\n",
    "node_key_set = {}\n",
    "for i in d['nodeKeys']:\n",
    "#     print(i)\n",
    "    if i['valueType']=='string':\n",
    "        i['valueType'] = 'str'\n",
    "    if i['valueType']=='boolean':\n",
    "        i['valueType'] = 'bool'\n",
    "    node_key_set[underscoreToCap(i['name'])] = locate(i['valueType'])\n",
    "    \n",
    "with open('cpg/stl/base.json') as f:\n",
    "    d = json.load(f)\n",
    "gt_cpg_sc = Schema()\n",
    "from ElementType import LBL\n",
    "gt_nodetypes = []\n",
    "node_map = {} #node name to NodeType map\n",
    "not_in_node_key = []\n",
    "for k in cpg_gt_nodemap:\n",
    "    nt = cpg_gt_nodemap[k]\n",
    "    attrs = {}\n",
    "    for k in nt['keys']:\n",
    "        \n",
    "        lower_k = underscoreToCap(k)\n",
    "#         print('k',k,'lower_k',lower_k)\n",
    "        if lower_k in node_key_set:\n",
    "            attrs[lower_k] = set([node_key_set[lower_k]])\n",
    "        else:\n",
    "            not_in_node_key.append(lower_k)\n",
    "            attrs[lower_k] = set([str])\n",
    "            print(lower_k)\n",
    "    attrs[nt['name']] = set([LBL])\n",
    "    attrs['id'] = set([int])\n",
    "    node_type = NodeType()\n",
    "    node_type.attributes = attrs\n",
    "    node_map[nt['name']] = node_type\n",
    "    gt_nodetypes.append(node_type)\n",
    "    \n",
    "    # constructing edges\n",
    "edge_types = []\n",
    "for k in cpg_gt_nodemap:\n",
    "    nt = cpg_gt_nodemap[k]\n",
    "    src = node_map[nt['name']]\n",
    "    if not 'outEdges' in nt:\n",
    "        continue\n",
    "    for outEdge in nt['outEdges']:\n",
    "        for tar in outEdge['inNodes']:\n",
    "            if tar['name'] in node_map:\n",
    "                et = EdgeType(src_type=src, target_type=node_map[tar['name']],relation_type={outEdge['edgeName']:set([LBL])})\n",
    "                edge_types.append(et)\n",
    "# not_in_node_key\n",
    "gt_cpg_sc.nodetypeset.nodetypes = gt_nodetypes\n",
    "gt_cpg_sc.nodetypeset.numOfType = [1 for i in gt_nodetypes]\n",
    "gt_cpg_sc.edgetypeset.edgetypes = edge_types\n",
    "gt_cpg_sc.edgetypeset.numOfType = [1 for i in edge_types]\n",
    "# with open('gt_cpg_sc_stl.pkl','wb') as f:\n",
    "#     pickle.dump(gt_cpg_sc,f)"
   ]
  },
  {
   "cell_type": "code",
   "execution_count": 94,
   "metadata": {},
   "outputs": [],
   "source": [
    "# with open('gt_cpg_sc_stl_enhanced.pkl','wb') as f:\n",
    "#     pickle.dump(gt_cpg_sc,f)"
   ]
  },
  {
   "cell_type": "code",
   "execution_count": 5,
   "metadata": {},
   "outputs": [],
   "source": [
    "# gt_cpg_sc.print()\n",
    "# node_key_set\n",
    "# for nt in gt_cpg_sc.nodetypeset.nodetypes:\n",
    "#     print(nt.attributes)"
   ]
  },
  {
   "cell_type": "code",
   "execution_count": 204,
   "metadata": {},
   "outputs": [
    {
     "name": "stdout",
     "output_type": "stream",
     "text": [
      "extracted  {'overlays', 'policyDirectories', 'META_DATA', 'version', 'id', 'language'}\n",
      "ground truth {'overlays', 'META_DATA', 'version', 'hash', 'id', 'language'}\n",
      "\n",
      "\n",
      "extracted  {'name', 'typeFullName', 'LOCAL', 'code', 'id', 'dynamicTypeHintFullName', 'order'}\n",
      "ground truth {'columnNumber', 'typeFullName', 'name', 'LOCAL', 'code', 'id', 'lineNumber', 'order'}\n",
      "\n",
      "\n",
      "extracted  {'name', 'filename', 'isExternal', 'order', 'TYPE_DECL', 'astParentType', 'fullName', 'astParentFullName', 'inheritsFromTypeFullName', 'id'}\n",
      "ground truth {'name', 'filename', 'isExternal', 'order', 'TYPE_DECL', 'fullName', 'id', 'inheritsFromTypeFullName', 'aliasTypeFullName'}\n",
      "\n",
      "\n",
      "extracted  {'typeFullName', 'BLOCK', 'code', 'argumentIndex', 'id', 'dynamicTypeHintFullName', 'order'}\n",
      "ground truth {'columnNumber', 'typeFullName', 'BLOCK', 'order', 'code', 'id', 'lineNumber', 'argumentIndex'}\n",
      "\n",
      "\n",
      "extracted  {'typeFullName', 'parserTypeName', 'code', 'order', 'argumentIndex', 'UNKNOWN', 'id', 'dynamicTypeHintFullName'}\n",
      "ground truth {'typeFullName', 'parserTypeName', 'code', 'order', 'argumentIndex', 'UNKNOWN', 'id', 'lineNumber', 'columnNumber'}\n",
      "\n",
      "\n",
      "extracted  {'name', 'METHOD', 'code', 'isExternal', 'order', 'astParentType', 'fullName', 'signature', 'astParentFullName', 'id', 'filename'}\n",
      "ground truth {'name', 'METHOD', 'code', 'lineNumberEnd', 'columnNumberEnd', 'isExternal', 'order', 'fullName', 'signature', 'id', 'lineNumber', 'columnNumber', 'filename'}\n",
      "\n",
      "\n",
      "extracted  {'name', 'typeFullName', 'code', 'order', 'METHOD_PARAMETER_IN', 'id', 'dynamicTypeHintFullName', 'evaluationStrategy'}\n",
      "ground truth {'columnNumber', 'name', 'typeFullName', 'METHOD_PARAMETER_IN', 'code', 'id', 'lineNumber', 'order'}\n",
      "\n",
      "\n",
      "extracted  {'typeFullName', 'METHOD_RETURN', 'code', 'id', 'dynamicTypeHintFullName', 'order', 'evaluationStrategy'}\n",
      "ground truth {'columnNumber', 'typeFullName', 'METHOD_RETURN', 'code', 'id', 'lineNumber', 'order'}\n",
      "\n",
      "\n",
      "extracted  {'FILE', 'name', 'id', 'order'}\n",
      "ground truth {'name', 'FILE', 'hash', 'id', 'order'}\n",
      "\n",
      "\n"
     ]
    },
    {
     "data": {
      "text/plain": [
       "(6, 23, 15)"
      ]
     },
     "execution_count": 204,
     "metadata": {},
     "output_type": "execute_result"
    }
   ],
   "source": [
    "FP = 0\n",
    "TP = 0\n",
    "subset = 0\n",
    "for extracted_nt in cpg_sc.nodetypeset.nodetypes:\n",
    "    lb = extracted_nt.getLabels()[0]\n",
    "    if lb in cpg_gt_nodemap:\n",
    "        gt_nt = cpg_gt_nodemap[lb]\n",
    "        gt_attrs = set(gt_nt['keys'])\n",
    "        not_in_attrs = set()\n",
    "        for attr in gt_attrs:\n",
    "            if not attr in node_key_set:\n",
    "                not_in_attrs.add(attr)\n",
    "            \n",
    "        gt_attrs = gt_attrs - not_in_attrs\n",
    "        gt_attrs = gt_attrs.union( set([lb,'id']) )\n",
    "        if set(extracted_nt.attributes) == gt_attrs:\n",
    "            TP += 1 \n",
    "        else:\n",
    "            FP += 1\n",
    "#             print('extracted ',set(extracted_nt.attributes))\n",
    "#             print('ground truth', gt_attrs)            \n",
    "        if gt_attrs.issubset(set(extracted_nt.attributes)):\n",
    "            subset += 1\n",
    "        else:\n",
    "            print('extracted ',set(extracted_nt.attributes))\n",
    "            print('ground truth', gt_attrs)    \n",
    "            print('\\n')\n",
    "#             print('extracted ',set(extracted_nt.attributes))\n",
    "#             print(gt_attrs)\n",
    "    else:\n",
    "        FP+=1\n",
    "TP,FP, subset"
   ]
  },
  {
   "cell_type": "code",
   "execution_count": 38,
   "metadata": {},
   "outputs": [],
   "source": [
    "# lbl_set = set()\n",
    "# for i in node_dict_list:\n",
    "#     if i['_label']=='CALL':\n",
    "#         print(i)\n",
    "#     lbl_set.add(i['_label'])\n",
    "# cpg_sc.print()\n",
    "with open('cpg/stl/out/165-cpg.dot') as f:\n",
    "    dot_str = f.read()\n",
    "    li = dot_str.split('\\n')\n",
    "    li[0] = re.sub(r'[^a-zA-Z0-9{\\s]','',li[0])\n",
    "    dot_str = '\\n'.join(li)\n",
    "g = pydot.graph_from_dot_data(dot_str)[0]"
   ]
  },
  {
   "cell_type": "code",
   "execution_count": 40,
   "metadata": {},
   "outputs": [
    {
     "name": "stdout",
     "output_type": "stream",
     "text": [
      "855147076265588615 855147076265588616 ['AST', ' ']\n",
      "855147076265588615 855147076265588616 ['AST', ' ']\n",
      "855147076265588615 855147076265588617 ['AST', ' ']\n",
      "855147076265588615 855147076265588638 ['AST', ' ']\n",
      "855147076265588617 855147076265588618 ['AST', ' ']\n",
      "855147076265588617 855147076265588619 ['AST', ' ']\n",
      "855147076265588617 855147076265588631 ['AST', ' ']\n",
      "855147076265588617 855147076265588636 ['AST', ' ']\n",
      "855147076265588619 855147076265588620 ['AST', ' ']\n",
      "855147076265588619 855147076265588621 ['AST', ' ']\n",
      "855147076265588621 855147076265588622 ['AST', ' ']\n",
      "855147076265588621 855147076265588628 ['AST', ' ']\n",
      "855147076265588621 855147076265588629 ['AST', ' ']\n",
      "855147076265588621 855147076265588630 ['AST', ' ']\n",
      "855147076265588622 855147076265588623 ['AST', ' ']\n",
      "855147076265588622 855147076265588626 ['AST', ' ']\n",
      "855147076265588622 855147076265588627 ['AST', ' ']\n",
      "855147076265588623 855147076265588624 ['AST', ' ']\n",
      "855147076265588623 855147076265588625 ['AST', ' ']\n",
      "855147076265588631 855147076265588632 ['AST', ' ']\n",
      "855147076265588631 855147076265588634 ['AST', ' ']\n",
      "855147076265588632 855147076265588633 ['AST', ' ']\n",
      "855147076265588634 855147076265588635 ['AST', ' ']\n",
      "855147076265588636 855147076265588637 ['AST', ' ']\n",
      "855147076265588619 855147076265588632 ['AST', ' ']\n",
      "855147076265588619 855147076265588632 ['AST', ' ']\n",
      "855147076265588621 855147076265588619 ['AST', ' ']\n",
      "855147076265588621 855147076265588619 ['AST', ' ']\n",
      "855147076265588621 855147076265588619 ['AST', ' ']\n",
      "855147076265588621 855147076265588619 ['AST', ' ']\n",
      "855147076265588621 855147076265588619 ['AST', ' ']\n",
      "855147076265588622 855147076265588621 ['AST', ' ']\n",
      "855147076265588623 855147076265588622 ['AST', ' ']\n",
      "855147076265588623 855147076265588622 ['AST', ' ']\n",
      "855147076265588632 855147076265588635 ['AST', ' ']\n",
      "855147076265588632 855147076265588635 ['AST', ' ']\n",
      "855147076265588632 855147076265588636 ['AST', ' ']\n",
      "855147076265588632 855147076265588636 ['AST', ' ']\n",
      "855147076265588635 855147076265588636 ['AST', ' ']\n",
      "855147076265588636 855147076265588638 ['AST', ' ']\n",
      "855147076265588636 855147076265588638 ['AST', ' ']\n",
      "855147076265588615 855147076265588623 ['AST', ' ']\n",
      "855147076265588615 855147076265588623 ['AST', ' ']\n",
      "855147076265588632 855147076265588638 ['AST', ' ']\n",
      "855147076265588632 855147076265588638 ['AST', ' ']\n",
      "855147076265588635 855147076265588638 ['AST', ' ']\n",
      "855147076265588622 855147076265588638 ['AST', ' ']\n",
      "855147076265588622 855147076265588638 ['AST', ' ']\n",
      "855147076265588616 855147076265588638 ['AST', ' ']\n",
      "855147076265588621 855147076265588638 ['AST', ' ']\n",
      "855147076265588621 855147076265588638 ['AST', ' ']\n",
      "855147076265588621 855147076265588638 ['AST', ' ']\n",
      "855147076265588621 855147076265588638 ['AST', ' ']\n",
      "855147076265588619 855147076265588638 ['AST', ' ']\n",
      "855147076265588615 855147076265588619 ['AST', ' ']\n",
      "855147076265588623 855147076265588621 ['AST', ' ']\n",
      "855147076265588616 855147076265588621 ['AST', ' ']\n",
      "855147076265588615 855147076265588621 ['AST', ' ']\n",
      "855147076265588616 855147076265588623 ['AST', ' ']\n",
      "855147076265588616 855147076265588622 ['AST', ' ']\n",
      "855147076265588615 855147076265588622 ['AST', ' ']\n",
      "855147076265588615 855147076265588632 ['AST', ' ']\n",
      "855147076265588615 855147076265588635 ['AST', ' ']\n",
      "855147076265588637 855147076265588636 ['AST', ' ']\n",
      "855147076265588615 855147076265588637 ['AST', ' ']\n"
     ]
    }
   ],
   "source": [
    "for e in g.get_edges():\n",
    "    s = int(re.sub('\"','',e.get_source()))\n",
    "    t = int(re.sub('\"','',e.get_destination()))\n",
    "    lbls = re.sub('\"','',g.get_edges()[0].get_attributes()['label']).split(':')\n",
    "    print(s,t,lbls)\n",
    "#     if len(lbls)>2:\n",
    "#         print(lbls)\n",
    "#     rel = MyRel({lbls[0]:LBL()})\n",
    "#     rel.nodes[0] = node_map[s]\n",
    "#     rel.nodes[1] = node_map[t]"
   ]
  },
  {
   "cell_type": "code",
   "execution_count": 31,
   "metadata": {},
   "outputs": [],
   "source": [
    "cpg_sc.mergeByLabelsSet()"
   ]
  },
  {
   "cell_type": "code",
   "execution_count": 19,
   "metadata": {},
   "outputs": [],
   "source": [
    "nodes = pd.read_csv('shop_data/nodes.csv')\n",
    "props = pd.read_csv('shop_data/properties.csv')\n",
    "rels = pd.read_csv('shop_data/relationships.csv')\n",
    "node_map = {} # map node id to node dict\n",
    "for i,n in nodes.iterrows():\n",
    "  node_map[n['id']] = {n['label']:LBL()}"
   ]
  },
  {
   "cell_type": "code",
   "execution_count": 24,
   "metadata": {},
   "outputs": [],
   "source": [
    "for i,p in props.iterrows():\n",
    "  \n",
    "  if not p['node_id'] in node_map:\n",
    "    print(p,'not in')\n",
    "  node_map[p['node_id']][p['key']] = p['val']"
   ]
  },
  {
   "cell_type": "code",
   "execution_count": 45,
   "metadata": {},
   "outputs": [
    {
     "name": "stderr",
     "output_type": "stream",
     "text": [
      "1705692it [06:12, 4584.14it/s]\n"
     ]
    }
   ],
   "source": [
    "edge_dict_list = []\n",
    "emap = {}\n",
    "for i, r in tqdm(rels.iterrows()):\n",
    "    rel = MyRel({r['rel']:LBL()})\n",
    "    rel.nodes[0] = node_map[r['s_id']]\n",
    "    rel.nodes[1] = node_map[r['t_id']]\n",
    "    edge_dict_list.append(rel)\n",
    "    hx = rel.mapToStr()\n",
    "    if not hx in emap:\n",
    "        emap[hx]=rel\n",
    "#     if i>100:\n",
    "#         break"
   ]
  },
  {
   "cell_type": "code",
   "execution_count": 48,
   "metadata": {},
   "outputs": [],
   "source": [
    "from pickle5 import pickle\n",
    "with open('shop_rel_map.pkl','wb') as f:\n",
    "    pickle.dump(emap,f,-1)"
   ]
  },
  {
   "cell_type": "code",
   "execution_count": 46,
   "metadata": {},
   "outputs": [
    {
     "data": {
      "text/plain": [
       "76786"
      ]
     },
     "execution_count": 46,
     "metadata": {},
     "output_type": "execute_result"
    }
   ],
   "source": [
    "len(emap)"
   ]
  },
  {
   "cell_type": "code",
   "execution_count": 43,
   "metadata": {},
   "outputs": [
    {
     "data": {
      "text/plain": [
       "76786"
      ]
     },
     "execution_count": 43,
     "metadata": {},
     "output_type": "execute_result"
    }
   ],
   "source": [
    "len(emap)"
   ]
  },
  {
   "cell_type": "code",
   "execution_count": 11,
   "metadata": {},
   "outputs": [
    {
     "name": "stderr",
     "output_type": "stream",
     "text": [
      "33677it [01:32, 363.88it/s] \n",
      "49000it [21:52, 37.34it/s] \n"
     ]
    },
    {
     "ename": "KeyboardInterrupt",
     "evalue": "",
     "output_type": "error",
     "traceback": [
      "\u001b[1;31m---------------------------------------------------------------------------\u001b[0m",
      "\u001b[1;31mKeyboardInterrupt\u001b[0m                         Traceback (most recent call last)",
      "\u001b[1;32m<ipython-input-11-9029059f155b>\u001b[0m in \u001b[0;36m<module>\u001b[1;34m\u001b[0m\n\u001b[0;32m      2\u001b[0m \u001b[0msc\u001b[0m \u001b[1;33m=\u001b[0m \u001b[0mSchema\u001b[0m\u001b[1;33m(\u001b[0m\u001b[1;33m)\u001b[0m\u001b[1;33m\u001b[0m\u001b[1;33m\u001b[0m\u001b[0m\n\u001b[0;32m      3\u001b[0m \u001b[0mnode_dict_list\u001b[0m \u001b[1;33m=\u001b[0m \u001b[1;33m[\u001b[0m\u001b[0mnode_map\u001b[0m\u001b[1;33m[\u001b[0m\u001b[0mk\u001b[0m\u001b[1;33m]\u001b[0m \u001b[1;32mfor\u001b[0m \u001b[0mk\u001b[0m \u001b[1;32min\u001b[0m \u001b[0mnode_map\u001b[0m\u001b[1;33m]\u001b[0m\u001b[1;33m\u001b[0m\u001b[1;33m\u001b[0m\u001b[0m\n\u001b[1;32m----> 4\u001b[1;33m \u001b[0msc\u001b[0m\u001b[1;33m.\u001b[0m\u001b[0mextractSchema\u001b[0m\u001b[1;33m(\u001b[0m\u001b[0mnode_dict_list\u001b[0m\u001b[1;33m=\u001b[0m\u001b[0mnode_dict_list\u001b[0m\u001b[1;33m,\u001b[0m\u001b[0medge_dict_list\u001b[0m\u001b[1;33m=\u001b[0m\u001b[0medge_dict_list\u001b[0m\u001b[1;33m)\u001b[0m\u001b[1;33m\u001b[0m\u001b[1;33m\u001b[0m\u001b[0m\n\u001b[0m",
      "\u001b[1;32mH:\\Homework\\Thesis\\Schema.py\u001b[0m in \u001b[0;36mextractSchema\u001b[1;34m(self, graph, subgraph, sample_size, node_cursor, edge_cursor, node_dict_list, edge_dict_list)\u001b[0m\n\u001b[0;32m    103\u001b[0m             \u001b[1;32mfor\u001b[0m \u001b[0mi\u001b[0m\u001b[1;33m,\u001b[0m \u001b[0mr\u001b[0m \u001b[1;32min\u001b[0m \u001b[0mtqdm\u001b[0m\u001b[1;33m(\u001b[0m\u001b[0menumerate\u001b[0m\u001b[1;33m(\u001b[0m\u001b[0medge_dict_list\u001b[0m\u001b[1;33m)\u001b[0m\u001b[1;33m)\u001b[0m\u001b[1;33m:\u001b[0m\u001b[1;33m\u001b[0m\u001b[1;33m\u001b[0m\u001b[0m\n\u001b[0;32m    104\u001b[0m                 \u001b[1;31m# it's possible that a relationship have more than two nodes\u001b[0m\u001b[1;33m\u001b[0m\u001b[1;33m\u001b[0m\u001b[1;33m\u001b[0m\u001b[0m\n\u001b[1;32m--> 105\u001b[1;33m                 \u001b[0mself\u001b[0m\u001b[1;33m.\u001b[0m\u001b[0medgetypeset\u001b[0m\u001b[1;33m.\u001b[0m\u001b[0madd\u001b[0m\u001b[1;33m(\u001b[0m\u001b[0mr\u001b[0m\u001b[1;33m)\u001b[0m\u001b[1;33m\u001b[0m\u001b[1;33m\u001b[0m\u001b[0m\n\u001b[0m\u001b[0;32m    106\u001b[0m \u001b[1;33m\u001b[0m\u001b[0m\n\u001b[0;32m    107\u001b[0m         \u001b[1;32mif\u001b[0m \u001b[0msubgraph\u001b[0m\u001b[1;33m!=\u001b[0m\u001b[1;32mNone\u001b[0m\u001b[1;33m:\u001b[0m\u001b[1;33m\u001b[0m\u001b[1;33m\u001b[0m\u001b[0m\n",
      "\u001b[1;32mH:\\Homework\\Thesis\\NewElementTypeSet.py\u001b[0m in \u001b[0;36madd\u001b[1;34m(self, relation)\u001b[0m\n\u001b[0;32m    622\u001b[0m                 \u001b[0mself\u001b[0m\u001b[1;33m.\u001b[0m\u001b[0mnumOfType\u001b[0m\u001b[1;33m[\u001b[0m\u001b[0mi\u001b[0m\u001b[1;33m]\u001b[0m \u001b[1;33m+=\u001b[0m \u001b[1;36m1\u001b[0m\u001b[1;33m\u001b[0m\u001b[1;33m\u001b[0m\u001b[0m\n\u001b[0;32m    623\u001b[0m                 \u001b[1;32mreturn\u001b[0m\u001b[1;33m\u001b[0m\u001b[1;33m\u001b[0m\u001b[0m\n\u001b[1;32m--> 624\u001b[1;33m             \u001b[1;32melif\u001b[0m \u001b[0me_type\u001b[0m\u001b[1;33m.\u001b[0m\u001b[0mequalAttributes\u001b[0m\u001b[1;33m(\u001b[0m\u001b[0mrelation\u001b[0m\u001b[1;33m)\u001b[0m\u001b[1;33m:\u001b[0m\u001b[1;33m\u001b[0m\u001b[1;33m\u001b[0m\u001b[0m\n\u001b[0m\u001b[0;32m    625\u001b[0m                 \u001b[0me_type\u001b[0m\u001b[1;33m.\u001b[0m\u001b[0maddDataTypeFromElem\u001b[0m\u001b[1;33m(\u001b[0m\u001b[0mrelation\u001b[0m\u001b[1;33m)\u001b[0m\u001b[1;33m\u001b[0m\u001b[1;33m\u001b[0m\u001b[0m\n\u001b[0;32m    626\u001b[0m                 \u001b[0mself\u001b[0m\u001b[1;33m.\u001b[0m\u001b[0mnumOfType\u001b[0m\u001b[1;33m[\u001b[0m\u001b[0mi\u001b[0m\u001b[1;33m]\u001b[0m \u001b[1;33m+=\u001b[0m \u001b[1;36m1\u001b[0m\u001b[1;33m\u001b[0m\u001b[1;33m\u001b[0m\u001b[0m\n",
      "\u001b[1;31mKeyboardInterrupt\u001b[0m: "
     ]
    }
   ],
   "source": [
    "from Schema import *\n",
    "sc = Schema()\n",
    "node_dict_list = [node_map[k] for k in node_map]\n",
    "sc.extractSchema(node_dict_list=node_dict_list,edge_dict_list=edge_dict_list)"
   ]
  },
  {
   "cell_type": "code",
   "execution_count": 10,
   "metadata": {},
   "outputs": [
    {
     "data": {
      "text/plain": [
       "(33677, 1705692)"
      ]
     },
     "execution_count": 10,
     "metadata": {},
     "output_type": "execute_result"
    }
   ],
   "source": [
    "len(node_dict_list),len(edge_dict_list)"
   ]
  },
  {
   "cell_type": "code",
   "execution_count": 12,
   "metadata": {},
   "outputs": [],
   "source": [
    "a = {3:1}"
   ]
  },
  {
   "cell_type": "code",
   "execution_count": 15,
   "metadata": {},
   "outputs": [
    {
     "data": {
      "text/plain": [
       "{3}"
      ]
     },
     "execution_count": 15,
     "metadata": {},
     "output_type": "execute_result"
    }
   ],
   "source": [
    "set(a.keys())"
   ]
  },
  {
   "cell_type": "code",
   "execution_count": 22,
   "metadata": {},
   "outputs": [
    {
     "data": {
      "text/plain": [
       "{'type'}"
      ]
     },
     "execution_count": 22,
     "metadata": {},
     "output_type": "execute_result"
    }
   ],
   "source": [
    "edge_dict_list[0].getKey()"
   ]
  },
  {
   "cell_type": "code",
   "execution_count": 55,
   "metadata": {},
   "outputs": [
    {
     "data": {
      "text/plain": [
       "{'type': <ElementType.LBL at 0xf7578f0>}"
      ]
     },
     "execution_count": 55,
     "metadata": {},
     "output_type": "execute_result"
    }
   ],
   "source": [
    "edge_dict_list[0]"
   ]
  },
  {
   "cell_type": "code",
   "execution_count": 51,
   "metadata": {},
   "outputs": [
    {
     "data": {
      "text/plain": [
       "['src:Book,bookEdition,caption,contentRating,contentSize,description,expires,isbn,keywords,numberOfPages,text,title|tarReview,rating,text,title,totalVotes|edgehasReview',\n",
       " 'src:Book,bookEdition,caption,contentRating,contentSize,description,expires,isbn,keywords,numberOfPages,text,title|tarReview,rating,text,title|edgehasReview',\n",
       " 'src:Book,bookEdition,caption,contentRating,contentSize,description,expires,isbn,keywords,numberOfPages,text,title|tarReview,rating,text,totalVotes|edgehasReview',\n",
       " 'src:Book,bookEdition,caption,contentRating,contentSize,description,expires,isbn,keywords,numberOfPages,text,title|tarReview,rating,text|edgehasReview',\n",
       " 'src:Book,bookEdition,caption,contentRating,contentSize,description,expires,isbn,keywords,numberOfPages,text,title|tarReview,rating,title,totalVotes|edgehasReview',\n",
       " 'src:Book,bookEdition,caption,contentRating,contentSize,description,expires,isbn,keywords,numberOfPages,text,title|tarReview,rating,title|edgehasReview',\n",
       " 'src:Book,bookEdition,caption,contentRating,contentSize,description,expires,isbn,keywords,numberOfPages,text,title|tarReview,rating,totalVotes|edgehasReview',\n",
       " 'src:Book,bookEdition,caption,contentRating,contentSize,description,expires,isbn,keywords,numberOfPages,text,title|tarReview,rating|edgehasReview',\n",
       " 'src:Book,bookEdition,caption,contentRating,contentSize,description,expires,isbn,keywords,numberOfPages,text,title|tarSubGenre|edgehasGenre',\n",
       " 'src:Book,bookEdition,caption,contentRating,contentSize,description,expires,isbn,keywords,numberOfPages,text,title|tarTopic|edgetag',\n",
       " 'src:Book,bookEdition,caption,contentRating,contentSize,description,expires,isbn,keywords,numberOfPages,text,title|tarUser,email,familyName,givenName,jobTitle,userId|edgeeditor',\n",
       " 'src:Book,bookEdition,caption,contentRating,contentSize,description,expires,isbn,keywords,numberOfPages,text,title|tarUser,familyName,telephone,userId|edgeauthor',\n",
       " 'src:Book,bookEdition,caption,contentRating,contentSize,description,expires,isbn,keywords,numberOfPages,text,title|tarUser,familyName,userId|edgeeditor',\n",
       " 'src:Book,bookEdition,caption,contentRating,contentSize,description,expires,isbn,keywords,numberOfPages,text,title|tarUser,userId|edgeauthor',\n",
       " 'src:Book,bookEdition,caption,contentRating,contentSize,description,expires,isbn,keywords,numberOfPages,text,title|tarWebsite,hits,url|edgehomepage',\n",
       " 'src:Book,bookEdition,caption,contentRating,contentSize,description,expires,isbn,numberOfPages,text,title|tarReview,rating,text,title,totalVotes|edgehasReview',\n",
       " 'src:Book,bookEdition,caption,contentRating,contentSize,description,expires,isbn,numberOfPages,text,title|tarReview,rating,text,title|edgehasReview',\n",
       " 'src:Book,bookEdition,caption,contentRating,contentSize,description,expires,isbn,numberOfPages,text,title|tarReview,rating,text,totalVotes|edgehasReview',\n",
       " 'src:Book,bookEdition,caption,contentRating,contentSize,description,expires,isbn,numberOfPages,text,title|tarReview,rating,text|edgehasReview',\n",
       " 'src:Book,bookEdition,caption,contentRating,contentSize,description,expires,isbn,numberOfPages,text,title|tarReview,rating,title,totalVotes|edgehasReview',\n",
       " 'src:Book,bookEdition,caption,contentRating,contentSize,description,expires,isbn,numberOfPages,text,title|tarReview,rating,title|edgehasReview',\n",
       " 'src:Book,bookEdition,caption,contentRating,contentSize,description,expires,isbn,numberOfPages,text,title|tarReview,rating,totalVotes|edgehasReview',\n",
       " 'src:Book,bookEdition,caption,contentRating,contentSize,description,expires,isbn,numberOfPages,text,title|tarReview,rating|edgehasReview',\n",
       " 'src:Book,bookEdition,caption,contentRating,contentSize,description,expires,isbn,numberOfPages,text,title|tarSubGenre|edgehasGenre',\n",
       " 'src:Book,bookEdition,caption,contentRating,contentSize,description,expires,isbn,numberOfPages,text,title|tarTopic|edgetag',\n",
       " 'src:Book,bookEdition,caption,contentRating,contentSize,description,expires,isbn,numberOfPages,text,title|tarUser,birthDate,email,givenName,telephone,userId|edgeauthor',\n",
       " 'src:Book,bookEdition,caption,contentRating,contentSize,description,expires,isbn,numberOfPages,text,title|tarUser,birthDate,telephone,userId|edgeauthor',\n",
       " 'src:Book,bookEdition,caption,contentRating,contentSize,description,expires,isbn,numberOfPages,text,title|tarUser,email,familyName,givenName,jobTitle,telephone,userId|edgeeditor',\n",
       " 'src:Book,bookEdition,caption,contentRating,contentSize,description,expires,isbn,numberOfPages,text,title|tarUser,email,givenName,userId|edgeauthor',\n",
       " 'src:Book,bookEdition,caption,contentRating,contentSize,description,expires,isbn,numberOfPages,text,title|tarUser,familyName,givenName,jobTitle,userId|edgeauthor',\n",
       " 'src:Book,bookEdition,caption,contentRating,contentSize,description,expires,isbn,numberOfPages,text,title|tarUser,telephone,userId|edgeeditor',\n",
       " 'src:Book,bookEdition,caption,contentRating,contentSize,description,expires,isbn,numberOfPages,text,title|tarWebsite,hits,url|edgehomepage',\n",
       " 'src:Book,bookEdition,caption,contentRating,contentSize,description,expires,isbn,numberOfPages,title|tarReview,rating,text,title,totalVotes|edgehasReview',\n",
       " 'src:Book,bookEdition,caption,contentRating,contentSize,description,expires,isbn,numberOfPages,title|tarReview,rating,text,title|edgehasReview',\n",
       " 'src:Book,bookEdition,caption,contentRating,contentSize,description,expires,isbn,numberOfPages,title|tarReview,rating,text,totalVotes|edgehasReview',\n",
       " 'src:Book,bookEdition,caption,contentRating,contentSize,description,expires,isbn,numberOfPages,title|tarReview,rating,text|edgehasReview',\n",
       " 'src:Book,bookEdition,caption,contentRating,contentSize,description,expires,isbn,numberOfPages,title|tarReview,rating,title,totalVotes|edgehasReview',\n",
       " 'src:Book,bookEdition,caption,contentRating,contentSize,description,expires,isbn,numberOfPages,title|tarReview,rating,title|edgehasReview',\n",
       " 'src:Book,bookEdition,caption,contentRating,contentSize,description,expires,isbn,numberOfPages,title|tarReview,rating,totalVotes|edgehasReview',\n",
       " 'src:Book,bookEdition,caption,contentRating,contentSize,description,expires,isbn,numberOfPages,title|tarReview,rating|edgehasReview',\n",
       " 'src:Book,bookEdition,caption,contentRating,contentSize,description,expires,isbn,numberOfPages,title|tarTopic|edgetag',\n",
       " 'src:Book,bookEdition,caption,contentRating,contentSize,description,expires,isbn,numberOfPages,title|tarUser,birthDate,email,familyName,givenName,telephone,userId|edgeauthor',\n",
       " 'src:Book,bookEdition,caption,contentRating,contentSize,description,expires,isbn,numberOfPages,title|tarUser,birthDate,email,givenName,jobTitle,telephone,userId|edgeauthor',\n",
       " 'src:Book,bookEdition,caption,contentRating,contentSize,description,expires,isbn,numberOfPages,title|tarUser,birthDate,email,jobTitle,telephone,userId|edgeeditor',\n",
       " 'src:Book,bookEdition,caption,contentRating,contentSize,description,expires,isbn,numberOfPages,title|tarUser,birthDate,familyName,givenName,jobTitle,userId|edgeeditor',\n",
       " 'src:Book,bookEdition,caption,contentRating,contentSize,description,expires,isbn,numberOfPages,title|tarUser,birthDate,familyName,givenName,telephone,userId|edgeauthor',\n",
       " 'src:Book,bookEdition,caption,contentRating,contentSize,description,expires,isbn,numberOfPages,title|tarUser,birthDate,familyName,jobTitle,telephone,userId|edgeeditor',\n",
       " 'src:Book,bookEdition,caption,contentRating,contentSize,description,expires,isbn,numberOfPages,title|tarUser,birthDate,givenName,userId|edgeeditor',\n",
       " 'src:Book,bookEdition,caption,contentRating,contentSize,description,expires,isbn,numberOfPages,title|tarUser,birthDate,telephone,userId|edgeeditor',\n",
       " 'src:Book,bookEdition,caption,contentRating,contentSize,description,expires,isbn,numberOfPages,title|tarUser,familyName,givenName,telephone,userId|edgeauthor',\n",
       " 'src:Book,bookEdition,caption,contentRating,contentSize,description,expires,isbn,numberOfPages,title|tarUser,familyName,givenName,userId|edgeauthor',\n",
       " 'src:Book,bookEdition,caption,contentRating,contentSize,description,expires,isbn,numberOfPages,title|tarUser,givenName,telephone,userId|edgeauthor',\n",
       " 'src:Book,bookEdition,caption,contentRating,contentSize,description,expires,isbn,numberOfPages,title|tarWebsite,hits,url|edgehomepage',\n",
       " 'src:Book,bookEdition,caption,contentRating,contentSize,description,isbn,keywords,text,title|tarReview,rating,text,title,totalVotes|edgehasReview',\n",
       " 'src:Book,bookEdition,caption,contentRating,contentSize,description,isbn,keywords,text,title|tarReview,rating,text,title|edgehasReview',\n",
       " 'src:Book,bookEdition,caption,contentRating,contentSize,description,isbn,keywords,text,title|tarReview,rating,text,totalVotes|edgehasReview',\n",
       " 'src:Book,bookEdition,caption,contentRating,contentSize,description,isbn,keywords,text,title|tarReview,rating,text|edgehasReview',\n",
       " 'src:Book,bookEdition,caption,contentRating,contentSize,description,isbn,keywords,text,title|tarReview,rating,title,totalVotes|edgehasReview',\n",
       " 'src:Book,bookEdition,caption,contentRating,contentSize,description,isbn,keywords,text,title|tarReview,rating,title|edgehasReview',\n",
       " 'src:Book,bookEdition,caption,contentRating,contentSize,description,isbn,keywords,text,title|tarReview,rating,totalVotes|edgehasReview',\n",
       " 'src:Book,bookEdition,caption,contentRating,contentSize,description,isbn,keywords,text,title|tarReview,rating|edgehasReview',\n",
       " 'src:Book,bookEdition,caption,contentRating,contentSize,description,isbn,keywords,text,title|tarSubGenre|edgehasGenre',\n",
       " 'src:Book,bookEdition,caption,contentRating,contentSize,description,isbn,keywords,text,title|tarTopic|edgetag',\n",
       " 'src:Book,bookEdition,caption,contentRating,contentSize,description,isbn,keywords,text,title|tarUser,birthDate,email,familyName,givenName,jobTitle,telephone,userId|edgeeditor',\n",
       " 'src:Book,bookEdition,caption,contentRating,contentSize,description,isbn,keywords,text,title|tarUser,birthDate,email,familyName,jobTitle,userId|edgeeditor',\n",
       " 'src:Book,bookEdition,caption,contentRating,contentSize,description,isbn,keywords,text,title|tarUser,birthDate,email,telephone,userId|edgeeditor',\n",
       " 'src:Book,bookEdition,caption,contentRating,contentSize,description,isbn,keywords,text,title|tarUser,birthDate,familyName,givenName,jobTitle,telephone,userId|edgeeditor',\n",
       " 'src:Book,bookEdition,caption,contentRating,contentSize,description,isbn,keywords,text,title|tarUser,email,userId|edgeauthor',\n",
       " 'src:Book,bookEdition,caption,contentRating,contentSize,description,isbn,keywords,text,title|tarUser,familyName,userId|edgeauthor',\n",
       " 'src:Book,bookEdition,caption,contentRating,contentSize,description,isbn,keywords,text,title|tarWebsite,hits,url|edgehomepage',\n",
       " 'src:Book,bookEdition,caption,contentRating,contentSize,description,isbn,title|tarReview,rating,text,title,totalVotes|edgehasReview',\n",
       " 'src:Book,bookEdition,caption,contentRating,contentSize,description,isbn,title|tarReview,rating,text,title|edgehasReview',\n",
       " 'src:Book,bookEdition,caption,contentRating,contentSize,description,isbn,title|tarReview,rating,text,totalVotes|edgehasReview',\n",
       " 'src:Book,bookEdition,caption,contentRating,contentSize,description,isbn,title|tarReview,rating,text|edgehasReview',\n",
       " 'src:Book,bookEdition,caption,contentRating,contentSize,description,isbn,title|tarReview,rating,title,totalVotes|edgehasReview',\n",
       " 'src:Book,bookEdition,caption,contentRating,contentSize,description,isbn,title|tarReview,rating,title|edgehasReview',\n",
       " 'src:Book,bookEdition,caption,contentRating,contentSize,description,isbn,title|tarReview,rating,totalVotes|edgehasReview',\n",
       " 'src:Book,bookEdition,caption,contentRating,contentSize,description,isbn,title|tarReview,rating|edgehasReview',\n",
       " 'src:Book,bookEdition,caption,contentRating,contentSize,description,isbn,title|tarSubGenre|edgehasGenre',\n",
       " 'src:Book,bookEdition,caption,contentRating,contentSize,description,isbn,title|tarTopic|edgetag',\n",
       " 'src:Book,bookEdition,caption,contentRating,contentSize,description,isbn,title|tarUser,birthDate,email,jobTitle,telephone,userId|edgeeditor',\n",
       " 'src:Book,bookEdition,caption,contentRating,contentSize,description,isbn,title|tarUser,birthDate,familyName,telephone,userId|edgeauthor',\n",
       " 'src:Book,bookEdition,caption,contentRating,contentSize,description,isbn,title|tarUser,birthDate,jobTitle,telephone,userId|edgeauthor',\n",
       " 'src:Book,bookEdition,caption,contentRating,contentSize,description,isbn,title|tarUser,birthDate,telephone,userId|edgeauthor',\n",
       " 'src:Book,bookEdition,caption,contentRating,contentSize,description,isbn,title|tarUser,birthDate,userId|edgeauthor',\n",
       " 'src:Book,bookEdition,caption,contentRating,contentSize,description,isbn,title|tarUser,email,familyName,givenName,jobTitle,userId|edgeeditor',\n",
       " 'src:Book,bookEdition,caption,contentRating,contentSize,description,isbn,title|tarUser,email,familyName,telephone,userId|edgeauthor',\n",
       " 'src:Book,bookEdition,caption,contentRating,contentSize,description,isbn,title|tarUser,familyName,jobTitle,telephone,userId|edgeauthor',\n",
       " 'src:Book,bookEdition,caption,contentRating,contentSize,description,isbn,title|tarUser,telephone,userId|edgeauthor',\n",
       " 'src:Book,bookEdition,caption,contentRating,contentSize,description,isbn,title|tarWebsite,hits,url|edgehomepage',\n",
       " 'src:Book,bookEdition,caption,contentRating,contentSize,expires,isbn,numberOfPages,text,title|tarLanguage|edgelanguage',\n",
       " 'src:Book,bookEdition,caption,contentRating,contentSize,expires,isbn,numberOfPages,text,title|tarReview,rating,text,title,totalVotes|edgehasReview',\n",
       " 'src:Book,bookEdition,caption,contentRating,contentSize,expires,isbn,numberOfPages,text,title|tarReview,rating,text,title|edgehasReview',\n",
       " 'src:Book,bookEdition,caption,contentRating,contentSize,expires,isbn,numberOfPages,text,title|tarReview,rating,title,totalVotes|edgehasReview',\n",
       " 'src:Book,bookEdition,caption,contentRating,contentSize,expires,isbn,numberOfPages,text,title|tarReview,rating,title|edgehasReview',\n",
       " 'src:Book,bookEdition,caption,contentRating,contentSize,expires,isbn,numberOfPages,text,title|tarReview,rating,totalVotes|edgehasReview',\n",
       " 'src:Book,bookEdition,caption,contentRating,contentSize,expires,isbn,numberOfPages,text,title|tarReview,rating|edgehasReview',\n",
       " 'src:Book,bookEdition,caption,contentRating,contentSize,expires,isbn,numberOfPages,text,title|tarSubGenre|edgehasGenre',\n",
       " 'src:Book,bookEdition,caption,contentRating,contentSize,expires,isbn,numberOfPages,text,title|tarTopic|edgetag',\n",
       " 'src:Book,bookEdition,caption,contentRating,contentSize,expires,isbn,numberOfPages,text,title|tarUser,birthDate,email,familyName,givenName,jobTitle,telephone,userId|edgeauthor',\n",
       " 'src:Book,bookEdition,caption,contentRating,contentSize,expires,isbn,numberOfPages,text,title|tarUser,birthDate,email,familyName,telephone,userId|edgeauthor',\n",
       " 'src:Book,bookEdition,caption,contentRating,contentSize,expires,isbn,numberOfPages,text,title|tarUser,email,userId|edgeeditor',\n",
       " 'src:Book,bookEdition,caption,contentRating,contentSize,expires,isbn,numberOfPages,text,title|tarWebsite,hits,url|edgehomepage',\n",
       " 'src:Book,bookEdition,caption,contentRating,contentSize,expires,isbn,numberOfPages,title|tarReview,rating,text,title,totalVotes|edgehasReview',\n",
       " 'src:Book,bookEdition,caption,contentRating,contentSize,expires,isbn,numberOfPages,title|tarReview,rating,text,title|edgehasReview',\n",
       " 'src:Book,bookEdition,caption,contentRating,contentSize,expires,isbn,numberOfPages,title|tarReview,rating,text,totalVotes|edgehasReview',\n",
       " 'src:Book,bookEdition,caption,contentRating,contentSize,expires,isbn,numberOfPages,title|tarReview,rating,text|edgehasReview',\n",
       " 'src:Book,bookEdition,caption,contentRating,contentSize,expires,isbn,numberOfPages,title|tarReview,rating,title,totalVotes|edgehasReview',\n",
       " 'src:Book,bookEdition,caption,contentRating,contentSize,expires,isbn,numberOfPages,title|tarReview,rating,title|edgehasReview',\n",
       " 'src:Book,bookEdition,caption,contentRating,contentSize,expires,isbn,numberOfPages,title|tarReview,rating,totalVotes|edgehasReview',\n",
       " 'src:Book,bookEdition,caption,contentRating,contentSize,expires,isbn,numberOfPages,title|tarReview,rating|edgehasReview',\n",
       " 'src:Book,bookEdition,caption,contentRating,contentSize,expires,isbn,numberOfPages,title|tarSubGenre|edgehasGenre',\n",
       " 'src:Book,bookEdition,caption,contentRating,contentSize,expires,isbn,numberOfPages,title|tarTopic|edgetag',\n",
       " 'src:Book,bookEdition,caption,contentRating,contentSize,expires,isbn,numberOfPages,title|tarUser,birthDate,familyName,givenName,jobTitle,telephone,userId|edgeeditor',\n",
       " 'src:Book,bookEdition,caption,contentRating,contentSize,expires,isbn,numberOfPages,title|tarUser,email,familyName,givenName,telephone,userId|edgeeditor',\n",
       " 'src:Book,bookEdition,caption,contentRating,contentSize,expires,isbn,numberOfPages,title|tarUser,email,familyName,telephone,userId|edgeauthor',\n",
       " 'src:Book,bookEdition,caption,contentRating,contentSize,expires,isbn,numberOfPages,title|tarUser,email,familyName,userId|edgeauthor',\n",
       " 'src:Book,bookEdition,caption,contentRating,contentSize,expires,isbn,numberOfPages,title|tarUser,familyName,telephone,userId|edgeauthor',\n",
       " 'src:Book,bookEdition,caption,contentRating,contentSize,expires,isbn,numberOfPages,title|tarUser,givenName,userId|edgeeditor',\n",
       " 'src:Book,bookEdition,caption,contentRating,contentSize,expires,isbn,numberOfPages,title|tarUser,jobTitle,telephone,userId|edgeauthor',\n",
       " 'src:Book,bookEdition,caption,contentRating,contentSize,expires,isbn,numberOfPages,title|tarUser,jobTitle,userId|edgeeditor',\n",
       " 'src:Book,bookEdition,caption,contentRating,contentSize,expires,isbn,numberOfPages,title|tarWebsite,hits,url|edgehomepage',\n",
       " 'src:Book,bookEdition,caption,contentRating,contentSize,expires,isbn,text,title|tarLanguage|edgelanguage',\n",
       " 'src:Book,bookEdition,caption,contentRating,contentSize,expires,isbn,text,title|tarReview,rating,text,title,totalVotes|edgehasReview',\n",
       " 'src:Book,bookEdition,caption,contentRating,contentSize,expires,isbn,text,title|tarReview,rating,text,title|edgehasReview',\n",
       " 'src:Book,bookEdition,caption,contentRating,contentSize,expires,isbn,text,title|tarReview,rating,text,totalVotes|edgehasReview',\n",
       " 'src:Book,bookEdition,caption,contentRating,contentSize,expires,isbn,text,title|tarReview,rating,text|edgehasReview',\n",
       " 'src:Book,bookEdition,caption,contentRating,contentSize,expires,isbn,text,title|tarReview,rating,title,totalVotes|edgehasReview',\n",
       " 'src:Book,bookEdition,caption,contentRating,contentSize,expires,isbn,text,title|tarReview,rating,title|edgehasReview',\n",
       " 'src:Book,bookEdition,caption,contentRating,contentSize,expires,isbn,text,title|tarReview,rating,totalVotes|edgehasReview',\n",
       " 'src:Book,bookEdition,caption,contentRating,contentSize,expires,isbn,text,title|tarReview,rating|edgehasReview',\n",
       " 'src:Book,bookEdition,caption,contentRating,contentSize,expires,isbn,text,title|tarSubGenre|edgehasGenre',\n",
       " 'src:Book,bookEdition,caption,contentRating,contentSize,expires,isbn,text,title|tarTopic|edgetag',\n",
       " 'src:Book,bookEdition,caption,contentRating,contentSize,expires,isbn,text,title|tarUser,birthDate,email,givenName,jobTitle,telephone,userId|edgeeditor',\n",
       " 'src:Book,bookEdition,caption,contentRating,contentSize,expires,isbn,text,title|tarUser,birthDate,givenName,jobTitle,telephone,userId|edgeauthor',\n",
       " 'src:Book,bookEdition,caption,contentRating,contentSize,expires,isbn,text,title|tarUser,birthDate,userId|edgeeditor',\n",
       " 'src:Book,bookEdition,caption,contentRating,contentSize,expires,isbn,text,title|tarUser,email,familyName,givenName,jobTitle,telephone,userId|edgeeditor',\n",
       " 'src:Book,bookEdition,caption,contentRating,contentSize,expires,isbn,text,title|tarUser,email,familyName,givenName,userId|edgeeditor',\n",
       " 'src:Book,bookEdition,caption,contentRating,contentSize,expires,isbn,text,title|tarUser,email,familyName,jobTitle,userId|edgeeditor',\n",
       " 'src:Book,bookEdition,caption,contentRating,contentSize,expires,isbn,text,title|tarUser,jobTitle,userId|edgeeditor',\n",
       " 'src:Book,bookEdition,caption,contentRating,contentSize,expires,isbn,text,title|tarUser,userId|edgeauthor',\n",
       " 'src:Book,bookEdition,caption,contentRating,contentSize,expires,isbn,text,title|tarWebsite,hits,url|edgehomepage',\n",
       " 'src:Book,bookEdition,caption,contentRating,contentSize,expires,isbn,title|tarReview,rating,text,title,totalVotes|edgehasReview',\n",
       " 'src:Book,bookEdition,caption,contentRating,contentSize,expires,isbn,title|tarReview,rating,text,title|edgehasReview',\n",
       " 'src:Book,bookEdition,caption,contentRating,contentSize,expires,isbn,title|tarReview,rating,text,totalVotes|edgehasReview',\n",
       " 'src:Book,bookEdition,caption,contentRating,contentSize,expires,isbn,title|tarReview,rating,text|edgehasReview',\n",
       " 'src:Book,bookEdition,caption,contentRating,contentSize,expires,isbn,title|tarReview,rating,title,totalVotes|edgehasReview',\n",
       " 'src:Book,bookEdition,caption,contentRating,contentSize,expires,isbn,title|tarReview,rating,title|edgehasReview',\n",
       " 'src:Book,bookEdition,caption,contentRating,contentSize,expires,isbn,title|tarReview,rating,totalVotes|edgehasReview',\n",
       " 'src:Book,bookEdition,caption,contentRating,contentSize,expires,isbn,title|tarReview,rating|edgehasReview',\n",
       " 'src:Book,bookEdition,caption,contentRating,contentSize,expires,isbn,title|tarSubGenre|edgehasGenre',\n",
       " 'src:Book,bookEdition,caption,contentRating,contentSize,expires,isbn,title|tarTopic|edgetag',\n",
       " 'src:Book,bookEdition,caption,contentRating,contentSize,expires,isbn,title|tarUser,birthDate,email,familyName,givenName,telephone,userId|edgeauthor',\n",
       " 'src:Book,bookEdition,caption,contentRating,contentSize,expires,isbn,title|tarUser,email,jobTitle,userId|edgeeditor',\n",
       " 'src:Book,bookEdition,caption,contentRating,contentSize,expires,isbn,title|tarWebsite,hits,url|edgehomepage',\n",
       " 'src:Book,bookEdition,caption,contentRating,description,expires,isbn,keywords,text,title|tarReview,rating,text,title,totalVotes|edgehasReview',\n",
       " 'src:Book,bookEdition,caption,contentRating,description,expires,isbn,keywords,text,title|tarReview,rating,text,title|edgehasReview',\n",
       " 'src:Book,bookEdition,caption,contentRating,description,expires,isbn,keywords,text,title|tarReview,rating,text,totalVotes|edgehasReview',\n",
       " 'src:Book,bookEdition,caption,contentRating,description,expires,isbn,keywords,text,title|tarReview,rating,text|edgehasReview',\n",
       " 'src:Book,bookEdition,caption,contentRating,description,expires,isbn,keywords,text,title|tarReview,rating,title,totalVotes|edgehasReview',\n",
       " 'src:Book,bookEdition,caption,contentRating,description,expires,isbn,keywords,text,title|tarReview,rating,title|edgehasReview',\n",
       " 'src:Book,bookEdition,caption,contentRating,description,expires,isbn,keywords,text,title|tarReview,rating,totalVotes|edgehasReview',\n",
       " 'src:Book,bookEdition,caption,contentRating,description,expires,isbn,keywords,text,title|tarReview,rating|edgehasReview',\n",
       " 'src:Book,bookEdition,caption,contentRating,description,expires,isbn,keywords,text,title|tarSubGenre|edgehasGenre',\n",
       " 'src:Book,bookEdition,caption,contentRating,description,expires,isbn,keywords,text,title|tarTopic|edgetag',\n",
       " 'src:Book,bookEdition,caption,contentRating,description,expires,isbn,keywords,text,title|tarUser,birthDate,email,familyName,jobTitle,userId|edgeeditor',\n",
       " 'src:Book,bookEdition,caption,contentRating,description,expires,isbn,keywords,text,title|tarUser,birthDate,givenName,jobTitle,userId|edgeeditor',\n",
       " 'src:Book,bookEdition,caption,contentRating,description,expires,isbn,keywords,text,title|tarUser,birthDate,jobTitle,telephone,userId|edgeauthor',\n",
       " 'src:Book,bookEdition,caption,contentRating,description,expires,isbn,keywords,text,title|tarUser,email,familyName,jobTitle,userId|edgeauthor',\n",
       " 'src:Book,bookEdition,caption,contentRating,description,expires,isbn,keywords,text,title|tarUser,email,givenName,userId|edgeauthor',\n",
       " 'src:Book,bookEdition,caption,contentRating,description,expires,isbn,keywords,text,title|tarUser,familyName,jobTitle,userId|edgeeditor',\n",
       " 'src:Book,bookEdition,caption,contentRating,description,expires,isbn,keywords,text,title|tarUser,familyName,telephone,userId|edgeeditor',\n",
       " 'src:Book,bookEdition,caption,contentRating,description,expires,isbn,keywords,text,title|tarWebsite,hits,url|edgehomepage',\n",
       " 'src:Book,bookEdition,caption,contentRating,description,expires,isbn,numberOfPages,title|tarReview,rating,text,title,totalVotes|edgehasReview',\n",
       " 'src:Book,bookEdition,caption,contentRating,description,expires,isbn,numberOfPages,title|tarReview,rating,text,title|edgehasReview',\n",
       " 'src:Book,bookEdition,caption,contentRating,description,expires,isbn,numberOfPages,title|tarReview,rating,text,totalVotes|edgehasReview',\n",
       " 'src:Book,bookEdition,caption,contentRating,description,expires,isbn,numberOfPages,title|tarReview,rating,text|edgehasReview',\n",
       " 'src:Book,bookEdition,caption,contentRating,description,expires,isbn,numberOfPages,title|tarReview,rating,title,totalVotes|edgehasReview',\n",
       " 'src:Book,bookEdition,caption,contentRating,description,expires,isbn,numberOfPages,title|tarReview,rating,title|edgehasReview',\n",
       " 'src:Book,bookEdition,caption,contentRating,description,expires,isbn,numberOfPages,title|tarReview,rating,totalVotes|edgehasReview',\n",
       " 'src:Book,bookEdition,caption,contentRating,description,expires,isbn,numberOfPages,title|tarReview,rating|edgehasReview',\n",
       " 'src:Book,bookEdition,caption,contentRating,description,expires,isbn,numberOfPages,title|tarSubGenre|edgehasGenre',\n",
       " 'src:Book,bookEdition,caption,contentRating,description,expires,isbn,numberOfPages,title|tarTopic|edgetag',\n",
       " 'src:Book,bookEdition,caption,contentRating,description,expires,isbn,numberOfPages,title|tarUser,birthDate,email,givenName,userId|edgeeditor',\n",
       " 'src:Book,bookEdition,caption,contentRating,description,expires,isbn,numberOfPages,title|tarUser,birthDate,familyName,givenName,jobTitle,userId|edgeauthor',\n",
       " 'src:Book,bookEdition,caption,contentRating,description,expires,isbn,numberOfPages,title|tarUser,birthDate,givenName,userId|edgeauthor',\n",
       " 'src:Book,bookEdition,caption,contentRating,description,expires,isbn,numberOfPages,title|tarUser,email,givenName,jobTitle,userId|edgeauthor',\n",
       " 'src:Book,bookEdition,caption,contentRating,description,expires,isbn,numberOfPages,title|tarUser,email,givenName,userId|edgeeditor',\n",
       " 'src:Book,bookEdition,caption,contentRating,description,expires,isbn,numberOfPages,title|tarUser,familyName,givenName,userId|edgeeditor',\n",
       " 'src:Book,bookEdition,caption,contentRating,description,expires,isbn,numberOfPages,title|tarUser,givenName,telephone,userId|edgeeditor',\n",
       " 'src:Book,bookEdition,caption,contentRating,description,expires,isbn,numberOfPages,title|tarUser,jobTitle,userId|edgeeditor',\n",
       " 'src:Book,bookEdition,caption,contentRating,description,expires,isbn,numberOfPages,title|tarWebsite,hits,url|edgehomepage',\n",
       " 'src:Book,bookEdition,caption,contentRating,description,isbn,keywords,text,title|tarReview,rating,text,title,totalVotes|edgehasReview',\n",
       " 'src:Book,bookEdition,caption,contentRating,description,isbn,keywords,text,title|tarReview,rating,text,title|edgehasReview',\n",
       " 'src:Book,bookEdition,caption,contentRating,description,isbn,keywords,text,title|tarReview,rating,text,totalVotes|edgehasReview',\n",
       " 'src:Book,bookEdition,caption,contentRating,description,isbn,keywords,text,title|tarReview,rating,text|edgehasReview',\n",
       " 'src:Book,bookEdition,caption,contentRating,description,isbn,keywords,text,title|tarReview,rating,title,totalVotes|edgehasReview',\n",
       " 'src:Book,bookEdition,caption,contentRating,description,isbn,keywords,text,title|tarReview,rating,title|edgehasReview',\n",
       " 'src:Book,bookEdition,caption,contentRating,description,isbn,keywords,text,title|tarReview,rating,totalVotes|edgehasReview',\n",
       " 'src:Book,bookEdition,caption,contentRating,description,isbn,keywords,text,title|tarReview,rating|edgehasReview',\n",
       " 'src:Book,bookEdition,caption,contentRating,description,isbn,keywords,text,title|tarSubGenre|edgehasGenre',\n",
       " 'src:Book,bookEdition,caption,contentRating,description,isbn,keywords,text,title|tarTopic|edgetag',\n",
       " 'src:Book,bookEdition,caption,contentRating,description,isbn,keywords,text,title|tarUser,birthDate,email,jobTitle,telephone,userId|edgeauthor',\n",
       " 'src:Book,bookEdition,caption,contentRating,description,isbn,keywords,text,title|tarUser,birthDate,familyName,jobTitle,telephone,userId|edgeauthor',\n",
       " 'src:Book,bookEdition,caption,contentRating,description,isbn,keywords,text,title|tarUser,userId|edgeauthor',\n",
       " 'src:Book,bookEdition,caption,contentRating,description,isbn,keywords,text,title|tarWebsite,hits,url|edgehomepage',\n",
       " 'src:Book,bookEdition,caption,contentRating,description,isbn,text,title|tarLanguage|edgelanguage',\n",
       " 'src:Book,bookEdition,caption,contentRating,description,isbn,text,title|tarReview,rating,text,title,totalVotes|edgehasReview',\n",
       " 'src:Book,bookEdition,caption,contentRating,description,isbn,text,title|tarReview,rating,text,title|edgehasReview',\n",
       " 'src:Book,bookEdition,caption,contentRating,description,isbn,text,title|tarReview,rating,text,totalVotes|edgehasReview',\n",
       " 'src:Book,bookEdition,caption,contentRating,description,isbn,text,title|tarReview,rating,text|edgehasReview',\n",
       " 'src:Book,bookEdition,caption,contentRating,description,isbn,text,title|tarReview,rating,title,totalVotes|edgehasReview',\n",
       " 'src:Book,bookEdition,caption,contentRating,description,isbn,text,title|tarReview,rating,title|edgehasReview',\n",
       " 'src:Book,bookEdition,caption,contentRating,description,isbn,text,title|tarReview,rating,totalVotes|edgehasReview',\n",
       " 'src:Book,bookEdition,caption,contentRating,description,isbn,text,title|tarReview,rating|edgehasReview',\n",
       " 'src:Book,bookEdition,caption,contentRating,description,isbn,text,title|tarSubGenre|edgehasGenre',\n",
       " 'src:Book,bookEdition,caption,contentRating,description,isbn,text,title|tarTopic|edgetag',\n",
       " 'src:Book,bookEdition,caption,contentRating,description,isbn,text,title|tarUser,birthDate,email,familyName,givenName,userId|edgeeditor',\n",
       " 'src:Book,bookEdition,caption,contentRating,description,isbn,text,title|tarUser,birthDate,email,familyName,userId|edgeeditor',\n",
       " 'src:Book,bookEdition,caption,contentRating,description,isbn,text,title|tarUser,birthDate,email,telephone,userId|edgeauthor',\n",
       " 'src:Book,bookEdition,caption,contentRating,description,isbn,text,title|tarUser,birthDate,jobTitle,telephone,userId|edgeauthor',\n",
       " 'src:Book,bookEdition,caption,contentRating,description,isbn,text,title|tarUser,email,familyName,givenName,jobTitle,telephone,userId|edgeauthor',\n",
       " 'src:Book,bookEdition,caption,contentRating,description,isbn,text,title|tarUser,email,jobTitle,telephone,userId|edgeeditor',\n",
       " 'src:Book,bookEdition,caption,contentRating,description,isbn,text,title|tarWebsite,hits,url|edgehomepage',\n",
       " 'src:Book,bookEdition,caption,contentRating,isbn,keywords,numberOfPages,title|tarReview,rating,text,title,totalVotes|edgehasReview',\n",
       " 'src:Book,bookEdition,caption,contentRating,isbn,keywords,numberOfPages,title|tarReview,rating,text,title|edgehasReview',\n",
       " 'src:Book,bookEdition,caption,contentRating,isbn,keywords,numberOfPages,title|tarReview,rating,text,totalVotes|edgehasReview',\n",
       " 'src:Book,bookEdition,caption,contentRating,isbn,keywords,numberOfPages,title|tarReview,rating,text|edgehasReview',\n",
       " 'src:Book,bookEdition,caption,contentRating,isbn,keywords,numberOfPages,title|tarReview,rating,title,totalVotes|edgehasReview',\n",
       " 'src:Book,bookEdition,caption,contentRating,isbn,keywords,numberOfPages,title|tarReview,rating,title|edgehasReview',\n",
       " 'src:Book,bookEdition,caption,contentRating,isbn,keywords,numberOfPages,title|tarReview,rating,totalVotes|edgehasReview',\n",
       " 'src:Book,bookEdition,caption,contentRating,isbn,keywords,numberOfPages,title|tarReview,rating|edgehasReview',\n",
       " 'src:Book,bookEdition,caption,contentRating,isbn,keywords,numberOfPages,title|tarSubGenre|edgehasGenre',\n",
       " 'src:Book,bookEdition,caption,contentRating,isbn,keywords,numberOfPages,title|tarTopic|edgetag',\n",
       " 'src:Book,bookEdition,caption,contentRating,isbn,keywords,numberOfPages,title|tarUser,birthDate,email,familyName,givenName,telephone,userId|edgeeditor',\n",
       " 'src:Book,bookEdition,caption,contentRating,isbn,keywords,numberOfPages,title|tarUser,birthDate,email,familyName,telephone,userId|edgeauthor',\n",
       " 'src:Book,bookEdition,caption,contentRating,isbn,keywords,numberOfPages,title|tarUser,birthDate,email,jobTitle,userId|edgeeditor',\n",
       " 'src:Book,bookEdition,caption,contentRating,isbn,keywords,numberOfPages,title|tarUser,birthDate,givenName,userId|edgeauthor',\n",
       " 'src:Book,bookEdition,caption,contentRating,isbn,keywords,numberOfPages,title|tarUser,email,givenName,jobTitle,userId|edgeeditor',\n",
       " 'src:Book,bookEdition,caption,contentRating,isbn,keywords,numberOfPages,title|tarUser,email,telephone,userId|edgeauthor',\n",
       " 'src:Book,bookEdition,caption,contentRating,isbn,keywords,numberOfPages,title|tarUser,familyName,userId|edgeeditor',\n",
       " 'src:Book,bookEdition,caption,contentRating,isbn,keywords,numberOfPages,title|tarWebsite,hits,url|edgehomepage',\n",
       " 'src:Book,bookEdition,caption,contentRating,isbn,numberOfPages,title|tarReview,rating,text,title,totalVotes|edgehasReview',\n",
       " 'src:Book,bookEdition,caption,contentRating,isbn,numberOfPages,title|tarReview,rating,text,title|edgehasReview',\n",
       " 'src:Book,bookEdition,caption,contentRating,isbn,numberOfPages,title|tarReview,rating,text,totalVotes|edgehasReview',\n",
       " 'src:Book,bookEdition,caption,contentRating,isbn,numberOfPages,title|tarReview,rating,text|edgehasReview',\n",
       " 'src:Book,bookEdition,caption,contentRating,isbn,numberOfPages,title|tarReview,rating,title,totalVotes|edgehasReview',\n",
       " 'src:Book,bookEdition,caption,contentRating,isbn,numberOfPages,title|tarReview,rating,title|edgehasReview',\n",
       " 'src:Book,bookEdition,caption,contentRating,isbn,numberOfPages,title|tarReview,rating,totalVotes|edgehasReview',\n",
       " 'src:Book,bookEdition,caption,contentRating,isbn,numberOfPages,title|tarReview,rating|edgehasReview',\n",
       " 'src:Book,bookEdition,caption,contentRating,isbn,numberOfPages,title|tarSubGenre|edgehasGenre',\n",
       " 'src:Book,bookEdition,caption,contentRating,isbn,numberOfPages,title|tarTopic|edgetag',\n",
       " 'src:Book,bookEdition,caption,contentRating,isbn,numberOfPages,title|tarUser,birthDate,email,familyName,userId|edgeauthor',\n",
       " 'src:Book,bookEdition,caption,contentRating,isbn,numberOfPages,title|tarUser,birthDate,email,userId|edgeauthor',\n",
       " 'src:Book,bookEdition,caption,contentRating,isbn,numberOfPages,title|tarUser,birthDate,familyName,userId|edgeauthor',\n",
       " 'src:Book,bookEdition,caption,contentRating,isbn,numberOfPages,title|tarUser,givenName,telephone,userId|edgeauthor',\n",
       " 'src:Book,bookEdition,caption,contentRating,isbn,numberOfPages,title|tarWebsite,hits,url|edgehomepage',\n",
       " 'src:Book,bookEdition,caption,contentRating,isbn,title|tarReview,rating,text,title,totalVotes|edgehasReview',\n",
       " 'src:Book,bookEdition,caption,contentRating,isbn,title|tarReview,rating,text,title|edgehasReview',\n",
       " 'src:Book,bookEdition,caption,contentRating,isbn,title|tarReview,rating,text,totalVotes|edgehasReview',\n",
       " 'src:Book,bookEdition,caption,contentRating,isbn,title|tarReview,rating,text|edgehasReview',\n",
       " 'src:Book,bookEdition,caption,contentRating,isbn,title|tarReview,rating,title,totalVotes|edgehasReview',\n",
       " 'src:Book,bookEdition,caption,contentRating,isbn,title|tarReview,rating,title|edgehasReview',\n",
       " 'src:Book,bookEdition,caption,contentRating,isbn,title|tarReview,rating,totalVotes|edgehasReview',\n",
       " 'src:Book,bookEdition,caption,contentRating,isbn,title|tarReview,rating|edgehasReview',\n",
       " 'src:Book,bookEdition,caption,contentRating,isbn,title|tarSubGenre|edgehasGenre',\n",
       " 'src:Book,bookEdition,caption,contentRating,isbn,title|tarTopic|edgetag',\n",
       " 'src:Book,bookEdition,caption,contentRating,isbn,title|tarUser,birthDate,givenName,jobTitle,userId|edgeauthor',\n",
       " 'src:Book,bookEdition,caption,contentRating,isbn,title|tarWebsite,hits,url|edgehomepage',\n",
       " 'src:Book,bookEdition,caption,contentSize,description,expires,isbn,keywords,title|tarLanguage|edgelanguage',\n",
       " 'src:Book,bookEdition,caption,contentSize,description,expires,isbn,keywords,title|tarReview,rating,text,title,totalVotes|edgehasReview',\n",
       " 'src:Book,bookEdition,caption,contentSize,description,expires,isbn,keywords,title|tarReview,rating,text,title|edgehasReview',\n",
       " 'src:Book,bookEdition,caption,contentSize,description,expires,isbn,keywords,title|tarReview,rating,text,totalVotes|edgehasReview',\n",
       " 'src:Book,bookEdition,caption,contentSize,description,expires,isbn,keywords,title|tarReview,rating,text|edgehasReview',\n",
       " 'src:Book,bookEdition,caption,contentSize,description,expires,isbn,keywords,title|tarReview,rating,title,totalVotes|edgehasReview',\n",
       " 'src:Book,bookEdition,caption,contentSize,description,expires,isbn,keywords,title|tarReview,rating,title|edgehasReview',\n",
       " 'src:Book,bookEdition,caption,contentSize,description,expires,isbn,keywords,title|tarReview,rating,totalVotes|edgehasReview',\n",
       " 'src:Book,bookEdition,caption,contentSize,description,expires,isbn,keywords,title|tarReview,rating|edgehasReview',\n",
       " 'src:Book,bookEdition,caption,contentSize,description,expires,isbn,keywords,title|tarSubGenre|edgehasGenre',\n",
       " 'src:Book,bookEdition,caption,contentSize,description,expires,isbn,keywords,title|tarTopic|edgetag',\n",
       " 'src:Book,bookEdition,caption,contentSize,description,expires,isbn,keywords,title|tarUser,birthDate,email,familyName,givenName,userId|edgeeditor',\n",
       " 'src:Book,bookEdition,caption,contentSize,description,expires,isbn,keywords,title|tarUser,birthDate,email,givenName,jobTitle,userId|edgeeditor',\n",
       " 'src:Book,bookEdition,caption,contentSize,description,expires,isbn,keywords,title|tarUser,birthDate,familyName,givenName,userId|edgeauthor',\n",
       " 'src:Book,bookEdition,caption,contentSize,description,expires,isbn,keywords,title|tarUser,email,familyName,jobTitle,telephone,userId|edgeauthor',\n",
       " 'src:Book,bookEdition,caption,contentSize,description,expires,isbn,keywords,title|tarUser,email,givenName,userId|edgeeditor',\n",
       " 'src:Book,bookEdition,caption,contentSize,description,expires,isbn,keywords,title|tarWebsite,hits,url|edgehomepage',\n",
       " 'src:Book,bookEdition,caption,contentSize,description,expires,isbn,numberOfPages,text,title|tarReview,rating,text,title,totalVotes|edgehasReview',\n",
       " 'src:Book,bookEdition,caption,contentSize,description,expires,isbn,numberOfPages,text,title|tarReview,rating,text,title|edgehasReview',\n",
       " 'src:Book,bookEdition,caption,contentSize,description,expires,isbn,numberOfPages,text,title|tarReview,rating,text,totalVotes|edgehasReview',\n",
       " 'src:Book,bookEdition,caption,contentSize,description,expires,isbn,numberOfPages,text,title|tarReview,rating,text|edgehasReview',\n",
       " 'src:Book,bookEdition,caption,contentSize,description,expires,isbn,numberOfPages,text,title|tarReview,rating,title,totalVotes|edgehasReview',\n",
       " 'src:Book,bookEdition,caption,contentSize,description,expires,isbn,numberOfPages,text,title|tarReview,rating,title|edgehasReview',\n",
       " 'src:Book,bookEdition,caption,contentSize,description,expires,isbn,numberOfPages,text,title|tarReview,rating,totalVotes|edgehasReview',\n",
       " 'src:Book,bookEdition,caption,contentSize,description,expires,isbn,numberOfPages,text,title|tarReview,rating|edgehasReview',\n",
       " 'src:Book,bookEdition,caption,contentSize,description,expires,isbn,numberOfPages,text,title|tarSubGenre|edgehasGenre',\n",
       " 'src:Book,bookEdition,caption,contentSize,description,expires,isbn,numberOfPages,text,title|tarTopic|edgetag',\n",
       " 'src:Book,bookEdition,caption,contentSize,description,expires,isbn,numberOfPages,text,title|tarUser,birthDate,email,givenName,jobTitle,telephone,userId|edgeauthor',\n",
       " 'src:Book,bookEdition,caption,contentSize,description,expires,isbn,numberOfPages,text,title|tarUser,birthDate,email,givenName,jobTitle,userId|edgeeditor',\n",
       " 'src:Book,bookEdition,caption,contentSize,description,expires,isbn,numberOfPages,text,title|tarUser,birthDate,email,givenName,telephone,userId|edgeauthor',\n",
       " 'src:Book,bookEdition,caption,contentSize,description,expires,isbn,numberOfPages,text,title|tarUser,birthDate,email,givenName,userId|edgeauthor',\n",
       " 'src:Book,bookEdition,caption,contentSize,description,expires,isbn,numberOfPages,text,title|tarUser,birthDate,email,jobTitle,telephone,userId|edgeeditor',\n",
       " 'src:Book,bookEdition,caption,contentSize,description,expires,isbn,numberOfPages,text,title|tarUser,birthDate,email,jobTitle,userId|edgeauthor',\n",
       " 'src:Book,bookEdition,caption,contentSize,description,expires,isbn,numberOfPages,text,title|tarUser,birthDate,familyName,givenName,jobTitle,telephone,userId|edgeeditor',\n",
       " 'src:Book,bookEdition,caption,contentSize,description,expires,isbn,numberOfPages,text,title|tarUser,birthDate,givenName,jobTitle,userId|edgeauthor',\n",
       " 'src:Book,bookEdition,caption,contentSize,description,expires,isbn,numberOfPages,text,title|tarUser,email,givenName,jobTitle,userId|edgeeditor',\n",
       " 'src:Book,bookEdition,caption,contentSize,description,expires,isbn,numberOfPages,text,title|tarUser,email,givenName,telephone,userId|edgeauthor',\n",
       " 'src:Book,bookEdition,caption,contentSize,description,expires,isbn,numberOfPages,text,title|tarUser,familyName,jobTitle,telephone,userId|edgeauthor',\n",
       " 'src:Book,bookEdition,caption,contentSize,description,expires,isbn,numberOfPages,text,title|tarUser,familyName,userId|edgeeditor',\n",
       " 'src:Book,bookEdition,caption,contentSize,description,expires,isbn,numberOfPages,text,title|tarUser,givenName,telephone,userId|edgeauthor',\n",
       " 'src:Book,bookEdition,caption,contentSize,description,expires,isbn,numberOfPages,text,title|tarUser,jobTitle,telephone,userId|edgeauthor',\n",
       " 'src:Book,bookEdition,caption,contentSize,description,expires,isbn,numberOfPages,text,title|tarWebsite,hits,url|edgehomepage',\n",
       " 'src:Book,bookEdition,caption,contentSize,description,expires,isbn,numberOfPages,title|tarLanguage|edgelanguage',\n",
       " 'src:Book,bookEdition,caption,contentSize,description,expires,isbn,numberOfPages,title|tarReview,rating,text,title,totalVotes|edgehasReview',\n",
       " 'src:Book,bookEdition,caption,contentSize,description,expires,isbn,numberOfPages,title|tarReview,rating,text,title|edgehasReview',\n",
       " 'src:Book,bookEdition,caption,contentSize,description,expires,isbn,numberOfPages,title|tarReview,rating,text,totalVotes|edgehasReview',\n",
       " 'src:Book,bookEdition,caption,contentSize,description,expires,isbn,numberOfPages,title|tarReview,rating,text|edgehasReview',\n",
       " 'src:Book,bookEdition,caption,contentSize,description,expires,isbn,numberOfPages,title|tarReview,rating,title,totalVotes|edgehasReview',\n",
       " 'src:Book,bookEdition,caption,contentSize,description,expires,isbn,numberOfPages,title|tarReview,rating,title|edgehasReview',\n",
       " 'src:Book,bookEdition,caption,contentSize,description,expires,isbn,numberOfPages,title|tarReview,rating,totalVotes|edgehasReview',\n",
       " 'src:Book,bookEdition,caption,contentSize,description,expires,isbn,numberOfPages,title|tarReview,rating|edgehasReview',\n",
       " 'src:Book,bookEdition,caption,contentSize,description,expires,isbn,numberOfPages,title|tarReview,title|edgehasReview',\n",
       " 'src:Book,bookEdition,caption,contentSize,description,expires,isbn,numberOfPages,title|tarSubGenre|edgehasGenre',\n",
       " 'src:Book,bookEdition,caption,contentSize,description,expires,isbn,numberOfPages,title|tarTopic|edgetag',\n",
       " 'src:Book,bookEdition,caption,contentSize,description,expires,isbn,numberOfPages,title|tarUser,birthDate,email,familyName,givenName,userId|edgeauthor',\n",
       " 'src:Book,bookEdition,caption,contentSize,description,expires,isbn,numberOfPages,title|tarUser,birthDate,email,familyName,jobTitle,userId|edgeeditor',\n",
       " 'src:Book,bookEdition,caption,contentSize,description,expires,isbn,numberOfPages,title|tarUser,birthDate,email,givenName,jobTitle,userId|edgeauthor',\n",
       " 'src:Book,bookEdition,caption,contentSize,description,expires,isbn,numberOfPages,title|tarUser,birthDate,email,telephone,userId|edgeauthor',\n",
       " 'src:Book,bookEdition,caption,contentSize,description,expires,isbn,numberOfPages,title|tarUser,birthDate,email,telephone,userId|edgeeditor',\n",
       " 'src:Book,bookEdition,caption,contentSize,description,expires,isbn,numberOfPages,title|tarUser,birthDate,familyName,givenName,jobTitle,userId|edgeeditor',\n",
       " 'src:Book,bookEdition,caption,contentSize,description,expires,isbn,numberOfPages,title|tarUser,birthDate,familyName,telephone,userId|edgeauthor',\n",
       " 'src:Book,bookEdition,caption,contentSize,description,expires,isbn,numberOfPages,title|tarUser,birthDate,givenName,userId|edgeauthor',\n",
       " 'src:Book,bookEdition,caption,contentSize,description,expires,isbn,numberOfPages,title|tarUser,birthDate,jobTitle,userId|edgeeditor',\n",
       " 'src:Book,bookEdition,caption,contentSize,description,expires,isbn,numberOfPages,title|tarUser,email,familyName,userId|edgeeditor',\n",
       " 'src:Book,bookEdition,caption,contentSize,description,expires,isbn,numberOfPages,title|tarUser,email,givenName,jobTitle,telephone,userId|edgeauthor',\n",
       " 'src:Book,bookEdition,caption,contentSize,description,expires,isbn,numberOfPages,title|tarUser,email,givenName,userId|edgeauthor',\n",
       " 'src:Book,bookEdition,caption,contentSize,description,expires,isbn,numberOfPages,title|tarUser,email,givenName,userId|edgeeditor',\n",
       " 'src:Book,bookEdition,caption,contentSize,description,expires,isbn,numberOfPages,title|tarUser,email,jobTitle,telephone,userId|edgeauthor',\n",
       " 'src:Book,bookEdition,caption,contentSize,description,expires,isbn,numberOfPages,title|tarUser,familyName,givenName,telephone,userId|edgeauthor',\n",
       " 'src:Book,bookEdition,caption,contentSize,description,expires,isbn,numberOfPages,title|tarUser,familyName,givenName,userId|edgeauthor',\n",
       " 'src:Book,bookEdition,caption,contentSize,description,expires,isbn,numberOfPages,title|tarUser,familyName,jobTitle,telephone,userId|edgeauthor',\n",
       " 'src:Book,bookEdition,caption,contentSize,description,expires,isbn,numberOfPages,title|tarUser,givenName,jobTitle,userId|edgeauthor',\n",
       " 'src:Book,bookEdition,caption,contentSize,description,expires,isbn,numberOfPages,title|tarWebsite,hits,url|edgehomepage',\n",
       " 'src:Book,bookEdition,caption,contentSize,description,expires,isbn,text,title|tarReview,rating,text,title,totalVotes|edgehasReview',\n",
       " 'src:Book,bookEdition,caption,contentSize,description,expires,isbn,text,title|tarReview,rating,text,title|edgehasReview',\n",
       " 'src:Book,bookEdition,caption,contentSize,description,expires,isbn,text,title|tarReview,rating,text,totalVotes|edgehasReview',\n",
       " 'src:Book,bookEdition,caption,contentSize,description,expires,isbn,text,title|tarReview,rating,text|edgehasReview',\n",
       " 'src:Book,bookEdition,caption,contentSize,description,expires,isbn,text,title|tarReview,rating,title,totalVotes|edgehasReview',\n",
       " 'src:Book,bookEdition,caption,contentSize,description,expires,isbn,text,title|tarReview,rating,title|edgehasReview',\n",
       " 'src:Book,bookEdition,caption,contentSize,description,expires,isbn,text,title|tarReview,rating,totalVotes|edgehasReview',\n",
       " 'src:Book,bookEdition,caption,contentSize,description,expires,isbn,text,title|tarReview,rating|edgehasReview',\n",
       " 'src:Book,bookEdition,caption,contentSize,description,expires,isbn,text,title|tarSubGenre|edgehasGenre',\n",
       " 'src:Book,bookEdition,caption,contentSize,description,expires,isbn,text,title|tarTopic|edgetag',\n",
       " 'src:Book,bookEdition,caption,contentSize,description,expires,isbn,text,title|tarUser,birthDate,familyName,givenName,userId|edgeeditor',\n",
       " 'src:Book,bookEdition,caption,contentSize,description,expires,isbn,text,title|tarUser,birthDate,familyName,userId|edgeauthor',\n",
       " 'src:Book,bookEdition,caption,contentSize,description,expires,isbn,text,title|tarUser,email,familyName,jobTitle,telephone,userId|edgeauthor',\n",
       " 'src:Book,bookEdition,caption,contentSize,description,expires,isbn,text,title|tarUser,familyName,jobTitle,telephone,userId|edgeauthor',\n",
       " 'src:Book,bookEdition,caption,contentSize,description,expires,isbn,text,title|tarUser,familyName,jobTitle,userId|edgeeditor',\n",
       " 'src:Book,bookEdition,caption,contentSize,description,expires,isbn,text,title|tarUser,givenName,telephone,userId|edgeauthor',\n",
       " 'src:Book,bookEdition,caption,contentSize,description,expires,isbn,text,title|tarWebsite,hits,url|edgehomepage',\n",
       " 'src:Book,bookEdition,caption,contentSize,description,isbn,keywords,numberOfPages,title|tarLanguage|edgelanguage',\n",
       " 'src:Book,bookEdition,caption,contentSize,description,isbn,keywords,numberOfPages,title|tarReview,rating,text,title,totalVotes|edgehasReview',\n",
       " 'src:Book,bookEdition,caption,contentSize,description,isbn,keywords,numberOfPages,title|tarReview,rating,text,title|edgehasReview',\n",
       " 'src:Book,bookEdition,caption,contentSize,description,isbn,keywords,numberOfPages,title|tarReview,rating,text,totalVotes|edgehasReview',\n",
       " 'src:Book,bookEdition,caption,contentSize,description,isbn,keywords,numberOfPages,title|tarReview,rating,text|edgehasReview',\n",
       " 'src:Book,bookEdition,caption,contentSize,description,isbn,keywords,numberOfPages,title|tarReview,rating,title,totalVotes|edgehasReview',\n",
       " 'src:Book,bookEdition,caption,contentSize,description,isbn,keywords,numberOfPages,title|tarReview,rating,title|edgehasReview',\n",
       " 'src:Book,bookEdition,caption,contentSize,description,isbn,keywords,numberOfPages,title|tarReview,rating,totalVotes|edgehasReview',\n",
       " 'src:Book,bookEdition,caption,contentSize,description,isbn,keywords,numberOfPages,title|tarReview,rating|edgehasReview',\n",
       " 'src:Book,bookEdition,caption,contentSize,description,isbn,keywords,numberOfPages,title|tarReview,text|edgehasReview',\n",
       " 'src:Book,bookEdition,caption,contentSize,description,isbn,keywords,numberOfPages,title|tarSubGenre|edgehasGenre',\n",
       " 'src:Book,bookEdition,caption,contentSize,description,isbn,keywords,numberOfPages,title|tarTopic|edgetag',\n",
       " 'src:Book,bookEdition,caption,contentSize,description,isbn,keywords,numberOfPages,title|tarUser,birthDate,email,familyName,jobTitle,telephone,userId|edgeauthor',\n",
       " 'src:Book,bookEdition,caption,contentSize,description,isbn,keywords,numberOfPages,title|tarUser,birthDate,jobTitle,userId|edgeeditor',\n",
       " 'src:Book,bookEdition,caption,contentSize,description,isbn,keywords,numberOfPages,title|tarUser,birthDate,userId|edgeauthor',\n",
       " 'src:Book,bookEdition,caption,contentSize,description,isbn,keywords,numberOfPages,title|tarUser,familyName,telephone,userId|edgeeditor',\n",
       " 'src:Book,bookEdition,caption,contentSize,description,isbn,keywords,numberOfPages,title|tarWebsite,hits,url|edgehomepage',\n",
       " 'src:Book,bookEdition,caption,contentSize,description,isbn,keywords,title|tarReview,rating,text,title,totalVotes|edgehasReview',\n",
       " 'src:Book,bookEdition,caption,contentSize,description,isbn,keywords,title|tarReview,rating,text,title|edgehasReview',\n",
       " 'src:Book,bookEdition,caption,contentSize,description,isbn,keywords,title|tarReview,rating,text,totalVotes|edgehasReview',\n",
       " 'src:Book,bookEdition,caption,contentSize,description,isbn,keywords,title|tarReview,rating,text|edgehasReview',\n",
       " 'src:Book,bookEdition,caption,contentSize,description,isbn,keywords,title|tarReview,rating,title,totalVotes|edgehasReview',\n",
       " 'src:Book,bookEdition,caption,contentSize,description,isbn,keywords,title|tarReview,rating,title|edgehasReview',\n",
       " 'src:Book,bookEdition,caption,contentSize,description,isbn,keywords,title|tarReview,rating,totalVotes|edgehasReview',\n",
       " 'src:Book,bookEdition,caption,contentSize,description,isbn,keywords,title|tarReview,rating|edgehasReview',\n",
       " 'src:Book,bookEdition,caption,contentSize,description,isbn,keywords,title|tarSubGenre|edgehasGenre',\n",
       " 'src:Book,bookEdition,caption,contentSize,description,isbn,keywords,title|tarTopic|edgetag',\n",
       " 'src:Book,bookEdition,caption,contentSize,description,isbn,keywords,title|tarUser,birthDate,email,givenName,telephone,userId|edgeauthor',\n",
       " 'src:Book,bookEdition,caption,contentSize,description,isbn,keywords,title|tarUser,birthDate,familyName,givenName,jobTitle,telephone,userId|edgeeditor',\n",
       " 'src:Book,bookEdition,caption,contentSize,description,isbn,keywords,title|tarUser,birthDate,givenName,jobTitle,telephone,userId|edgeeditor',\n",
       " 'src:Book,bookEdition,caption,contentSize,description,isbn,keywords,title|tarUser,birthDate,givenName,jobTitle,userId|edgeauthor',\n",
       " 'src:Book,bookEdition,caption,contentSize,description,isbn,keywords,title|tarUser,birthDate,givenName,userId|edgeeditor',\n",
       " 'src:Book,bookEdition,caption,contentSize,description,isbn,keywords,title|tarUser,birthDate,jobTitle,userId|edgeauthor',\n",
       " 'src:Book,bookEdition,caption,contentSize,description,isbn,keywords,title|tarUser,birthDate,telephone,userId|edgeeditor',\n",
       " 'src:Book,bookEdition,caption,contentSize,description,isbn,keywords,title|tarUser,telephone,userId|edgeeditor',\n",
       " 'src:Book,bookEdition,caption,contentSize,description,isbn,keywords,title|tarWebsite,hits,url|edgehomepage',\n",
       " 'src:Book,bookEdition,caption,contentSize,description,isbn,numberOfPages,text,title|tarLanguage|edgelanguage',\n",
       " 'src:Book,bookEdition,caption,contentSize,description,isbn,numberOfPages,text,title|tarReview,rating,text,title,totalVotes|edgehasReview',\n",
       " 'src:Book,bookEdition,caption,contentSize,description,isbn,numberOfPages,text,title|tarReview,rating,text,title|edgehasReview',\n",
       " 'src:Book,bookEdition,caption,contentSize,description,isbn,numberOfPages,text,title|tarReview,rating,text,totalVotes|edgehasReview',\n",
       " 'src:Book,bookEdition,caption,contentSize,description,isbn,numberOfPages,text,title|tarReview,rating,text|edgehasReview',\n",
       " 'src:Book,bookEdition,caption,contentSize,description,isbn,numberOfPages,text,title|tarReview,rating,title,totalVotes|edgehasReview',\n",
       " 'src:Book,bookEdition,caption,contentSize,description,isbn,numberOfPages,text,title|tarReview,rating,title|edgehasReview',\n",
       " 'src:Book,bookEdition,caption,contentSize,description,isbn,numberOfPages,text,title|tarReview,rating,totalVotes|edgehasReview',\n",
       " 'src:Book,bookEdition,caption,contentSize,description,isbn,numberOfPages,text,title|tarReview,rating|edgehasReview',\n",
       " 'src:Book,bookEdition,caption,contentSize,description,isbn,numberOfPages,text,title|tarReview,title,totalVotes|edgehasReview',\n",
       " 'src:Book,bookEdition,caption,contentSize,description,isbn,numberOfPages,text,title|tarSubGenre|edgehasGenre',\n",
       " 'src:Book,bookEdition,caption,contentSize,description,isbn,numberOfPages,text,title|tarTopic|edgetag',\n",
       " 'src:Book,bookEdition,caption,contentSize,description,isbn,numberOfPages,text,title|tarUser,birthDate,email,familyName,givenName,jobTitle,userId|edgeauthor',\n",
       " 'src:Book,bookEdition,caption,contentSize,description,isbn,numberOfPages,text,title|tarUser,birthDate,email,familyName,givenName,telephone,userId|edgeeditor',\n",
       " 'src:Book,bookEdition,caption,contentSize,description,isbn,numberOfPages,text,title|tarUser,birthDate,email,familyName,givenName,userId|edgeeditor',\n",
       " 'src:Book,bookEdition,caption,contentSize,description,isbn,numberOfPages,text,title|tarUser,birthDate,email,familyName,telephone,userId|edgeauthor',\n",
       " 'src:Book,bookEdition,caption,contentSize,description,isbn,numberOfPages,text,title|tarUser,birthDate,email,familyName,telephone,userId|edgeeditor',\n",
       " 'src:Book,bookEdition,caption,contentSize,description,isbn,numberOfPages,text,title|tarUser,birthDate,email,givenName,jobTitle,telephone,userId|edgeauthor',\n",
       " 'src:Book,bookEdition,caption,contentSize,description,isbn,numberOfPages,text,title|tarUser,birthDate,email,givenName,jobTitle,userId|edgeeditor',\n",
       " 'src:Book,bookEdition,caption,contentSize,description,isbn,numberOfPages,text,title|tarUser,birthDate,email,givenName,telephone,userId|edgeeditor',\n",
       " 'src:Book,bookEdition,caption,contentSize,description,isbn,numberOfPages,text,title|tarUser,birthDate,email,givenName,userId|edgeeditor',\n",
       " 'src:Book,bookEdition,caption,contentSize,description,isbn,numberOfPages,text,title|tarUser,birthDate,email,jobTitle,userId|edgeauthor',\n",
       " 'src:Book,bookEdition,caption,contentSize,description,isbn,numberOfPages,text,title|tarUser,birthDate,familyName,givenName,telephone,userId|edgeeditor',\n",
       " 'src:Book,bookEdition,caption,contentSize,description,isbn,numberOfPages,text,title|tarUser,birthDate,familyName,jobTitle,userId|edgeauthor',\n",
       " 'src:Book,bookEdition,caption,contentSize,description,isbn,numberOfPages,text,title|tarUser,birthDate,userId|edgeeditor',\n",
       " 'src:Book,bookEdition,caption,contentSize,description,isbn,numberOfPages,text,title|tarUser,email,familyName,givenName,userId|edgeauthor',\n",
       " 'src:Book,bookEdition,caption,contentSize,description,isbn,numberOfPages,text,title|tarUser,email,familyName,givenName,userId|edgeeditor',\n",
       " 'src:Book,bookEdition,caption,contentSize,description,isbn,numberOfPages,text,title|tarUser,email,familyName,telephone,userId|edgeauthor',\n",
       " 'src:Book,bookEdition,caption,contentSize,description,isbn,numberOfPages,text,title|tarUser,email,jobTitle,telephone,userId|edgeauthor',\n",
       " 'src:Book,bookEdition,caption,contentSize,description,isbn,numberOfPages,text,title|tarUser,email,userId|edgeauthor',\n",
       " 'src:Book,bookEdition,caption,contentSize,description,isbn,numberOfPages,text,title|tarUser,familyName,givenName,jobTitle,telephone,userId|edgeeditor',\n",
       " 'src:Book,bookEdition,caption,contentSize,description,isbn,numberOfPages,text,title|tarUser,familyName,givenName,userId|edgeauthor',\n",
       " 'src:Book,bookEdition,caption,contentSize,description,isbn,numberOfPages,text,title|tarUser,familyName,userId|edgeauthor',\n",
       " 'src:Book,bookEdition,caption,contentSize,description,isbn,numberOfPages,text,title|tarUser,givenName,jobTitle,userId|edgeeditor',\n",
       " 'src:Book,bookEdition,caption,contentSize,description,isbn,numberOfPages,text,title|tarWebsite,hits,url|edgehomepage',\n",
       " 'src:Book,bookEdition,caption,contentSize,description,isbn,numberOfPages,title|tarReview,rating,text,title,totalVotes|edgehasReview',\n",
       " 'src:Book,bookEdition,caption,contentSize,description,isbn,numberOfPages,title|tarReview,rating,text,title|edgehasReview',\n",
       " 'src:Book,bookEdition,caption,contentSize,description,isbn,numberOfPages,title|tarReview,rating,text,totalVotes|edgehasReview',\n",
       " 'src:Book,bookEdition,caption,contentSize,description,isbn,numberOfPages,title|tarReview,rating,text|edgehasReview',\n",
       " 'src:Book,bookEdition,caption,contentSize,description,isbn,numberOfPages,title|tarReview,rating,title,totalVotes|edgehasReview',\n",
       " 'src:Book,bookEdition,caption,contentSize,description,isbn,numberOfPages,title|tarReview,rating,title|edgehasReview',\n",
       " 'src:Book,bookEdition,caption,contentSize,description,isbn,numberOfPages,title|tarReview,rating,totalVotes|edgehasReview',\n",
       " 'src:Book,bookEdition,caption,contentSize,description,isbn,numberOfPages,title|tarReview,rating|edgehasReview',\n",
       " 'src:Book,bookEdition,caption,contentSize,description,isbn,numberOfPages,title|tarSubGenre|edgehasGenre',\n",
       " 'src:Book,bookEdition,caption,contentSize,description,isbn,numberOfPages,title|tarTopic|edgetag',\n",
       " 'src:Book,bookEdition,caption,contentSize,description,isbn,numberOfPages,title|tarUser,birthDate,email,givenName,telephone,userId|edgeauthor',\n",
       " 'src:Book,bookEdition,caption,contentSize,description,isbn,numberOfPages,title|tarUser,birthDate,familyName,givenName,jobTitle,telephone,userId|edgeauthor',\n",
       " 'src:Book,bookEdition,caption,contentSize,description,isbn,numberOfPages,title|tarUser,birthDate,userId|edgeeditor',\n",
       " 'src:Book,bookEdition,caption,contentSize,description,isbn,numberOfPages,title|tarUser,email,familyName,jobTitle,telephone,userId|edgeauthor',\n",
       " 'src:Book,bookEdition,caption,contentSize,description,isbn,numberOfPages,title|tarUser,email,familyName,jobTitle,userId|edgeeditor',\n",
       " 'src:Book,bookEdition,caption,contentSize,description,isbn,numberOfPages,title|tarUser,email,jobTitle,telephone,userId|edgeauthor',\n",
       " 'src:Book,bookEdition,caption,contentSize,description,isbn,numberOfPages,title|tarUser,jobTitle,userId|edgeeditor',\n",
       " 'src:Book,bookEdition,caption,contentSize,description,isbn,numberOfPages,title|tarWebsite,hits,url|edgehomepage',\n",
       " 'src:Book,bookEdition,caption,contentSize,description,isbn,title|tarReview,rating,text,title,totalVotes|edgehasReview',\n",
       " 'src:Book,bookEdition,caption,contentSize,description,isbn,title|tarReview,rating,text,title|edgehasReview',\n",
       " 'src:Book,bookEdition,caption,contentSize,description,isbn,title|tarReview,rating,text,totalVotes|edgehasReview',\n",
       " 'src:Book,bookEdition,caption,contentSize,description,isbn,title|tarReview,rating,text|edgehasReview',\n",
       " 'src:Book,bookEdition,caption,contentSize,description,isbn,title|tarReview,rating,title,totalVotes|edgehasReview',\n",
       " 'src:Book,bookEdition,caption,contentSize,description,isbn,title|tarReview,rating,title|edgehasReview',\n",
       " 'src:Book,bookEdition,caption,contentSize,description,isbn,title|tarReview,rating,totalVotes|edgehasReview',\n",
       " 'src:Book,bookEdition,caption,contentSize,description,isbn,title|tarReview,rating|edgehasReview',\n",
       " 'src:Book,bookEdition,caption,contentSize,description,isbn,title|tarSubGenre|edgehasGenre',\n",
       " 'src:Book,bookEdition,caption,contentSize,description,isbn,title|tarTopic|edgetag',\n",
       " 'src:Book,bookEdition,caption,contentSize,description,isbn,title|tarUser,birthDate,email,familyName,givenName,jobTitle,userId|edgeauthor',\n",
       " 'src:Book,bookEdition,caption,contentSize,description,isbn,title|tarUser,birthDate,email,familyName,givenName,telephone,userId|edgeeditor',\n",
       " 'src:Book,bookEdition,caption,contentSize,description,isbn,title|tarUser,birthDate,email,userId|edgeeditor',\n",
       " 'src:Book,bookEdition,caption,contentSize,description,isbn,title|tarUser,birthDate,givenName,jobTitle,userId|edgeeditor',\n",
       " 'src:Book,bookEdition,caption,contentSize,description,isbn,title|tarUser,email,familyName,givenName,jobTitle,telephone,userId|edgeauthor',\n",
       " 'src:Book,bookEdition,caption,contentSize,description,isbn,title|tarUser,email,familyName,jobTitle,userId|edgeeditor',\n",
       " 'src:Book,bookEdition,caption,contentSize,description,isbn,title|tarUser,familyName,jobTitle,userId|edgeauthor',\n",
       " 'src:Book,bookEdition,caption,contentSize,description,isbn,title|tarUser,jobTitle,telephone,userId|edgeauthor',\n",
       " 'src:Book,bookEdition,caption,contentSize,description,isbn,title|tarWebsite,hits,url|edgehomepage',\n",
       " 'src:Book,bookEdition,caption,contentSize,expires,isbn,keywords,numberOfPages,text,title|tarReview,rating,text,title,totalVotes|edgehasReview',\n",
       " 'src:Book,bookEdition,caption,contentSize,expires,isbn,keywords,numberOfPages,text,title|tarReview,rating,text,title|edgehasReview',\n",
       " 'src:Book,bookEdition,caption,contentSize,expires,isbn,keywords,numberOfPages,text,title|tarReview,rating,text,totalVotes|edgehasReview',\n",
       " 'src:Book,bookEdition,caption,contentSize,expires,isbn,keywords,numberOfPages,text,title|tarReview,rating,text|edgehasReview',\n",
       " 'src:Book,bookEdition,caption,contentSize,expires,isbn,keywords,numberOfPages,text,title|tarReview,rating,title,totalVotes|edgehasReview',\n",
       " 'src:Book,bookEdition,caption,contentSize,expires,isbn,keywords,numberOfPages,text,title|tarReview,rating,title|edgehasReview',\n",
       " 'src:Book,bookEdition,caption,contentSize,expires,isbn,keywords,numberOfPages,text,title|tarReview,rating,totalVotes|edgehasReview',\n",
       " 'src:Book,bookEdition,caption,contentSize,expires,isbn,keywords,numberOfPages,text,title|tarReview,rating|edgehasReview',\n",
       " 'src:Book,bookEdition,caption,contentSize,expires,isbn,keywords,numberOfPages,text,title|tarSubGenre|edgehasGenre',\n",
       " 'src:Book,bookEdition,caption,contentSize,expires,isbn,keywords,numberOfPages,text,title|tarTopic|edgetag',\n",
       " 'src:Book,bookEdition,caption,contentSize,expires,isbn,keywords,numberOfPages,text,title|tarUser,birthDate,email,givenName,telephone,userId|edgeauthor',\n",
       " 'src:Book,bookEdition,caption,contentSize,expires,isbn,keywords,numberOfPages,text,title|tarUser,birthDate,email,jobTitle,telephone,userId|edgeeditor',\n",
       " 'src:Book,bookEdition,caption,contentSize,expires,isbn,keywords,numberOfPages,text,title|tarUser,birthDate,familyName,givenName,jobTitle,telephone,userId|edgeeditor',\n",
       " 'src:Book,bookEdition,caption,contentSize,expires,isbn,keywords,numberOfPages,text,title|tarUser,birthDate,familyName,givenName,telephone,userId|edgeauthor',\n",
       " 'src:Book,bookEdition,caption,contentSize,expires,isbn,keywords,numberOfPages,text,title|tarUser,email,familyName,givenName,userId|edgeeditor',\n",
       " 'src:Book,bookEdition,caption,contentSize,expires,isbn,keywords,numberOfPages,text,title|tarUser,familyName,givenName,jobTitle,userId|edgeauthor',\n",
       " 'src:Book,bookEdition,caption,contentSize,expires,isbn,keywords,numberOfPages,text,title|tarWebsite,hits,url|edgehomepage',\n",
       " 'src:Book,bookEdition,caption,contentSize,expires,isbn,numberOfPages,text,title|tarReview,rating,text,title,totalVotes|edgehasReview',\n",
       " 'src:Book,bookEdition,caption,contentSize,expires,isbn,numberOfPages,text,title|tarReview,rating,text,title|edgehasReview',\n",
       " 'src:Book,bookEdition,caption,contentSize,expires,isbn,numberOfPages,text,title|tarReview,rating,text,totalVotes|edgehasReview',\n",
       " 'src:Book,bookEdition,caption,contentSize,expires,isbn,numberOfPages,text,title|tarReview,rating,text|edgehasReview',\n",
       " 'src:Book,bookEdition,caption,contentSize,expires,isbn,numberOfPages,text,title|tarReview,rating,title,totalVotes|edgehasReview',\n",
       " 'src:Book,bookEdition,caption,contentSize,expires,isbn,numberOfPages,text,title|tarReview,rating,title|edgehasReview',\n",
       " 'src:Book,bookEdition,caption,contentSize,expires,isbn,numberOfPages,text,title|tarReview,rating,totalVotes|edgehasReview',\n",
       " 'src:Book,bookEdition,caption,contentSize,expires,isbn,numberOfPages,text,title|tarReview,rating|edgehasReview',\n",
       " 'src:Book,bookEdition,caption,contentSize,expires,isbn,numberOfPages,text,title|tarSubGenre|edgehasGenre',\n",
       " 'src:Book,bookEdition,caption,contentSize,expires,isbn,numberOfPages,text,title|tarTopic|edgetag',\n",
       " 'src:Book,bookEdition,caption,contentSize,expires,isbn,numberOfPages,text,title|tarUser,birthDate,email,familyName,givenName,jobTitle,telephone,userId|edgeeditor',\n",
       " 'src:Book,bookEdition,caption,contentSize,expires,isbn,numberOfPages,text,title|tarUser,birthDate,email,familyName,givenName,telephone,userId|edgeauthor',\n",
       " 'src:Book,bookEdition,caption,contentSize,expires,isbn,numberOfPages,text,title|tarUser,birthDate,email,familyName,jobTitle,userId|edgeeditor',\n",
       " 'src:Book,bookEdition,caption,contentSize,expires,isbn,numberOfPages,text,title|tarUser,birthDate,email,jobTitle,telephone,userId|edgeauthor',\n",
       " 'src:Book,bookEdition,caption,contentSize,expires,isbn,numberOfPages,text,title|tarUser,birthDate,email,jobTitle,telephone,userId|edgeeditor',\n",
       " 'src:Book,bookEdition,caption,contentSize,expires,isbn,numberOfPages,text,title|tarUser,birthDate,familyName,userId|edgeauthor',\n",
       " 'src:Book,bookEdition,caption,contentSize,expires,isbn,numberOfPages,text,title|tarUser,birthDate,jobTitle,telephone,userId|edgeeditor',\n",
       " 'src:Book,bookEdition,caption,contentSize,expires,isbn,numberOfPages,text,title|tarUser,email,familyName,givenName,jobTitle,telephone,userId|edgeauthor',\n",
       " 'src:Book,bookEdition,caption,contentSize,expires,isbn,numberOfPages,text,title|tarUser,email,familyName,userId|edgeauthor',\n",
       " 'src:Book,bookEdition,caption,contentSize,expires,isbn,numberOfPages,text,title|tarUser,email,givenName,jobTitle,telephone,userId|edgeeditor',\n",
       " 'src:Book,bookEdition,caption,contentSize,expires,isbn,numberOfPages,text,title|tarUser,familyName,jobTitle,userId|edgeauthor',\n",
       " 'src:Book,bookEdition,caption,contentSize,expires,isbn,numberOfPages,text,title|tarWebsite,hits,url|edgehomepage',\n",
       " 'src:Book,bookEdition,caption,contentSize,expires,isbn,numberOfPages,title|tarReview,rating,text,title,totalVotes|edgehasReview',\n",
       " 'src:Book,bookEdition,caption,contentSize,expires,isbn,numberOfPages,title|tarReview,rating,text,title|edgehasReview',\n",
       " 'src:Book,bookEdition,caption,contentSize,expires,isbn,numberOfPages,title|tarReview,rating,text,totalVotes|edgehasReview',\n",
       " 'src:Book,bookEdition,caption,contentSize,expires,isbn,numberOfPages,title|tarReview,rating,text|edgehasReview',\n",
       " 'src:Book,bookEdition,caption,contentSize,expires,isbn,numberOfPages,title|tarReview,rating,title,totalVotes|edgehasReview',\n",
       " 'src:Book,bookEdition,caption,contentSize,expires,isbn,numberOfPages,title|tarReview,rating,title|edgehasReview',\n",
       " 'src:Book,bookEdition,caption,contentSize,expires,isbn,numberOfPages,title|tarReview,rating,totalVotes|edgehasReview',\n",
       " 'src:Book,bookEdition,caption,contentSize,expires,isbn,numberOfPages,title|tarReview,rating|edgehasReview',\n",
       " 'src:Book,bookEdition,caption,contentSize,expires,isbn,numberOfPages,title|tarReview,text|edgehasReview',\n",
       " 'src:Book,bookEdition,caption,contentSize,expires,isbn,numberOfPages,title|tarSubGenre|edgehasGenre',\n",
       " 'src:Book,bookEdition,caption,contentSize,expires,isbn,numberOfPages,title|tarTopic|edgetag',\n",
       " 'src:Book,bookEdition,caption,contentSize,expires,isbn,numberOfPages,title|tarUser,birthDate,email,familyName,givenName,telephone,userId|edgeauthor',\n",
       " 'src:Book,bookEdition,caption,contentSize,expires,isbn,numberOfPages,title|tarUser,birthDate,email,familyName,jobTitle,telephone,userId|edgeauthor',\n",
       " 'src:Book,bookEdition,caption,contentSize,expires,isbn,numberOfPages,title|tarUser,birthDate,email,familyName,telephone,userId|edgeeditor',\n",
       " 'src:Book,bookEdition,caption,contentSize,expires,isbn,numberOfPages,title|tarUser,birthDate,email,givenName,userId|edgeeditor',\n",
       " 'src:Book,bookEdition,caption,contentSize,expires,isbn,numberOfPages,title|tarUser,birthDate,email,jobTitle,userId|edgeauthor',\n",
       " 'src:Book,bookEdition,caption,contentSize,expires,isbn,numberOfPages,title|tarUser,birthDate,familyName,telephone,userId|edgeeditor',\n",
       " 'src:Book,bookEdition,caption,contentSize,expires,isbn,numberOfPages,title|tarUser,birthDate,givenName,jobTitle,telephone,userId|edgeeditor',\n",
       " 'src:Book,bookEdition,caption,contentSize,expires,isbn,numberOfPages,title|tarUser,birthDate,jobTitle,userId|edgeeditor',\n",
       " 'src:Book,bookEdition,caption,contentSize,expires,isbn,numberOfPages,title|tarUser,birthDate,userId|edgeeditor',\n",
       " 'src:Book,bookEdition,caption,contentSize,expires,isbn,numberOfPages,title|tarUser,email,familyName,givenName,jobTitle,userId|edgeauthor',\n",
       " 'src:Book,bookEdition,caption,contentSize,expires,isbn,numberOfPages,title|tarUser,email,familyName,telephone,userId|edgeeditor',\n",
       " 'src:Book,bookEdition,caption,contentSize,expires,isbn,numberOfPages,title|tarUser,email,givenName,userId|edgeauthor',\n",
       " 'src:Book,bookEdition,caption,contentSize,expires,isbn,numberOfPages,title|tarUser,familyName,givenName,jobTitle,userId|edgeauthor',\n",
       " 'src:Book,bookEdition,caption,contentSize,expires,isbn,numberOfPages,title|tarUser,familyName,givenName,telephone,userId|edgeauthor',\n",
       " 'src:Book,bookEdition,caption,contentSize,expires,isbn,numberOfPages,title|tarUser,familyName,givenName,userId|edgeauthor',\n",
       " 'src:Book,bookEdition,caption,contentSize,expires,isbn,numberOfPages,title|tarUser,givenName,userId|edgeeditor',\n",
       " 'src:Book,bookEdition,caption,contentSize,expires,isbn,numberOfPages,title|tarUser,jobTitle,telephone,userId|edgeauthor',\n",
       " 'src:Book,bookEdition,caption,contentSize,expires,isbn,numberOfPages,title|tarUser,telephone,userId|edgeauthor',\n",
       " 'src:Book,bookEdition,caption,contentSize,expires,isbn,numberOfPages,title|tarWebsite,hits,url|edgehomepage',\n",
       " 'src:Book,bookEdition,caption,contentSize,expires,isbn,title|tarLanguage|edgelanguage',\n",
       " 'src:Book,bookEdition,caption,contentSize,expires,isbn,title|tarReview,rating,text,title,totalVotes|edgehasReview',\n",
       " 'src:Book,bookEdition,caption,contentSize,expires,isbn,title|tarReview,rating,text,title|edgehasReview',\n",
       " 'src:Book,bookEdition,caption,contentSize,expires,isbn,title|tarReview,rating,text,totalVotes|edgehasReview',\n",
       " 'src:Book,bookEdition,caption,contentSize,expires,isbn,title|tarReview,rating,text|edgehasReview',\n",
       " 'src:Book,bookEdition,caption,contentSize,expires,isbn,title|tarReview,rating,title,totalVotes|edgehasReview',\n",
       " 'src:Book,bookEdition,caption,contentSize,expires,isbn,title|tarReview,rating,title|edgehasReview',\n",
       " 'src:Book,bookEdition,caption,contentSize,expires,isbn,title|tarReview,rating,totalVotes|edgehasReview',\n",
       " 'src:Book,bookEdition,caption,contentSize,expires,isbn,title|tarReview,rating|edgehasReview',\n",
       " 'src:Book,bookEdition,caption,contentSize,expires,isbn,title|tarSubGenre|edgehasGenre',\n",
       " 'src:Book,bookEdition,caption,contentSize,expires,isbn,title|tarTopic|edgetag',\n",
       " 'src:Book,bookEdition,caption,contentSize,expires,isbn,title|tarUser,birthDate,email,familyName,givenName,jobTitle,userId|edgeauthor',\n",
       " 'src:Book,bookEdition,caption,contentSize,expires,isbn,title|tarUser,birthDate,email,familyName,jobTitle,telephone,userId|edgeeditor',\n",
       " 'src:Book,bookEdition,caption,contentSize,expires,isbn,title|tarUser,birthDate,givenName,jobTitle,telephone,userId|edgeeditor',\n",
       " 'src:Book,bookEdition,caption,contentSize,expires,isbn,title|tarUser,familyName,givenName,jobTitle,telephone,userId|edgeeditor',\n",
       " 'src:Book,bookEdition,caption,contentSize,expires,isbn,title|tarUser,familyName,givenName,userId|edgeeditor',\n",
       " 'src:Book,bookEdition,caption,contentSize,expires,isbn,title|tarUser,familyName,jobTitle,telephone,userId|edgeauthor',\n",
       " 'src:Book,bookEdition,caption,contentSize,expires,isbn,title|tarWebsite,hits,url|edgehomepage',\n",
       " 'src:Book,bookEdition,caption,contentSize,isbn,keywords,numberOfPages,text,title|tarLanguage|edgelanguage',\n",
       " 'src:Book,bookEdition,caption,contentSize,isbn,keywords,numberOfPages,text,title|tarReview,rating,text,title,totalVotes|edgehasReview',\n",
       " 'src:Book,bookEdition,caption,contentSize,isbn,keywords,numberOfPages,text,title|tarReview,rating,text,title|edgehasReview',\n",
       " 'src:Book,bookEdition,caption,contentSize,isbn,keywords,numberOfPages,text,title|tarReview,rating,text,totalVotes|edgehasReview',\n",
       " 'src:Book,bookEdition,caption,contentSize,isbn,keywords,numberOfPages,text,title|tarReview,rating,text|edgehasReview',\n",
       " 'src:Book,bookEdition,caption,contentSize,isbn,keywords,numberOfPages,text,title|tarReview,rating,title,totalVotes|edgehasReview',\n",
       " 'src:Book,bookEdition,caption,contentSize,isbn,keywords,numberOfPages,text,title|tarReview,rating,title|edgehasReview',\n",
       " 'src:Book,bookEdition,caption,contentSize,isbn,keywords,numberOfPages,text,title|tarReview,rating,totalVotes|edgehasReview',\n",
       " 'src:Book,bookEdition,caption,contentSize,isbn,keywords,numberOfPages,text,title|tarReview,rating|edgehasReview',\n",
       " 'src:Book,bookEdition,caption,contentSize,isbn,keywords,numberOfPages,text,title|tarSubGenre|edgehasGenre',\n",
       " 'src:Book,bookEdition,caption,contentSize,isbn,keywords,numberOfPages,text,title|tarTopic|edgetag',\n",
       " 'src:Book,bookEdition,caption,contentSize,isbn,keywords,numberOfPages,text,title|tarUser,birthDate,email,familyName,givenName,jobTitle,userId|edgeauthor',\n",
       " 'src:Book,bookEdition,caption,contentSize,isbn,keywords,numberOfPages,text,title|tarUser,birthDate,email,givenName,jobTitle,userId|edgeeditor',\n",
       " 'src:Book,bookEdition,caption,contentSize,isbn,keywords,numberOfPages,text,title|tarUser,birthDate,familyName,givenName,userId|edgeauthor',\n",
       " 'src:Book,bookEdition,caption,contentSize,isbn,keywords,numberOfPages,text,title|tarUser,birthDate,familyName,jobTitle,userId|edgeauthor',\n",
       " 'src:Book,bookEdition,caption,contentSize,isbn,keywords,numberOfPages,text,title|tarUser,birthDate,jobTitle,userId|edgeeditor',\n",
       " 'src:Book,bookEdition,caption,contentSize,isbn,keywords,numberOfPages,text,title|tarUser,email,givenName,telephone,userId|edgeeditor',\n",
       " 'src:Book,bookEdition,caption,contentSize,isbn,keywords,numberOfPages,text,title|tarUser,familyName,userId|edgeauthor',\n",
       " 'src:Book,bookEdition,caption,contentSize,isbn,keywords,numberOfPages,text,title|tarUser,familyName,userId|edgeeditor',\n",
       " 'src:Book,bookEdition,caption,contentSize,isbn,keywords,numberOfPages,text,title|tarUser,givenName,userId|edgeeditor',\n",
       " 'src:Book,bookEdition,caption,contentSize,isbn,keywords,numberOfPages,text,title|tarWebsite,hits,url|edgehomepage',\n",
       " 'src:Book,bookEdition,caption,contentSize,isbn,keywords,numberOfPages,title|tarReview,rating,text,title,totalVotes|edgehasReview',\n",
       " 'src:Book,bookEdition,caption,contentSize,isbn,keywords,numberOfPages,title|tarReview,rating,text,title|edgehasReview',\n",
       " 'src:Book,bookEdition,caption,contentSize,isbn,keywords,numberOfPages,title|tarReview,rating,text,totalVotes|edgehasReview',\n",
       " 'src:Book,bookEdition,caption,contentSize,isbn,keywords,numberOfPages,title|tarReview,rating,text|edgehasReview',\n",
       " 'src:Book,bookEdition,caption,contentSize,isbn,keywords,numberOfPages,title|tarReview,rating,title,totalVotes|edgehasReview',\n",
       " 'src:Book,bookEdition,caption,contentSize,isbn,keywords,numberOfPages,title|tarReview,rating,title|edgehasReview',\n",
       " 'src:Book,bookEdition,caption,contentSize,isbn,keywords,numberOfPages,title|tarReview,rating,totalVotes|edgehasReview',\n",
       " 'src:Book,bookEdition,caption,contentSize,isbn,keywords,numberOfPages,title|tarReview,rating|edgehasReview',\n",
       " 'src:Book,bookEdition,caption,contentSize,isbn,keywords,numberOfPages,title|tarSubGenre|edgehasGenre',\n",
       " 'src:Book,bookEdition,caption,contentSize,isbn,keywords,numberOfPages,title|tarTopic|edgetag',\n",
       " 'src:Book,bookEdition,caption,contentSize,isbn,keywords,numberOfPages,title|tarUser,birthDate,email,familyName,jobTitle,userId|edgeauthor',\n",
       " 'src:Book,bookEdition,caption,contentSize,isbn,keywords,numberOfPages,title|tarUser,birthDate,email,givenName,jobTitle,telephone,userId|edgeauthor',\n",
       " 'src:Book,bookEdition,caption,contentSize,isbn,keywords,numberOfPages,title|tarUser,birthDate,jobTitle,userId|edgeauthor',\n",
       " 'src:Book,bookEdition,caption,contentSize,isbn,keywords,numberOfPages,title|tarUser,email,familyName,givenName,jobTitle,telephone,userId|edgeeditor',\n",
       " 'src:Book,bookEdition,caption,contentSize,isbn,keywords,numberOfPages,title|tarUser,email,familyName,givenName,telephone,userId|edgeauthor',\n",
       " 'src:Book,bookEdition,caption,contentSize,isbn,keywords,numberOfPages,title|tarUser,email,familyName,jobTitle,userId|edgeeditor',\n",
       " 'src:Book,bookEdition,caption,contentSize,isbn,keywords,numberOfPages,title|tarUser,email,familyName,userId|edgeauthor',\n",
       " 'src:Book,bookEdition,caption,contentSize,isbn,keywords,numberOfPages,title|tarUser,email,jobTitle,telephone,userId|edgeeditor',\n",
       " 'src:Book,bookEdition,caption,contentSize,isbn,keywords,numberOfPages,title|tarUser,familyName,givenName,userId|edgeeditor',\n",
       " 'src:Book,bookEdition,caption,contentSize,isbn,keywords,numberOfPages,title|tarWebsite,hits,url|edgehomepage',\n",
       " 'src:Book,bookEdition,caption,contentSize,isbn,numberOfPages,text,title|tarLanguage|edgelanguage',\n",
       " 'src:Book,bookEdition,caption,contentSize,isbn,numberOfPages,text,title|tarReview,rating,text,title,totalVotes|edgehasReview',\n",
       " 'src:Book,bookEdition,caption,contentSize,isbn,numberOfPages,text,title|tarReview,rating,text,title|edgehasReview',\n",
       " 'src:Book,bookEdition,caption,contentSize,isbn,numberOfPages,text,title|tarReview,rating,text,totalVotes|edgehasReview',\n",
       " 'src:Book,bookEdition,caption,contentSize,isbn,numberOfPages,text,title|tarReview,rating,text|edgehasReview',\n",
       " 'src:Book,bookEdition,caption,contentSize,isbn,numberOfPages,text,title|tarReview,rating,title,totalVotes|edgehasReview',\n",
       " 'src:Book,bookEdition,caption,contentSize,isbn,numberOfPages,text,title|tarReview,rating,title|edgehasReview',\n",
       " 'src:Book,bookEdition,caption,contentSize,isbn,numberOfPages,text,title|tarReview,rating,totalVotes|edgehasReview',\n",
       " 'src:Book,bookEdition,caption,contentSize,isbn,numberOfPages,text,title|tarReview,rating|edgehasReview',\n",
       " 'src:Book,bookEdition,caption,contentSize,isbn,numberOfPages,text,title|tarSubGenre|edgehasGenre',\n",
       " 'src:Book,bookEdition,caption,contentSize,isbn,numberOfPages,text,title|tarTopic|edgetag',\n",
       " 'src:Book,bookEdition,caption,contentSize,isbn,numberOfPages,text,title|tarUser,birthDate,email,familyName,jobTitle,telephone,userId|edgeauthor',\n",
       " 'src:Book,bookEdition,caption,contentSize,isbn,numberOfPages,text,title|tarUser,birthDate,email,familyName,jobTitle,userId|edgeauthor',\n",
       " 'src:Book,bookEdition,caption,contentSize,isbn,numberOfPages,text,title|tarUser,birthDate,email,givenName,telephone,userId|edgeauthor',\n",
       " 'src:Book,bookEdition,caption,contentSize,isbn,numberOfPages,text,title|tarUser,birthDate,email,givenName,telephone,userId|edgeeditor',\n",
       " 'src:Book,bookEdition,caption,contentSize,isbn,numberOfPages,text,title|tarUser,birthDate,email,telephone,userId|edgeauthor',\n",
       " 'src:Book,bookEdition,caption,contentSize,isbn,numberOfPages,text,title|tarUser,birthDate,email,userId|edgeauthor',\n",
       " 'src:Book,bookEdition,caption,contentSize,isbn,numberOfPages,text,title|tarUser,birthDate,familyName,givenName,telephone,userId|edgeauthor',\n",
       " 'src:Book,bookEdition,caption,contentSize,isbn,numberOfPages,text,title|tarUser,birthDate,givenName,jobTitle,userId|edgeauthor',\n",
       " 'src:Book,bookEdition,caption,contentSize,isbn,numberOfPages,text,title|tarUser,email,familyName,givenName,jobTitle,userId|edgeeditor',\n",
       " 'src:Book,bookEdition,caption,contentSize,isbn,numberOfPages,text,title|tarUser,email,familyName,givenName,userId|edgeeditor',\n",
       " 'src:Book,bookEdition,caption,contentSize,isbn,numberOfPages,text,title|tarUser,email,familyName,jobTitle,telephone,userId|edgeeditor',\n",
       " 'src:Book,bookEdition,caption,contentSize,isbn,numberOfPages,text,title|tarUser,email,familyName,jobTitle,userId|edgeauthor',\n",
       " 'src:Book,bookEdition,caption,contentSize,isbn,numberOfPages,text,title|tarUser,email,jobTitle,telephone,userId|edgeauthor',\n",
       " 'src:Book,bookEdition,caption,contentSize,isbn,numberOfPages,text,title|tarUser,familyName,givenName,jobTitle,telephone,userId|edgeauthor',\n",
       " 'src:Book,bookEdition,caption,contentSize,isbn,numberOfPages,text,title|tarUser,familyName,givenName,telephone,userId|edgeeditor',\n",
       " 'src:Book,bookEdition,caption,contentSize,isbn,numberOfPages,text,title|tarUser,familyName,jobTitle,userId|edgeeditor',\n",
       " 'src:Book,bookEdition,caption,contentSize,isbn,numberOfPages,text,title|tarWebsite,hits,url|edgehomepage',\n",
       " 'src:Book,bookEdition,caption,contentSize,isbn,numberOfPages,title|tarLanguage|edgelanguage',\n",
       " 'src:Book,bookEdition,caption,contentSize,isbn,numberOfPages,title|tarReview,rating,text,title,totalVotes|edgehasReview',\n",
       " 'src:Book,bookEdition,caption,contentSize,isbn,numberOfPages,title|tarReview,rating,text,title|edgehasReview',\n",
       " 'src:Book,bookEdition,caption,contentSize,isbn,numberOfPages,title|tarReview,rating,text,totalVotes|edgehasReview',\n",
       " 'src:Book,bookEdition,caption,contentSize,isbn,numberOfPages,title|tarReview,rating,text|edgehasReview',\n",
       " 'src:Book,bookEdition,caption,contentSize,isbn,numberOfPages,title|tarReview,rating,title,totalVotes|edgehasReview',\n",
       " 'src:Book,bookEdition,caption,contentSize,isbn,numberOfPages,title|tarReview,rating,title|edgehasReview',\n",
       " 'src:Book,bookEdition,caption,contentSize,isbn,numberOfPages,title|tarReview,rating,totalVotes|edgehasReview',\n",
       " 'src:Book,bookEdition,caption,contentSize,isbn,numberOfPages,title|tarReview,rating|edgehasReview',\n",
       " 'src:Book,bookEdition,caption,contentSize,isbn,numberOfPages,title|tarSubGenre|edgehasGenre',\n",
       " 'src:Book,bookEdition,caption,contentSize,isbn,numberOfPages,title|tarTopic|edgetag',\n",
       " 'src:Book,bookEdition,caption,contentSize,isbn,numberOfPages,title|tarUser,birthDate,email,familyName,givenName,jobTitle,userId|edgeeditor',\n",
       " 'src:Book,bookEdition,caption,contentSize,isbn,numberOfPages,title|tarUser,birthDate,email,familyName,jobTitle,userId|edgeauthor',\n",
       " 'src:Book,bookEdition,caption,contentSize,isbn,numberOfPages,title|tarUser,birthDate,email,jobTitle,userId|edgeeditor',\n",
       " 'src:Book,bookEdition,caption,contentSize,isbn,numberOfPages,title|tarUser,birthDate,email,telephone,userId|edgeeditor',\n",
       " 'src:Book,bookEdition,caption,contentSize,isbn,numberOfPages,title|tarUser,birthDate,familyName,givenName,jobTitle,userId|edgeauthor',\n",
       " 'src:Book,bookEdition,caption,contentSize,isbn,numberOfPages,title|tarUser,birthDate,familyName,givenName,jobTitle,userId|edgeeditor',\n",
       " 'src:Book,bookEdition,caption,contentSize,isbn,numberOfPages,title|tarUser,birthDate,familyName,givenName,telephone,userId|edgeeditor',\n",
       " 'src:Book,bookEdition,caption,contentSize,isbn,numberOfPages,title|tarUser,birthDate,familyName,givenName,userId|edgeeditor',\n",
       " 'src:Book,bookEdition,caption,contentSize,isbn,numberOfPages,title|tarUser,birthDate,familyName,jobTitle,telephone,userId|edgeauthor',\n",
       " 'src:Book,bookEdition,caption,contentSize,isbn,numberOfPages,title|tarUser,birthDate,familyName,userId|edgeeditor',\n",
       " 'src:Book,bookEdition,caption,contentSize,isbn,numberOfPages,title|tarUser,birthDate,jobTitle,telephone,userId|edgeauthor',\n",
       " 'src:Book,bookEdition,caption,contentSize,isbn,numberOfPages,title|tarUser,email,familyName,jobTitle,userId|edgeeditor',\n",
       " 'src:Book,bookEdition,caption,contentSize,isbn,numberOfPages,title|tarUser,email,givenName,jobTitle,telephone,userId|edgeauthor',\n",
       " 'src:Book,bookEdition,caption,contentSize,isbn,numberOfPages,title|tarUser,email,jobTitle,telephone,userId|edgeeditor',\n",
       " 'src:Book,bookEdition,caption,contentSize,isbn,numberOfPages,title|tarUser,familyName,givenName,telephone,userId|edgeauthor',\n",
       " 'src:Book,bookEdition,caption,contentSize,isbn,numberOfPages,title|tarUser,familyName,jobTitle,userId|edgeeditor',\n",
       " 'src:Book,bookEdition,caption,contentSize,isbn,numberOfPages,title|tarWebsite,hits,url|edgehomepage',\n",
       " 'src:Book,bookEdition,caption,contentSize,isbn,text,title|tarReview,rating,text,title,totalVotes|edgehasReview',\n",
       " 'src:Book,bookEdition,caption,contentSize,isbn,text,title|tarReview,rating,text,title|edgehasReview',\n",
       " 'src:Book,bookEdition,caption,contentSize,isbn,text,title|tarReview,rating,text,totalVotes|edgehasReview',\n",
       " 'src:Book,bookEdition,caption,contentSize,isbn,text,title|tarReview,rating,text|edgehasReview',\n",
       " 'src:Book,bookEdition,caption,contentSize,isbn,text,title|tarReview,rating,title,totalVotes|edgehasReview',\n",
       " 'src:Book,bookEdition,caption,contentSize,isbn,text,title|tarReview,rating,title|edgehasReview',\n",
       " 'src:Book,bookEdition,caption,contentSize,isbn,text,title|tarReview,rating,totalVotes|edgehasReview',\n",
       " 'src:Book,bookEdition,caption,contentSize,isbn,text,title|tarReview,rating|edgehasReview',\n",
       " 'src:Book,bookEdition,caption,contentSize,isbn,text,title|tarSubGenre|edgehasGenre',\n",
       " 'src:Book,bookEdition,caption,contentSize,isbn,text,title|tarTopic|edgetag',\n",
       " 'src:Book,bookEdition,caption,contentSize,isbn,text,title|tarUser,birthDate,familyName,userId|edgeauthor',\n",
       " 'src:Book,bookEdition,caption,contentSize,isbn,text,title|tarUser,email,givenName,jobTitle,userId|edgeauthor',\n",
       " 'src:Book,bookEdition,caption,contentSize,isbn,text,title|tarUser,familyName,givenName,jobTitle,userId|edgeeditor',\n",
       " 'src:Book,bookEdition,caption,contentSize,isbn,text,title|tarWebsite,hits,url|edgehomepage',\n",
       " 'src:Book,bookEdition,caption,contentSize,isbn,title|tarLanguage|edgelanguage',\n",
       " 'src:Book,bookEdition,caption,contentSize,isbn,title|tarReview,rating,text,title,totalVotes|edgehasReview',\n",
       " 'src:Book,bookEdition,caption,contentSize,isbn,title|tarReview,rating,text,title|edgehasReview',\n",
       " 'src:Book,bookEdition,caption,contentSize,isbn,title|tarReview,rating,text,totalVotes|edgehasReview',\n",
       " 'src:Book,bookEdition,caption,contentSize,isbn,title|tarReview,rating,text|edgehasReview',\n",
       " 'src:Book,bookEdition,caption,contentSize,isbn,title|tarReview,rating,title,totalVotes|edgehasReview',\n",
       " 'src:Book,bookEdition,caption,contentSize,isbn,title|tarReview,rating,title|edgehasReview',\n",
       " 'src:Book,bookEdition,caption,contentSize,isbn,title|tarReview,rating,totalVotes|edgehasReview',\n",
       " 'src:Book,bookEdition,caption,contentSize,isbn,title|tarReview,rating|edgehasReview',\n",
       " 'src:Book,bookEdition,caption,contentSize,isbn,title|tarSubGenre|edgehasGenre',\n",
       " 'src:Book,bookEdition,caption,contentSize,isbn,title|tarTopic|edgetag',\n",
       " 'src:Book,bookEdition,caption,contentSize,isbn,title|tarUser,birthDate,email,familyName,givenName,telephone,userId|edgeeditor',\n",
       " 'src:Book,bookEdition,caption,contentSize,isbn,title|tarUser,birthDate,email,familyName,jobTitle,telephone,userId|edgeauthor',\n",
       " 'src:Book,bookEdition,caption,contentSize,isbn,title|tarUser,birthDate,email,givenName,jobTitle,telephone,userId|edgeeditor',\n",
       " 'src:Book,bookEdition,caption,contentSize,isbn,title|tarUser,birthDate,familyName,jobTitle,telephone,userId|edgeauthor',\n",
       " 'src:Book,bookEdition,caption,contentSize,isbn,title|tarUser,birthDate,familyName,jobTitle,userId|edgeauthor',\n",
       " 'src:Book,bookEdition,caption,contentSize,isbn,title|tarUser,birthDate,familyName,telephone,userId|edgeauthor',\n",
       " 'src:Book,bookEdition,caption,contentSize,isbn,title|tarUser,birthDate,jobTitle,telephone,userId|edgeauthor',\n",
       " 'src:Book,bookEdition,caption,contentSize,isbn,title|tarUser,birthDate,telephone,userId|edgeeditor',\n",
       " 'src:Book,bookEdition,caption,contentSize,isbn,title|tarUser,email,familyName,givenName,telephone,userId|edgeauthor',\n",
       " 'src:Book,bookEdition,caption,contentSize,isbn,title|tarUser,email,familyName,givenName,userId|edgeeditor',\n",
       " 'src:Book,bookEdition,caption,contentSize,isbn,title|tarUser,email,familyName,jobTitle,telephone,userId|edgeauthor',\n",
       " 'src:Book,bookEdition,caption,contentSize,isbn,title|tarUser,email,familyName,telephone,userId|edgeeditor',\n",
       " 'src:Book,bookEdition,caption,contentSize,isbn,title|tarUser,email,jobTitle,telephone,userId|edgeeditor',\n",
       " 'src:Book,bookEdition,caption,contentSize,isbn,title|tarUser,familyName,givenName,jobTitle,telephone,userId|edgeauthor',\n",
       " 'src:Book,bookEdition,caption,contentSize,isbn,title|tarUser,familyName,givenName,telephone,userId|edgeeditor',\n",
       " 'src:Book,bookEdition,caption,contentSize,isbn,title|tarWebsite,hits,url|edgehomepage',\n",
       " 'src:Book,bookEdition,caption,description,expires,isbn,keywords,numberOfPages,title|tarLanguage|edgelanguage',\n",
       " 'src:Book,bookEdition,caption,description,expires,isbn,keywords,numberOfPages,title|tarReview,rating,text,title,totalVotes|edgehasReview',\n",
       " 'src:Book,bookEdition,caption,description,expires,isbn,keywords,numberOfPages,title|tarReview,rating,text,title|edgehasReview',\n",
       " 'src:Book,bookEdition,caption,description,expires,isbn,keywords,numberOfPages,title|tarReview,rating,text,totalVotes|edgehasReview',\n",
       " 'src:Book,bookEdition,caption,description,expires,isbn,keywords,numberOfPages,title|tarReview,rating,text|edgehasReview',\n",
       " 'src:Book,bookEdition,caption,description,expires,isbn,keywords,numberOfPages,title|tarReview,rating,title,totalVotes|edgehasReview',\n",
       " 'src:Book,bookEdition,caption,description,expires,isbn,keywords,numberOfPages,title|tarReview,rating,title|edgehasReview',\n",
       " 'src:Book,bookEdition,caption,description,expires,isbn,keywords,numberOfPages,title|tarReview,rating,totalVotes|edgehasReview',\n",
       " 'src:Book,bookEdition,caption,description,expires,isbn,keywords,numberOfPages,title|tarReview,rating|edgehasReview',\n",
       " 'src:Book,bookEdition,caption,description,expires,isbn,keywords,numberOfPages,title|tarSubGenre|edgehasGenre',\n",
       " 'src:Book,bookEdition,caption,description,expires,isbn,keywords,numberOfPages,title|tarTopic|edgetag',\n",
       " 'src:Book,bookEdition,caption,description,expires,isbn,keywords,numberOfPages,title|tarUser,birthDate,email,familyName,givenName,telephone,userId|edgeauthor',\n",
       " 'src:Book,bookEdition,caption,description,expires,isbn,keywords,numberOfPages,title|tarUser,birthDate,email,givenName,userId|edgeeditor',\n",
       " 'src:Book,bookEdition,caption,description,expires,isbn,keywords,numberOfPages,title|tarUser,birthDate,familyName,givenName,jobTitle,telephone,userId|edgeeditor',\n",
       " 'src:Book,bookEdition,caption,description,expires,isbn,keywords,numberOfPages,title|tarUser,email,familyName,telephone,userId|edgeauthor',\n",
       " 'src:Book,bookEdition,caption,description,expires,isbn,keywords,numberOfPages,title|tarUser,familyName,givenName,userId|edgeauthor',\n",
       " 'src:Book,bookEdition,caption,description,expires,isbn,keywords,numberOfPages,title|tarWebsite,hits,url|edgehomepage',\n",
       " 'src:Book,bookEdition,caption,description,expires,isbn,keywords,text,title|tarReview,rating,text,title,totalVotes|edgehasReview',\n",
       " 'src:Book,bookEdition,caption,description,expires,isbn,keywords,text,title|tarReview,rating,text,title|edgehasReview',\n",
       " 'src:Book,bookEdition,caption,description,expires,isbn,keywords,text,title|tarReview,rating,text,totalVotes|edgehasReview',\n",
       " 'src:Book,bookEdition,caption,description,expires,isbn,keywords,text,title|tarReview,rating,text|edgehasReview',\n",
       " 'src:Book,bookEdition,caption,description,expires,isbn,keywords,text,title|tarReview,rating,title,totalVotes|edgehasReview',\n",
       " 'src:Book,bookEdition,caption,description,expires,isbn,keywords,text,title|tarReview,rating,title|edgehasReview',\n",
       " 'src:Book,bookEdition,caption,description,expires,isbn,keywords,text,title|tarReview,rating,totalVotes|edgehasReview',\n",
       " 'src:Book,bookEdition,caption,description,expires,isbn,keywords,text,title|tarReview,rating|edgehasReview',\n",
       " 'src:Book,bookEdition,caption,description,expires,isbn,keywords,text,title|tarReview,text,title,totalVotes|edgehasReview',\n",
       " 'src:Book,bookEdition,caption,description,expires,isbn,keywords,text,title|tarSubGenre|edgehasGenre',\n",
       " 'src:Book,bookEdition,caption,description,expires,isbn,keywords,text,title|tarTopic|edgetag',\n",
       " 'src:Book,bookEdition,caption,description,expires,isbn,keywords,text,title|tarUser,birthDate,email,familyName,jobTitle,userId|edgeeditor',\n",
       " 'src:Book,bookEdition,caption,description,expires,isbn,keywords,text,title|tarUser,birthDate,email,givenName,userId|edgeeditor',\n",
       " 'src:Book,bookEdition,caption,description,expires,isbn,keywords,text,title|tarUser,birthDate,email,jobTitle,telephone,userId|edgeeditor',\n",
       " 'src:Book,bookEdition,caption,description,expires,isbn,keywords,text,title|tarUser,birthDate,email,jobTitle,userId|edgeauthor',\n",
       " 'src:Book,bookEdition,caption,description,expires,isbn,keywords,text,title|tarUser,birthDate,givenName,jobTitle,userId|edgeeditor',\n",
       " 'src:Book,bookEdition,caption,description,expires,isbn,keywords,text,title|tarUser,birthDate,givenName,userId|edgeauthor',\n",
       " 'src:Book,bookEdition,caption,description,expires,isbn,keywords,text,title|tarUser,birthDate,jobTitle,telephone,userId|edgeeditor',\n",
       " 'src:Book,bookEdition,caption,description,expires,isbn,keywords,text,title|tarUser,email,familyName,jobTitle,telephone,userId|edgeeditor',\n",
       " 'src:Book,bookEdition,caption,description,expires,isbn,keywords,text,title|tarUser,email,givenName,telephone,userId|edgeeditor',\n",
       " 'src:Book,bookEdition,caption,description,expires,isbn,keywords,text,title|tarUser,email,givenName,userId|edgeauthor',\n",
       " 'src:Book,bookEdition,caption,description,expires,isbn,keywords,text,title|tarUser,familyName,givenName,jobTitle,telephone,userId|edgeeditor',\n",
       " 'src:Book,bookEdition,caption,description,expires,isbn,keywords,text,title|tarUser,familyName,telephone,userId|edgeauthor',\n",
       " 'src:Book,bookEdition,caption,description,expires,isbn,keywords,text,title|tarUser,jobTitle,telephone,userId|edgeauthor',\n",
       " 'src:Book,bookEdition,caption,description,expires,isbn,keywords,text,title|tarWebsite,hits,url|edgehomepage',\n",
       " 'src:Book,bookEdition,caption,description,expires,isbn,keywords,title|tarReview,rating,text,title,totalVotes|edgehasReview',\n",
       " 'src:Book,bookEdition,caption,description,expires,isbn,keywords,title|tarReview,rating,text,title|edgehasReview',\n",
       " 'src:Book,bookEdition,caption,description,expires,isbn,keywords,title|tarReview,rating,text,totalVotes|edgehasReview',\n",
       " 'src:Book,bookEdition,caption,description,expires,isbn,keywords,title|tarReview,rating,text|edgehasReview',\n",
       " 'src:Book,bookEdition,caption,description,expires,isbn,keywords,title|tarReview,rating,title,totalVotes|edgehasReview',\n",
       " 'src:Book,bookEdition,caption,description,expires,isbn,keywords,title|tarReview,rating,title|edgehasReview',\n",
       " 'src:Book,bookEdition,caption,description,expires,isbn,keywords,title|tarReview,rating,totalVotes|edgehasReview',\n",
       " 'src:Book,bookEdition,caption,description,expires,isbn,keywords,title|tarReview,rating|edgehasReview',\n",
       " 'src:Book,bookEdition,caption,description,expires,isbn,keywords,title|tarSubGenre|edgehasGenre',\n",
       " 'src:Book,bookEdition,caption,description,expires,isbn,keywords,title|tarTopic|edgetag',\n",
       " 'src:Book,bookEdition,caption,description,expires,isbn,keywords,title|tarUser,birthDate,email,jobTitle,userId|edgeauthor',\n",
       " 'src:Book,bookEdition,caption,description,expires,isbn,keywords,title|tarUser,birthDate,familyName,jobTitle,telephone,userId|edgeauthor',\n",
       " 'src:Book,bookEdition,caption,description,expires,isbn,keywords,title|tarUser,birthDate,familyName,jobTitle,telephone,userId|edgeeditor',\n",
       " 'src:Book,bookEdition,caption,description,expires,isbn,keywords,title|tarUser,birthDate,givenName,telephone,userId|edgeeditor',\n",
       " 'src:Book,bookEdition,caption,description,expires,isbn,keywords,title|tarUser,birthDate,userId|edgeeditor',\n",
       " 'src:Book,bookEdition,caption,description,expires,isbn,keywords,title|tarUser,email,jobTitle,telephone,userId|edgeeditor',\n",
       " 'src:Book,bookEdition,caption,description,expires,isbn,keywords,title|tarUser,familyName,givenName,telephone,userId|edgeauthor',\n",
       " 'src:Book,bookEdition,caption,description,expires,isbn,keywords,title|tarUser,familyName,telephone,userId|edgeeditor',\n",
       " 'src:Book,bookEdition,caption,description,expires,isbn,keywords,title|tarUser,familyName,userId|edgeauthor',\n",
       " 'src:Book,bookEdition,caption,description,expires,isbn,keywords,title|tarWebsite,hits,url|edgehomepage',\n",
       " 'src:Book,bookEdition,caption,description,expires,isbn,numberOfPages,title|tarReview,rating,text,title,totalVotes|edgehasReview',\n",
       " 'src:Book,bookEdition,caption,description,expires,isbn,numberOfPages,title|tarReview,rating,text,title|edgehasReview',\n",
       " 'src:Book,bookEdition,caption,description,expires,isbn,numberOfPages,title|tarReview,rating,text,totalVotes|edgehasReview',\n",
       " 'src:Book,bookEdition,caption,description,expires,isbn,numberOfPages,title|tarReview,rating,text|edgehasReview',\n",
       " 'src:Book,bookEdition,caption,description,expires,isbn,numberOfPages,title|tarReview,rating,title,totalVotes|edgehasReview',\n",
       " 'src:Book,bookEdition,caption,description,expires,isbn,numberOfPages,title|tarReview,rating,title|edgehasReview',\n",
       " 'src:Book,bookEdition,caption,description,expires,isbn,numberOfPages,title|tarReview,rating,totalVotes|edgehasReview',\n",
       " 'src:Book,bookEdition,caption,description,expires,isbn,numberOfPages,title|tarReview,rating|edgehasReview',\n",
       " 'src:Book,bookEdition,caption,description,expires,isbn,numberOfPages,title|tarReview,text,totalVotes|edgehasReview',\n",
       " 'src:Book,bookEdition,caption,description,expires,isbn,numberOfPages,title|tarSubGenre|edgehasGenre',\n",
       " 'src:Book,bookEdition,caption,description,expires,isbn,numberOfPages,title|tarTopic|edgetag',\n",
       " 'src:Book,bookEdition,caption,description,expires,isbn,numberOfPages,title|tarUser,birthDate,email,familyName,jobTitle,userId|edgeeditor',\n",
       " 'src:Book,bookEdition,caption,description,expires,isbn,numberOfPages,title|tarUser,birthDate,email,familyName,telephone,userId|edgeeditor',\n",
       " 'src:Book,bookEdition,caption,description,expires,isbn,numberOfPages,title|tarUser,birthDate,email,givenName,userId|edgeauthor',\n",
       " 'src:Book,bookEdition,caption,description,expires,isbn,numberOfPages,title|tarUser,birthDate,email,jobTitle,userId|edgeauthor',\n",
       " 'src:Book,bookEdition,caption,description,expires,isbn,numberOfPages,title|tarUser,birthDate,jobTitle,userId|edgeauthor',\n",
       " 'src:Book,bookEdition,caption,description,expires,isbn,numberOfPages,title|tarWebsite,hits,url|edgehomepage',\n",
       " 'src:Book,bookEdition,caption,description,expires,isbn,text,title|tarLanguage|edgelanguage',\n",
       " 'src:Book,bookEdition,caption,description,expires,isbn,text,title|tarReview,rating,text,title,totalVotes|edgehasReview',\n",
       " 'src:Book,bookEdition,caption,description,expires,isbn,text,title|tarReview,rating,text,title|edgehasReview',\n",
       " 'src:Book,bookEdition,caption,description,expires,isbn,text,title|tarReview,rating,text,totalVotes|edgehasReview',\n",
       " 'src:Book,bookEdition,caption,description,expires,isbn,text,title|tarReview,rating,text|edgehasReview',\n",
       " 'src:Book,bookEdition,caption,description,expires,isbn,text,title|tarReview,rating,title,totalVotes|edgehasReview',\n",
       " 'src:Book,bookEdition,caption,description,expires,isbn,text,title|tarReview,rating,title|edgehasReview',\n",
       " 'src:Book,bookEdition,caption,description,expires,isbn,text,title|tarReview,rating,totalVotes|edgehasReview',\n",
       " 'src:Book,bookEdition,caption,description,expires,isbn,text,title|tarReview,rating|edgehasReview',\n",
       " 'src:Book,bookEdition,caption,description,expires,isbn,text,title|tarSubGenre|edgehasGenre',\n",
       " 'src:Book,bookEdition,caption,description,expires,isbn,text,title|tarTopic|edgetag',\n",
       " 'src:Book,bookEdition,caption,description,expires,isbn,text,title|tarUser,birthDate,email,familyName,givenName,userId|edgeeditor',\n",
       " 'src:Book,bookEdition,caption,description,expires,isbn,text,title|tarUser,birthDate,email,familyName,jobTitle,telephone,userId|edgeeditor',\n",
       " 'src:Book,bookEdition,caption,description,expires,isbn,text,title|tarUser,birthDate,email,familyName,jobTitle,userId|edgeauthor',\n",
       " 'src:Book,bookEdition,caption,description,expires,isbn,text,title|tarUser,birthDate,email,familyName,userId|edgeauthor',\n",
       " 'src:Book,bookEdition,caption,description,expires,isbn,text,title|tarUser,birthDate,email,familyName,userId|edgeeditor',\n",
       " 'src:Book,bookEdition,caption,description,expires,isbn,text,title|tarUser,birthDate,email,givenName,jobTitle,telephone,userId|edgeeditor',\n",
       " 'src:Book,bookEdition,caption,description,expires,isbn,text,title|tarUser,birthDate,familyName,givenName,userId|edgeeditor',\n",
       " 'src:Book,bookEdition,caption,description,expires,isbn,text,title|tarUser,birthDate,familyName,jobTitle,telephone,userId|edgeauthor',\n",
       " 'src:Book,bookEdition,caption,description,expires,isbn,text,title|tarUser,birthDate,givenName,jobTitle,telephone,userId|edgeauthor',\n",
       " 'src:Book,bookEdition,caption,description,expires,isbn,text,title|tarUser,birthDate,jobTitle,userId|edgeeditor',\n",
       " 'src:Book,bookEdition,caption,description,expires,isbn,text,title|tarUser,birthDate,telephone,userId|edgeauthor',\n",
       " 'src:Book,bookEdition,caption,description,expires,isbn,text,title|tarUser,birthDate,telephone,userId|edgeeditor',\n",
       " 'src:Book,bookEdition,caption,description,expires,isbn,text,title|tarUser,birthDate,userId|edgeeditor',\n",
       " 'src:Book,bookEdition,caption,description,expires,isbn,text,title|tarUser,email,familyName,givenName,jobTitle,userId|edgeauthor',\n",
       " 'src:Book,bookEdition,caption,description,expires,isbn,text,title|tarUser,email,familyName,userId|edgeauthor',\n",
       " 'src:Book,bookEdition,caption,description,expires,isbn,text,title|tarUser,email,givenName,telephone,userId|edgeeditor',\n",
       " 'src:Book,bookEdition,caption,description,expires,isbn,text,title|tarUser,email,telephone,userId|edgeeditor',\n",
       " 'src:Book,bookEdition,caption,description,expires,isbn,text,title|tarUser,familyName,givenName,telephone,userId|edgeauthor',\n",
       " 'src:Book,bookEdition,caption,description,expires,isbn,text,title|tarUser,familyName,givenName,telephone,userId|edgeeditor',\n",
       " 'src:Book,bookEdition,caption,description,expires,isbn,text,title|tarUser,familyName,givenName,userId|edgeeditor',\n",
       " 'src:Book,bookEdition,caption,description,expires,isbn,text,title|tarUser,familyName,telephone,userId|edgeauthor',\n",
       " 'src:Book,bookEdition,caption,description,expires,isbn,text,title|tarUser,familyName,telephone,userId|edgeeditor',\n",
       " 'src:Book,bookEdition,caption,description,expires,isbn,text,title|tarUser,givenName,jobTitle,userId|edgeauthor',\n",
       " 'src:Book,bookEdition,caption,description,expires,isbn,text,title|tarUser,givenName,telephone,userId|edgeauthor',\n",
       " 'src:Book,bookEdition,caption,description,expires,isbn,text,title|tarUser,givenName,userId|edgeauthor',\n",
       " 'src:Book,bookEdition,caption,description,expires,isbn,text,title|tarUser,jobTitle,telephone,userId|edgeauthor',\n",
       " 'src:Book,bookEdition,caption,description,expires,isbn,text,title|tarWebsite,hits,url|edgehomepage',\n",
       " 'src:Book,bookEdition,caption,description,expires,isbn,title|tarReview,rating,text,title,totalVotes|edgehasReview',\n",
       " 'src:Book,bookEdition,caption,description,expires,isbn,title|tarReview,rating,text,title|edgehasReview',\n",
       " 'src:Book,bookEdition,caption,description,expires,isbn,title|tarReview,rating,text,totalVotes|edgehasReview',\n",
       " 'src:Book,bookEdition,caption,description,expires,isbn,title|tarReview,rating,text|edgehasReview',\n",
       " 'src:Book,bookEdition,caption,description,expires,isbn,title|tarReview,rating,title,totalVotes|edgehasReview',\n",
       " 'src:Book,bookEdition,caption,description,expires,isbn,title|tarReview,rating,title|edgehasReview',\n",
       " 'src:Book,bookEdition,caption,description,expires,isbn,title|tarReview,rating,totalVotes|edgehasReview',\n",
       " 'src:Book,bookEdition,caption,description,expires,isbn,title|tarReview,rating|edgehasReview',\n",
       " 'src:Book,bookEdition,caption,description,expires,isbn,title|tarSubGenre|edgehasGenre',\n",
       " 'src:Book,bookEdition,caption,description,expires,isbn,title|tarTopic|edgetag',\n",
       " 'src:Book,bookEdition,caption,description,expires,isbn,title|tarUser,birthDate,email,familyName,givenName,jobTitle,telephone,userId|edgeeditor',\n",
       " 'src:Book,bookEdition,caption,description,expires,isbn,title|tarUser,birthDate,email,givenName,telephone,userId|edgeeditor',\n",
       " 'src:Book,bookEdition,caption,description,expires,isbn,title|tarUser,birthDate,email,jobTitle,telephone,userId|edgeeditor',\n",
       " 'src:Book,bookEdition,caption,description,expires,isbn,title|tarUser,birthDate,familyName,jobTitle,userId|edgeeditor',\n",
       " 'src:Book,bookEdition,caption,description,expires,isbn,title|tarUser,birthDate,jobTitle,telephone,userId|edgeauthor',\n",
       " 'src:Book,bookEdition,caption,description,expires,isbn,title|tarUser,email,jobTitle,telephone,userId|edgeauthor',\n",
       " 'src:Book,bookEdition,caption,description,expires,isbn,title|tarUser,familyName,givenName,jobTitle,userId|edgeauthor',\n",
       " 'src:Book,bookEdition,caption,description,expires,isbn,title|tarWebsite,hits,url|edgehomepage',\n",
       " 'src:Book,bookEdition,caption,description,isbn,keywords,numberOfPages,title|tarReview,rating,text,title,totalVotes|edgehasReview',\n",
       " 'src:Book,bookEdition,caption,description,isbn,keywords,numberOfPages,title|tarReview,rating,text,title|edgehasReview',\n",
       " 'src:Book,bookEdition,caption,description,isbn,keywords,numberOfPages,title|tarReview,rating,text,totalVotes|edgehasReview',\n",
       " 'src:Book,bookEdition,caption,description,isbn,keywords,numberOfPages,title|tarReview,rating,text|edgehasReview',\n",
       " 'src:Book,bookEdition,caption,description,isbn,keywords,numberOfPages,title|tarReview,rating,title,totalVotes|edgehasReview',\n",
       " 'src:Book,bookEdition,caption,description,isbn,keywords,numberOfPages,title|tarReview,rating,title|edgehasReview',\n",
       " 'src:Book,bookEdition,caption,description,isbn,keywords,numberOfPages,title|tarReview,rating,totalVotes|edgehasReview',\n",
       " 'src:Book,bookEdition,caption,description,isbn,keywords,numberOfPages,title|tarReview,rating|edgehasReview',\n",
       " 'src:Book,bookEdition,caption,description,isbn,keywords,numberOfPages,title|tarSubGenre|edgehasGenre',\n",
       " 'src:Book,bookEdition,caption,description,isbn,keywords,numberOfPages,title|tarTopic|edgetag',\n",
       " 'src:Book,bookEdition,caption,description,isbn,keywords,numberOfPages,title|tarUser,birthDate,email,familyName,userId|edgeeditor',\n",
       " 'src:Book,bookEdition,caption,description,isbn,keywords,numberOfPages,title|tarUser,birthDate,email,givenName,jobTitle,userId|edgeeditor',\n",
       " 'src:Book,bookEdition,caption,description,isbn,keywords,numberOfPages,title|tarUser,birthDate,familyName,userId|edgeauthor',\n",
       " 'src:Book,bookEdition,caption,description,isbn,keywords,numberOfPages,title|tarUser,birthDate,telephone,userId|edgeeditor',\n",
       " 'src:Book,bookEdition,caption,description,isbn,keywords,numberOfPages,title|tarUser,email,familyName,givenName,userId|edgeauthor',\n",
       " 'src:Book,bookEdition,caption,description,isbn,keywords,numberOfPages,title|tarUser,email,familyName,jobTitle,userId|edgeauthor',\n",
       " 'src:Book,bookEdition,caption,description,isbn,keywords,numberOfPages,title|tarUser,email,familyName,userId|edgeauthor',\n",
       " 'src:Book,bookEdition,caption,description,isbn,keywords,numberOfPages,title|tarUser,email,givenName,jobTitle,userId|edgeeditor',\n",
       " 'src:Book,bookEdition,caption,description,isbn,keywords,numberOfPages,title|tarUser,email,jobTitle,telephone,userId|edgeeditor',\n",
       " 'src:Book,bookEdition,caption,description,isbn,keywords,numberOfPages,title|tarUser,familyName,givenName,telephone,userId|edgeeditor',\n",
       " 'src:Book,bookEdition,caption,description,isbn,keywords,numberOfPages,title|tarUser,jobTitle,userId|edgeauthor',\n",
       " 'src:Book,bookEdition,caption,description,isbn,keywords,numberOfPages,title|tarWebsite,hits,url|edgehomepage',\n",
       " 'src:Book,bookEdition,caption,description,isbn,keywords,title|tarLanguage|edgelanguage',\n",
       " 'src:Book,bookEdition,caption,description,isbn,keywords,title|tarReview,rating,text,title,totalVotes|edgehasReview',\n",
       " 'src:Book,bookEdition,caption,description,isbn,keywords,title|tarReview,rating,text,title|edgehasReview',\n",
       " 'src:Book,bookEdition,caption,description,isbn,keywords,title|tarReview,rating,text,totalVotes|edgehasReview',\n",
       " 'src:Book,bookEdition,caption,description,isbn,keywords,title|tarReview,rating,text|edgehasReview',\n",
       " 'src:Book,bookEdition,caption,description,isbn,keywords,title|tarReview,rating,title,totalVotes|edgehasReview',\n",
       " 'src:Book,bookEdition,caption,description,isbn,keywords,title|tarReview,rating,title|edgehasReview',\n",
       " 'src:Book,bookEdition,caption,description,isbn,keywords,title|tarReview,rating,totalVotes|edgehasReview',\n",
       " 'src:Book,bookEdition,caption,description,isbn,keywords,title|tarReview,rating|edgehasReview',\n",
       " 'src:Book,bookEdition,caption,description,isbn,keywords,title|tarSubGenre|edgehasGenre',\n",
       " 'src:Book,bookEdition,caption,description,isbn,keywords,title|tarTopic|edgetag',\n",
       " 'src:Book,bookEdition,caption,description,isbn,keywords,title|tarUser,birthDate,email,familyName,jobTitle,telephone,userId|edgeauthor',\n",
       " 'src:Book,bookEdition,caption,description,isbn,keywords,title|tarUser,birthDate,email,jobTitle,telephone,userId|edgeeditor',\n",
       " 'src:Book,bookEdition,caption,description,isbn,keywords,title|tarUser,familyName,givenName,jobTitle,userId|edgeeditor',\n",
       " 'src:Book,bookEdition,caption,description,isbn,keywords,title|tarUser,familyName,userId|edgeauthor',\n",
       " 'src:Book,bookEdition,caption,description,isbn,keywords,title|tarWebsite,hits,url|edgehomepage',\n",
       " 'src:Book,bookEdition,caption,description,isbn,numberOfPages,text,title|tarLanguage|edgelanguage',\n",
       " 'src:Book,bookEdition,caption,description,isbn,numberOfPages,text,title|tarReview,rating,text,title,totalVotes|edgehasReview',\n",
       " 'src:Book,bookEdition,caption,description,isbn,numberOfPages,text,title|tarReview,rating,text,title|edgehasReview',\n",
       " 'src:Book,bookEdition,caption,description,isbn,numberOfPages,text,title|tarReview,rating,text,totalVotes|edgehasReview',\n",
       " 'src:Book,bookEdition,caption,description,isbn,numberOfPages,text,title|tarReview,rating,text|edgehasReview',\n",
       " 'src:Book,bookEdition,caption,description,isbn,numberOfPages,text,title|tarReview,rating,title,totalVotes|edgehasReview',\n",
       " 'src:Book,bookEdition,caption,description,isbn,numberOfPages,text,title|tarReview,rating,title|edgehasReview',\n",
       " 'src:Book,bookEdition,caption,description,isbn,numberOfPages,text,title|tarReview,rating,totalVotes|edgehasReview',\n",
       " 'src:Book,bookEdition,caption,description,isbn,numberOfPages,text,title|tarReview,rating|edgehasReview',\n",
       " 'src:Book,bookEdition,caption,description,isbn,numberOfPages,text,title|tarReview,text,title,totalVotes|edgehasReview',\n",
       " 'src:Book,bookEdition,caption,description,isbn,numberOfPages,text,title|tarSubGenre|edgehasGenre',\n",
       " 'src:Book,bookEdition,caption,description,isbn,numberOfPages,text,title|tarTopic|edgetag',\n",
       " 'src:Book,bookEdition,caption,description,isbn,numberOfPages,text,title|tarUser,birthDate,email,familyName,jobTitle,userId|edgeeditor',\n",
       " 'src:Book,bookEdition,caption,description,isbn,numberOfPages,text,title|tarUser,birthDate,email,givenName,telephone,userId|edgeeditor',\n",
       " 'src:Book,bookEdition,caption,description,isbn,numberOfPages,text,title|tarUser,birthDate,email,givenName,userId|edgeeditor',\n",
       " 'src:Book,bookEdition,caption,description,isbn,numberOfPages,text,title|tarUser,birthDate,givenName,telephone,userId|edgeeditor',\n",
       " 'src:Book,bookEdition,caption,description,isbn,numberOfPages,text,title|tarUser,birthDate,givenName,userId|edgeeditor',\n",
       " 'src:Book,bookEdition,caption,description,isbn,numberOfPages,text,title|tarUser,birthDate,telephone,userId|edgeeditor',\n",
       " 'src:Book,bookEdition,caption,description,isbn,numberOfPages,text,title|tarUser,email,familyName,jobTitle,userId|edgeauthor',\n",
       " 'src:Book,bookEdition,caption,description,isbn,numberOfPages,text,title|tarUser,email,familyName,userId|edgeeditor',\n",
       " 'src:Book,bookEdition,caption,description,isbn,numberOfPages,text,title|tarUser,email,userId|edgeauthor',\n",
       " 'src:Book,bookEdition,caption,description,isbn,numberOfPages,text,title|tarUser,familyName,givenName,telephone,userId|edgeauthor',\n",
       " 'src:Book,bookEdition,caption,description,isbn,numberOfPages,text,title|tarUser,familyName,jobTitle,userId|edgeeditor',\n",
       " 'src:Book,bookEdition,caption,description,isbn,numberOfPages,text,title|tarUser,familyName,userId|edgeauthor',\n",
       " 'src:Book,bookEdition,caption,description,isbn,numberOfPages,text,title|tarUser,familyName,userId|edgeeditor',\n",
       " 'src:Book,bookEdition,caption,description,isbn,numberOfPages,text,title|tarUser,givenName,jobTitle,userId|edgeauthor',\n",
       " 'src:Book,bookEdition,caption,description,isbn,numberOfPages,text,title|tarUser,jobTitle,telephone,userId|edgeeditor',\n",
       " 'src:Book,bookEdition,caption,description,isbn,numberOfPages,text,title|tarWebsite,hits,url|edgehomepage',\n",
       " 'src:Book,bookEdition,caption,description,isbn,numberOfPages,title|tarReview,rating,text,title,totalVotes|edgehasReview',\n",
       " 'src:Book,bookEdition,caption,description,isbn,numberOfPages,title|tarReview,rating,text,title|edgehasReview',\n",
       " 'src:Book,bookEdition,caption,description,isbn,numberOfPages,title|tarReview,rating,text,totalVotes|edgehasReview',\n",
       " 'src:Book,bookEdition,caption,description,isbn,numberOfPages,title|tarReview,rating,text|edgehasReview',\n",
       " 'src:Book,bookEdition,caption,description,isbn,numberOfPages,title|tarReview,rating,title,totalVotes|edgehasReview',\n",
       " 'src:Book,bookEdition,caption,description,isbn,numberOfPages,title|tarReview,rating,title|edgehasReview',\n",
       " 'src:Book,bookEdition,caption,description,isbn,numberOfPages,title|tarReview,rating,totalVotes|edgehasReview',\n",
       " 'src:Book,bookEdition,caption,description,isbn,numberOfPages,title|tarReview,rating|edgehasReview',\n",
       " 'src:Book,bookEdition,caption,description,isbn,numberOfPages,title|tarSubGenre|edgehasGenre',\n",
       " 'src:Book,bookEdition,caption,description,isbn,numberOfPages,title|tarTopic|edgetag',\n",
       " 'src:Book,bookEdition,caption,description,isbn,numberOfPages,title|tarUser,birthDate,email,jobTitle,userId|edgeeditor',\n",
       " 'src:Book,bookEdition,caption,description,isbn,numberOfPages,title|tarUser,birthDate,familyName,givenName,jobTitle,telephone,userId|edgeauthor',\n",
       " 'src:Book,bookEdition,caption,description,isbn,numberOfPages,title|tarUser,birthDate,telephone,userId|edgeauthor',\n",
       " 'src:Book,bookEdition,caption,description,isbn,numberOfPages,title|tarUser,birthDate,telephone,userId|edgeeditor',\n",
       " 'src:Book,bookEdition,caption,description,isbn,numberOfPages,title|tarUser,email,familyName,userId|edgeeditor',\n",
       " 'src:Book,bookEdition,caption,description,isbn,numberOfPages,title|tarUser,familyName,userId|edgeauthor',\n",
       " 'src:Book,bookEdition,caption,description,isbn,numberOfPages,title|tarUser,givenName,telephone,userId|edgeeditor',\n",
       " 'src:Book,bookEdition,caption,description,isbn,numberOfPages,title|tarUser,jobTitle,telephone,userId|edgeauthor',\n",
       " 'src:Book,bookEdition,caption,description,isbn,numberOfPages,title|tarWebsite,hits,url|edgehomepage',\n",
       " 'src:Book,bookEdition,caption,expires,isbn,keywords,text,title|tarLanguage|edgelanguage',\n",
       " 'src:Book,bookEdition,caption,expires,isbn,keywords,text,title|tarReview,rating,text,title,totalVotes|edgehasReview',\n",
       " 'src:Book,bookEdition,caption,expires,isbn,keywords,text,title|tarReview,rating,text,title|edgehasReview',\n",
       " 'src:Book,bookEdition,caption,expires,isbn,keywords,text,title|tarReview,rating,text,totalVotes|edgehasReview',\n",
       " 'src:Book,bookEdition,caption,expires,isbn,keywords,text,title|tarReview,rating,text|edgehasReview',\n",
       " 'src:Book,bookEdition,caption,expires,isbn,keywords,text,title|tarReview,rating,title,totalVotes|edgehasReview',\n",
       " 'src:Book,bookEdition,caption,expires,isbn,keywords,text,title|tarReview,rating,title|edgehasReview',\n",
       " 'src:Book,bookEdition,caption,expires,isbn,keywords,text,title|tarReview,rating,totalVotes|edgehasReview',\n",
       " 'src:Book,bookEdition,caption,expires,isbn,keywords,text,title|tarReview,rating|edgehasReview',\n",
       " 'src:Book,bookEdition,caption,expires,isbn,keywords,text,title|tarSubGenre|edgehasGenre',\n",
       " 'src:Book,bookEdition,caption,expires,isbn,keywords,text,title|tarTopic|edgetag',\n",
       " 'src:Book,bookEdition,caption,expires,isbn,keywords,text,title|tarUser,birthDate,email,jobTitle,telephone,userId|edgeauthor',\n",
       " 'src:Book,bookEdition,caption,expires,isbn,keywords,text,title|tarUser,birthDate,familyName,givenName,jobTitle,telephone,userId|edgeeditor',\n",
       " 'src:Book,bookEdition,caption,expires,isbn,keywords,text,title|tarUser,birthDate,familyName,givenName,telephone,userId|edgeeditor',\n",
       " 'src:Book,bookEdition,caption,expires,isbn,keywords,text,title|tarUser,birthDate,givenName,telephone,userId|edgeauthor',\n",
       " 'src:Book,bookEdition,caption,expires,isbn,keywords,text,title|tarUser,birthDate,jobTitle,telephone,userId|edgeauthor',\n",
       " 'src:Book,bookEdition,caption,expires,isbn,keywords,text,title|tarUser,birthDate,telephone,userId|edgeeditor',\n",
       " 'src:Book,bookEdition,caption,expires,isbn,keywords,text,title|tarUser,email,givenName,jobTitle,telephone,userId|edgeauthor',\n",
       " 'src:Book,bookEdition,caption,expires,isbn,keywords,text,title|tarUser,email,userId|edgeauthor',\n",
       " 'src:Book,bookEdition,caption,expires,isbn,keywords,text,title|tarUser,jobTitle,telephone,userId|edgeeditor',\n",
       " 'src:Book,bookEdition,caption,expires,isbn,keywords,text,title|tarWebsite,hits,url|edgehomepage',\n",
       " 'src:Book,bookEdition,caption,expires,isbn,numberOfPages,text,title|tarReview,rating,text,title,totalVotes|edgehasReview',\n",
       " 'src:Book,bookEdition,caption,expires,isbn,numberOfPages,text,title|tarReview,rating,text,title|edgehasReview',\n",
       " 'src:Book,bookEdition,caption,expires,isbn,numberOfPages,text,title|tarReview,rating,text,totalVotes|edgehasReview',\n",
       " 'src:Book,bookEdition,caption,expires,isbn,numberOfPages,text,title|tarReview,rating,text|edgehasReview',\n",
       " 'src:Book,bookEdition,caption,expires,isbn,numberOfPages,text,title|tarReview,rating,title,totalVotes|edgehasReview',\n",
       " 'src:Book,bookEdition,caption,expires,isbn,numberOfPages,text,title|tarReview,rating,title|edgehasReview',\n",
       " 'src:Book,bookEdition,caption,expires,isbn,numberOfPages,text,title|tarReview,rating,totalVotes|edgehasReview',\n",
       " 'src:Book,bookEdition,caption,expires,isbn,numberOfPages,text,title|tarReview,rating|edgehasReview',\n",
       " 'src:Book,bookEdition,caption,expires,isbn,numberOfPages,text,title|tarSubGenre|edgehasGenre',\n",
       " 'src:Book,bookEdition,caption,expires,isbn,numberOfPages,text,title|tarTopic|edgetag',\n",
       " 'src:Book,bookEdition,caption,expires,isbn,numberOfPages,text,title|tarUser,birthDate,email,familyName,givenName,jobTitle,userId|edgeauthor',\n",
       " 'src:Book,bookEdition,caption,expires,isbn,numberOfPages,text,title|tarUser,birthDate,email,familyName,telephone,userId|edgeauthor',\n",
       " 'src:Book,bookEdition,caption,expires,isbn,numberOfPages,text,title|tarUser,birthDate,email,givenName,jobTitle,telephone,userId|edgeeditor',\n",
       " 'src:Book,bookEdition,caption,expires,isbn,numberOfPages,text,title|tarUser,birthDate,email,givenName,jobTitle,userId|edgeeditor',\n",
       " 'src:Book,bookEdition,caption,expires,isbn,numberOfPages,text,title|tarUser,birthDate,familyName,givenName,telephone,userId|edgeauthor',\n",
       " 'src:Book,bookEdition,caption,expires,isbn,numberOfPages,text,title|tarUser,birthDate,familyName,givenName,userId|edgeeditor',\n",
       " 'src:Book,bookEdition,caption,expires,isbn,numberOfPages,text,title|tarUser,birthDate,familyName,jobTitle,userId|edgeauthor',\n",
       " 'src:Book,bookEdition,caption,expires,isbn,numberOfPages,text,title|tarUser,birthDate,familyName,jobTitle,userId|edgeeditor',\n",
       " 'src:Book,bookEdition,caption,expires,isbn,numberOfPages,text,title|tarUser,email,familyName,jobTitle,telephone,userId|edgeauthor',\n",
       " 'src:Book,bookEdition,caption,expires,isbn,numberOfPages,text,title|tarUser,email,familyName,userId|edgeeditor',\n",
       " 'src:Book,bookEdition,caption,expires,isbn,numberOfPages,text,title|tarUser,email,jobTitle,telephone,userId|edgeauthor',\n",
       " 'src:Book,bookEdition,caption,expires,isbn,numberOfPages,text,title|tarUser,email,jobTitle,telephone,userId|edgeeditor',\n",
       " 'src:Book,bookEdition,caption,expires,isbn,numberOfPages,text,title|tarUser,familyName,userId|edgeeditor',\n",
       " 'src:Book,bookEdition,caption,expires,isbn,numberOfPages,text,title|tarUser,givenName,jobTitle,userId|edgeeditor',\n",
       " 'src:Book,bookEdition,caption,expires,isbn,numberOfPages,text,title|tarUser,givenName,userId|edgeauthor',\n",
       " 'src:Book,bookEdition,caption,expires,isbn,numberOfPages,text,title|tarWebsite,hits,url|edgehomepage',\n",
       " 'src:Book,bookEdition,caption,expires,isbn,text,title|tarReview,rating,text,title,totalVotes|edgehasReview',\n",
       " 'src:Book,bookEdition,caption,expires,isbn,text,title|tarReview,rating,text,title|edgehasReview',\n",
       " 'src:Book,bookEdition,caption,expires,isbn,text,title|tarReview,rating,text,totalVotes|edgehasReview',\n",
       " 'src:Book,bookEdition,caption,expires,isbn,text,title|tarReview,rating,text|edgehasReview',\n",
       " 'src:Book,bookEdition,caption,expires,isbn,text,title|tarReview,rating,title,totalVotes|edgehasReview',\n",
       " 'src:Book,bookEdition,caption,expires,isbn,text,title|tarReview,rating,title|edgehasReview',\n",
       " 'src:Book,bookEdition,caption,expires,isbn,text,title|tarReview,rating,totalVotes|edgehasReview',\n",
       " 'src:Book,bookEdition,caption,expires,isbn,text,title|tarReview,rating|edgehasReview',\n",
       " 'src:Book,bookEdition,caption,expires,isbn,text,title|tarSubGenre|edgehasGenre',\n",
       " 'src:Book,bookEdition,caption,expires,isbn,text,title|tarTopic|edgetag',\n",
       " 'src:Book,bookEdition,caption,expires,isbn,text,title|tarUser,birthDate,email,jobTitle,userId|edgeauthor',\n",
       " 'src:Book,bookEdition,caption,expires,isbn,text,title|tarUser,birthDate,givenName,userId|edgeauthor',\n",
       " 'src:Book,bookEdition,caption,expires,isbn,text,title|tarUser,birthDate,givenName,userId|edgeeditor',\n",
       " 'src:Book,bookEdition,caption,expires,isbn,text,title|tarUser,jobTitle,userId|edgeeditor',\n",
       " 'src:Book,bookEdition,caption,expires,isbn,text,title|tarWebsite,hits,url|edgehomepage',\n",
       " 'src:Book,bookEdition,caption,isbn,keywords,numberOfPages,text,title|tarLanguage|edgelanguage',\n",
       " 'src:Book,bookEdition,caption,isbn,keywords,numberOfPages,text,title|tarReview,rating,text,title,totalVotes|edgehasReview',\n",
       " 'src:Book,bookEdition,caption,isbn,keywords,numberOfPages,text,title|tarReview,rating,text,title|edgehasReview',\n",
       " 'src:Book,bookEdition,caption,isbn,keywords,numberOfPages,text,title|tarReview,rating,text,totalVotes|edgehasReview',\n",
       " 'src:Book,bookEdition,caption,isbn,keywords,numberOfPages,text,title|tarReview,rating,text|edgehasReview',\n",
       " 'src:Book,bookEdition,caption,isbn,keywords,numberOfPages,text,title|tarReview,rating,title,totalVotes|edgehasReview',\n",
       " 'src:Book,bookEdition,caption,isbn,keywords,numberOfPages,text,title|tarReview,rating,title|edgehasReview',\n",
       " 'src:Book,bookEdition,caption,isbn,keywords,numberOfPages,text,title|tarReview,rating,totalVotes|edgehasReview',\n",
       " 'src:Book,bookEdition,caption,isbn,keywords,numberOfPages,text,title|tarReview,rating|edgehasReview',\n",
       " 'src:Book,bookEdition,caption,isbn,keywords,numberOfPages,text,title|tarSubGenre|edgehasGenre',\n",
       " 'src:Book,bookEdition,caption,isbn,keywords,numberOfPages,text,title|tarTopic|edgetag',\n",
       " 'src:Book,bookEdition,caption,isbn,keywords,numberOfPages,text,title|tarUser,birthDate,familyName,userId|edgeauthor',\n",
       " 'src:Book,bookEdition,caption,isbn,keywords,numberOfPages,text,title|tarUser,birthDate,givenName,jobTitle,telephone,userId|edgeauthor',\n",
       " 'src:Book,bookEdition,caption,isbn,keywords,numberOfPages,text,title|tarUser,familyName,givenName,jobTitle,userId|edgeauthor',\n",
       " 'src:Book,bookEdition,caption,isbn,keywords,numberOfPages,text,title|tarUser,givenName,userId|edgeauthor',\n",
       " 'src:Book,bookEdition,caption,isbn,keywords,numberOfPages,text,title|tarWebsite,hits,url|edgehomepage',\n",
       " 'src:Book,bookEdition,caption,isbn,keywords,title|tarReview,rating,text,title,totalVotes|edgehasReview',\n",
       " 'src:Book,bookEdition,caption,isbn,keywords,title|tarReview,rating,text,title|edgehasReview',\n",
       " 'src:Book,bookEdition,caption,isbn,keywords,title|tarReview,rating,text,totalVotes|edgehasReview',\n",
       " 'src:Book,bookEdition,caption,isbn,keywords,title|tarReview,rating,text|edgehasReview',\n",
       " 'src:Book,bookEdition,caption,isbn,keywords,title|tarReview,rating,title,totalVotes|edgehasReview',\n",
       " 'src:Book,bookEdition,caption,isbn,keywords,title|tarReview,rating,title|edgehasReview',\n",
       " 'src:Book,bookEdition,caption,isbn,keywords,title|tarReview,rating,totalVotes|edgehasReview',\n",
       " 'src:Book,bookEdition,caption,isbn,keywords,title|tarReview,rating|edgehasReview',\n",
       " 'src:Book,bookEdition,caption,isbn,keywords,title|tarSubGenre|edgehasGenre',\n",
       " 'src:Book,bookEdition,caption,isbn,keywords,title|tarTopic|edgetag',\n",
       " ...]"
      ]
     },
     "execution_count": 51,
     "metadata": {},
     "output_type": "execute_result"
    }
   ],
   "source": [
    "sorted(emap.keys())\n"
   ]
  },
  {
   "cell_type": "code",
   "execution_count": 52,
   "metadata": {},
   "outputs": [
    {
     "data": {
      "text/plain": [
       "<Schema.Schema at 0x37753ff0>"
      ]
     },
     "execution_count": 52,
     "metadata": {},
     "output_type": "execute_result"
    }
   ],
   "source": [
    "sc"
   ]
  },
  {
   "cell_type": "code",
   "execution_count": 53,
   "metadata": {},
   "outputs": [
    {
     "data": {
      "text/plain": [
       "1592"
      ]
     },
     "execution_count": 53,
     "metadata": {},
     "output_type": "execute_result"
    }
   ],
   "source": [
    "len(sc.nodetypeset)"
   ]
  },
  {
   "cell_type": "code",
   "execution_count": 54,
   "metadata": {},
   "outputs": [
    {
     "data": {
      "text/plain": [
       "6030"
      ]
     },
     "execution_count": 54,
     "metadata": {},
     "output_type": "execute_result"
    }
   ],
   "source": [
    "len(sc.edgetypeset)"
   ]
  },
  {
   "cell_type": "code",
   "execution_count": 57,
   "metadata": {},
   "outputs": [],
   "source": [
    "e = EdgeType(edge_dict_list[0])"
   ]
  },
  {
   "cell_type": "code",
   "execution_count": 59,
   "metadata": {},
   "outputs": [],
   "source": [
    "edgeTypeList = []\n",
    "for k in emap:\n",
    "    edgeTypeList.append(EdgeType(emap[k]))"
   ]
  },
  {
   "cell_type": "code",
   "execution_count": 64,
   "metadata": {},
   "outputs": [],
   "source": [
    "sc.edgetypeset.edgetypes = edgeTypeList"
   ]
  },
  {
   "cell_type": "code",
   "execution_count": 65,
   "metadata": {},
   "outputs": [],
   "source": [
    "sc.edgetypeset.numOfType = [1 for i in edgeTypeList]"
   ]
  },
  {
   "cell_type": "code",
   "execution_count": 66,
   "metadata": {},
   "outputs": [],
   "source": [
    "# with open('shop_attr_based_schema.pkl','wb') as f:\n",
    "#     pickle.dump(sc, f, -1)"
   ]
  },
  {
   "cell_type": "code",
   "execution_count": 67,
   "metadata": {},
   "outputs": [],
   "source": [
    "sc.mergeByLabelsSet()"
   ]
  },
  {
   "cell_type": "code",
   "execution_count": 69,
   "metadata": {},
   "outputs": [
    {
     "data": {
      "text/plain": [
       "(24, 73)"
      ]
     },
     "execution_count": 69,
     "metadata": {},
     "output_type": "execute_result"
    }
   ],
   "source": [
    "len(sc.nodetypeset),len(sc.edgetypeset)"
   ]
  },
  {
   "cell_type": "code",
   "execution_count": 92,
   "metadata": {},
   "outputs": [],
   "source": [
    "prop_set = set(props.key.unique())\n",
    "rel_set = set(rels.rel.unique())"
   ]
  },
  {
   "cell_type": "code",
   "execution_count": 87,
   "metadata": {},
   "outputs": [],
   "source": [
    "from lxml import etree\n",
    "xml_tree = etree.parse('shop_data/shop.xml')"
   ]
  },
  {
   "cell_type": "code",
   "execution_count": 89,
   "metadata": {},
   "outputs": [],
   "source": [
    "predicates = xml_tree.findall(\".//predicates/alias\")"
   ]
  },
  {
   "cell_type": "code",
   "execution_count": 91,
   "metadata": {},
   "outputs": [],
   "source": [
    "preds = []\n",
    "for i in predicates:\n",
    "    preds.append(i.text)"
   ]
  },
  {
   "cell_type": "code",
   "execution_count": 95,
   "metadata": {},
   "outputs": [
    {
     "data": {
      "text/plain": [
       "{'eligibleRegion'}"
      ]
     },
     "execution_count": 95,
     "metadata": {},
     "output_type": "execute_result"
    }
   ],
   "source": [
    "set(preds).difference(prop_set.union(rel_set))"
   ]
  },
  {
   "cell_type": "code",
   "execution_count": 96,
   "metadata": {},
   "outputs": [
    {
     "data": {
      "text/plain": [
       "30"
      ]
     },
     "execution_count": 96,
     "metadata": {},
     "output_type": "execute_result"
    }
   ],
   "source": [
    "len(rel_set)"
   ]
  },
  {
   "cell_type": "code",
   "execution_count": 99,
   "metadata": {},
   "outputs": [
    {
     "data": {
      "text/plain": [
       "(1592, 76786)"
      ]
     },
     "execution_count": 99,
     "metadata": {},
     "output_type": "execute_result"
    }
   ],
   "source": [
    "len(shop_sc.nodetypeset), len(shop_sc.edgetypeset)"
   ]
  },
  {
   "cell_type": "code",
   "execution_count": 101,
   "metadata": {},
   "outputs": [
    {
     "data": {
      "text/plain": [
       "76786"
      ]
     },
     "execution_count": 101,
     "metadata": {},
     "output_type": "execute_result"
    }
   ],
   "source": [
    "len(shop_sc.edgetypeset)"
   ]
  },
  {
   "cell_type": "code",
   "execution_count": 6,
   "metadata": {},
   "outputs": [
    {
     "ename": "ValueError",
     "evalue": "array is too big; `arr.size * arr.dtype.itemsize` is larger than the maximum possible size.",
     "output_type": "error",
     "traceback": [
      "\u001b[1;31m---------------------------------------------------------------------------\u001b[0m",
      "\u001b[1;31mValueError\u001b[0m                                Traceback (most recent call last)",
      "\u001b[1;32m<ipython-input-6-27923dbe09d7>\u001b[0m in \u001b[0;36m<module>\u001b[1;34m\u001b[0m\n\u001b[1;32m----> 1\u001b[1;33m \u001b[0ma\u001b[0m \u001b[1;33m=\u001b[0m \u001b[0mnp\u001b[0m\u001b[1;33m.\u001b[0m\u001b[0mzeros\u001b[0m\u001b[1;33m(\u001b[0m\u001b[0mshape\u001b[0m\u001b[1;33m=\u001b[0m\u001b[1;33m(\u001b[0m\u001b[1;36m76786\u001b[0m\u001b[1;33m,\u001b[0m\u001b[1;36m76786\u001b[0m\u001b[1;33m)\u001b[0m\u001b[1;33m)\u001b[0m\u001b[1;33m\u001b[0m\u001b[1;33m\u001b[0m\u001b[0m\n\u001b[0m",
      "\u001b[1;31mValueError\u001b[0m: array is too big; `arr.size * arr.dtype.itemsize` is larger than the maximum possible size."
     ]
    }
   ],
   "source": [
    "a = np.zeros(shape=(76786,76786))"
   ]
  },
  {
   "cell_type": "code",
   "execution_count": 7,
   "metadata": {},
   "outputs": [],
   "source": [
    "from scipy.sparse import csr_matrix\n",
    "a = csr_matrix((76786,76786))"
   ]
  },
  {
   "cell_type": "code",
   "execution_count": null,
   "metadata": {},
   "outputs": [],
   "source": []
  }
 ],
 "metadata": {
  "kernelspec": {
   "display_name": "Python 3",
   "language": "python",
   "name": "python3"
  },
  "language_info": {
   "codemirror_mode": {
    "name": "ipython",
    "version": 3
   },
   "file_extension": ".py",
   "mimetype": "text/x-python",
   "name": "python",
   "nbconvert_exporter": "python",
   "pygments_lexer": "ipython3",
   "version": "3.7.2"
  }
 },
 "nbformat": 4,
 "nbformat_minor": 4
}
