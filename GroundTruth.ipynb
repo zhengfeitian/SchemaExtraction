{
 "cells": [
  {
   "cell_type": "code",
   "execution_count": 1,
   "metadata": {},
   "outputs": [],
   "source": [
    "from Schema import *\n",
    "from ElementType import *\n",
    "from pickle5 import pickle\n",
    "# sc = Schema()\n",
    "sc = pickle.load(open('schema_snb-1_all_nodes_rels.pickle','rb',-1))\n",
    "snb_gt_sc = pickle.load(open('schema_snb-1_all_nodes_rels_ground_truth.pickle','rb',-1))\n",
    "import pickle\n",
    "mb6_sc = pickle.load(open('schema_mb6_allNodesRels.pickle','rb',-1))\n",
    "mb6_gt_sc = pickle.load(open('schema_mb6_ground_truth.pickle','rb',-1))"
   ]
  },
  {
   "cell_type": "code",
   "execution_count": 3,
   "metadata": {},
   "outputs": [
    {
     "name": "stdout",
     "output_type": "stream",
     "text": [
      "start merging node type by DBScan, with idf False\n",
      "4 clusters found out of 52 nodes\n",
      "start merging edge type by DBScan, with idf False\n",
      "5 clusters found out of 461 nodes\n",
      "number of node types  4\n",
      "number of elements:  1\n",
      "------------Content Type----------------\n",
      "primaryRois? list           \n",
      "roiInfo? str            \n",
      "roiHierarchy? str            \n",
      "neuroglancerInfo? str            \n",
      "totalPreCount? int            \n",
      "lastDatabaseEdit? str            \n",
      "uuid?    str            \n",
      "statusDefinitions? str            \n",
      "preHPThreshold? float          \n",
      "totalPostCount? int            \n",
      "superLevelRois? list           \n",
      "latestMutationId? int            \n",
      "logo?    str            \n",
      "postHighAccuracyThreshold? float          \n",
      "meshHost? str            \n",
      "dataset? str            \n",
      "postHPThreshold? float          \n",
      "neuroglancerMeta? str            \n",
      "Meta?    LBL            \n",
      "medulla7column_Meta? LBL            \n",
      "number of elements:  160516\n",
      "------------Content Type----------------\n",
      "SynapseSet? LBL            \n",
      "mushroombody_SynapseSet? LBL            \n",
      "number of elements:  946\n",
      "------------Content Type----------------\n",
      "roiInfo  str            \n",
      "pre      int            \n",
      "instance? str            \n",
      "type?    str            \n",
      "statusLabel? str            \n",
      "post     int            \n",
      "size     int            \n",
      "alpha2?  bool           \n",
      "alpha3?  bool           \n",
      "bodyId   int            \n",
      "status?  str            \n",
      "alpha1?  bool           \n",
      "Neuron?  LBL            \n",
      "Segment  LBL            \n",
      "mushroombody_Neuron? LBL            \n",
      "mushroombody_Segment LBL            \n",
      "cropped? bool           \n",
      "number of elements:  8\n",
      "------------Content Type----------------\n",
      "alpha3?  bool           \n",
      "location CartesianPoint \n",
      "type     str            \n",
      "confidence float          \n",
      "Synapse  LBL            \n",
      "mushroombody_Synapse LBL            \n",
      "alpha1?  bool           \n",
      "alpha2?  bool           \n"
     ]
    }
   ],
   "source": [
    "mb6_sc.mergeByDBScan(idf=False)\n",
    "mb6_sc.nodetypeset.print()\n",
    "# mb6_sc.computeF1score(mb6_gt_sc)\n",
    "# mb6_sc.mergeByJaccardSim(idf=True)\n",
    "# mb6_sc.nodetypeset.print()"
   ]
  },
  {
   "cell_type": "code",
   "execution_count": 2,
   "metadata": {},
   "outputs": [
    {
     "name": "stdout",
     "output_type": "stream",
     "text": [
      "1 3 4\n",
      "precision:  0.2\n",
      "recall:  0.25\n",
      "f1_score:  0.22222222222222224\n",
      "1 4 8\n",
      "precision:  0.1111111111111111\n",
      "recall:  0.2\n",
      "f1_score:  0.14285714285714285\n"
     ]
    }
   ],
   "source": [
    "mb6_sc.mergeByLabelsSet()\n",
    "mb6_sc.computeF1score(mb6_gt_sc)"
   ]
  },
  {
   "cell_type": "code",
   "execution_count": 3,
   "metadata": {},
   "outputs": [
    {
     "name": "stdout",
     "output_type": "stream",
     "text": [
      "number of node types  11\n",
      "number of elements:  1575\n",
      "------------Content Type----------------\n",
      "name     str            \n",
      "id       int            \n",
      "url      str            \n",
      "Company  LBL            \n",
      "Organisation LBL            \n",
      "number of elements:  151043\n",
      "------------Content Type----------------\n",
      "browserUsed str            \n",
      "length   int            \n",
      "locationIP str            \n",
      "id       int            \n",
      "creationDate int            \n",
      "content  str            \n",
      "Comment  LBL            \n",
      "Message  LBL            \n",
      "number of elements:  6380\n",
      "------------Content Type----------------\n",
      "name     str            \n",
      "id       int            \n",
      "url      str            \n",
      "Organisation LBL            \n",
      "University LBL            \n",
      "number of elements:  16080\n",
      "------------Content Type----------------\n",
      "name     str            \n",
      "id       int            \n",
      "url      str            \n",
      "Tag      LBL            \n",
      "number of elements:  71\n",
      "------------Content Type----------------\n",
      "name     str            \n",
      "id       int            \n",
      "url      str            \n",
      "TagClass LBL            \n",
      "number of elements:  15361\n",
      "------------Content Type----------------\n",
      "browserUsed str            \n",
      "length   int            \n",
      "locationIP str            \n",
      "language* str            \n",
      "id       int            \n",
      "creationDate int            \n",
      "content* str            \n",
      "Message  LBL            \n",
      "Post     LBL            \n",
      "imageFile* str            \n",
      "number of elements:  118277\n",
      "------------Content Type----------------\n",
      "birthday int            \n",
      "firstName str            \n",
      "lastName str            \n",
      "gender   str            \n",
      "browserUsed str            \n",
      "locationIP str            \n",
      "id       int            \n",
      "creationDate int            \n",
      "Person   LBL            \n",
      "number of elements:  1528\n",
      "------------Content Type----------------\n",
      "name     str            \n",
      "id       int            \n",
      "url      str            \n",
      "Country  LBL            \n",
      "Place    LBL            \n",
      "number of elements:  111\n",
      "------------Content Type----------------\n",
      "name     str            \n",
      "id       int            \n",
      "url      str            \n",
      "City     LBL            \n",
      "Place    LBL            \n",
      "number of elements:  1343\n",
      "------------Content Type----------------\n",
      "name     str            \n",
      "id       int            \n",
      "url      str            \n",
      "Continent LBL            \n",
      "Place    LBL            \n",
      "number of elements:  6\n",
      "------------Content Type----------------\n",
      "id       int            \n",
      "title    str            \n",
      "creationDate int            \n",
      "Forum    LBL            \n"
     ]
    }
   ],
   "source": [
    "sc.mergeByLabelsSet()\n",
    "sc.nodetypeset.print()"
   ]
  },
  {
   "cell_type": "code",
   "execution_count": 3,
   "metadata": {},
   "outputs": [
    {
     "name": "stdout",
     "output_type": "stream",
     "text": [
      "number of node types  5\n",
      "number of elements:  1\n",
      "------------Content Type----------------\n",
      "primaryRois list           \n",
      "roiInfo  str            \n",
      "roiHierarchy str            \n",
      "neuroglancerInfo str            \n",
      "totalPreCount int            \n",
      "lastDatabaseEdit str            \n",
      "uuid     str            \n",
      "statusDefinitions str            \n",
      "preHPThreshold float          \n",
      "totalPostCount int            \n",
      "superLevelRois list           \n",
      "latestMutationId int            \n",
      "logo     str            \n",
      "postHighAccuracyThreshold float          \n",
      "meshHost str            \n",
      "dataset  str            \n",
      "postHPThreshold float          \n",
      "neuroglancerMeta str            \n",
      "Meta     LBL            \n",
      "medulla7column_Meta LBL            \n",
      "number of elements:  160516\n",
      "------------Content Type----------------\n",
      "SynapseSet LBL            \n",
      "mushroombody_SynapseSet LBL            \n",
      "number of elements:  946\n",
      "------------Content Type----------------\n",
      "roiInfo  str            \n",
      "pre      int            \n",
      "instance* str            \n",
      "type*    str            \n",
      "statusLabel str            \n",
      "post     int            \n",
      "size     int            \n",
      "alpha2*  bool           \n",
      "alpha3*  bool           \n",
      "bodyId   int            \n",
      "status   str            \n",
      "alpha1*  bool           \n",
      "Neuron   LBL            \n",
      "Segment  LBL            \n",
      "mushroombody_Neuron LBL            \n",
      "mushroombody_Segment LBL            \n",
      "cropped* bool           \n",
      "number of elements:  8\n",
      "------------Content Type----------------\n",
      "roiInfo  str            \n",
      "pre      int            \n",
      "post     int            \n",
      "size     int            \n",
      "alpha3*  bool           \n",
      "bodyId   int            \n",
      "Segment  LBL            \n",
      "mushroombody_Segment LBL            \n",
      "instance* str            \n",
      "statusLabel* str            \n",
      "status*  str            \n",
      "cropped* bool           \n",
      "alpha2*  bool           \n",
      "alpha1*  bool           \n",
      "type*    str            \n",
      "number of elements:  1941\n",
      "------------Content Type----------------\n",
      "alpha3*  bool           \n",
      "location CartesianPoint \n",
      "type     str            \n",
      "confidence float          \n",
      "Synapse  LBL            \n",
      "mushroombody_Synapse LBL            \n",
      "alpha1*  bool           \n",
      "alpha2*  bool           \n"
     ]
    }
   ],
   "source": [
    "mb6_sc.nodetypeset.print()"
   ]
  },
  {
   "cell_type": "code",
   "execution_count": 3,
   "metadata": {},
   "outputs": [
    {
     "name": "stdout",
     "output_type": "stream",
     "text": [
      "idf:  {'Organisation': 0.7071067811865475, 'Company': 1.0, 'name': 0.3779644730092272, 'url': 0.3779644730092272, 'id': 0.2886751345948129, 'locationIP': 0.5, 'length': 0.5773502691896258, 'browserUsed': 0.5, 'Comment': 1.0, 'creationDate': 0.4472135954999579, 'Message': 0.5773502691896258, 'content': 0.7071067811865475, 'University': 1.0, 'Tag': 1.0, 'TagClass': 1.0, 'language': 1.0, 'Post': 0.7071067811865475, 'imageFile': 1.0, 'firstName': 1.0, 'lastName': 1.0, 'gender': 1.0, 'birthday': 1.0, 'Person': 1.0, 'Place': 0.5773502691896258, 'Country': 1.0, 'City': 1.0, 'Continent': 1.0, 'title': 1.0, 'Forum': 1.0}\n",
      "10 clusters found out of 12 nodes\n",
      "20 clusters found out of 29 nodes\n",
      "8 6 2\n",
      "precision:  0.8\n",
      "recall:  0.5714285714285714\n",
      "f1_score:  0.6666666666666666\n",
      "8 12 12\n",
      "precision:  0.4\n",
      "recall:  0.4\n",
      "f1_score:  0.4000000000000001\n"
     ]
    }
   ],
   "source": [
    "sc.mergeByJaccardSim(idf=True)\n",
    "sc.computeF1score(snb_gt_sc)"
   ]
  },
  {
   "cell_type": "code",
   "execution_count": 4,
   "metadata": {
    "scrolled": true
   },
   "outputs": [
    {
     "name": "stdout",
     "output_type": "stream",
     "text": [
      "idf:  {'latestMutationId': 1.0, 'postHighAccuracyThreshold': 1.0, 'meshHost': 1.0, 'postHPThreshold': 1.0, 'neuroglancerMeta': 1.0, 'roiInfo': 0.14586499149789456, 'primaryRois': 1.0, 'preHPThreshold': 1.0, 'totalPostCount': 1.0, 'superLevelRois': 1.0, 'dataset': 1.0, 'Meta': 1.0, 'neuroglancerInfo': 1.0, 'statusDefinitions': 1.0, 'logo': 1.0, 'lastDatabaseEdit': 1.0, 'totalPreCount': 1.0, 'roiHierarchy': 1.0, 'medulla7column_Meta': 1.0, 'uuid': 1.0, 'SynapseSet': 1.0, 'mushroombody_SynapseSet': 1.0, 'status': 0.1543033499620919, 'mushroombody_Neuron': 0.19245008972987526, 'mushroombody_Segment': 0.14744195615489714, 'Segment': 0.14744195615489714, 'alpha1': 0.23570226039551587, 'alpha2': 0.21320071635561041, 'alpha3': 0.22941573387056174, 'Neuron': 0.19245008972987526, 'statusLabel': 0.1543033499620919, 'pre': 0.14744195615489714, 'post': 0.14744195615489714, 'instance': 0.17407765595569785, 'type': 0.2672612419124244, 'bodyId': 0.14744195615489714, 'size': 0.14744195615489714, 'cropped': 0.25, 'location': 0.5, 'Synapse': 0.5, 'confidence': 0.5, 'mushroombody_Synapse': 0.5}\n",
      "4 clusters found out of 52 nodes\n",
      "5 clusters found out of 461 nodes\n",
      "1 3 3\n",
      "precision:  0.25\n",
      "recall:  0.25\n",
      "f1_score:  0.25\n",
      "1 4 4\n",
      "precision:  0.2\n",
      "recall:  0.2\n",
      "f1_score:  0.20000000000000004\n"
     ]
    }
   ],
   "source": [
    "mb6_sc.mergeByJaccardSim(idf=True)\n",
    "mb6_sc.computeF1score(mb6_gt_sc)"
   ]
  },
  {
   "cell_type": "code",
   "execution_count": 4,
   "metadata": {},
   "outputs": [
    {
     "name": "stdout",
     "output_type": "stream",
     "text": [
      "idf:  {'primaryRois': 3.9512437185814275, 'uuid': 3.9512437185814275, 'preHPThreshold': 3.9512437185814275, 'dataset': 3.9512437185814275, 'lastDatabaseEdit': 3.9512437185814275, 'totalPreCount': 3.9512437185814275, 'postHighAccuracyThreshold': 3.9512437185814275, 'meshHost': 3.9512437185814275, 'Meta': 3.9512437185814275, 'latestMutationId': 3.9512437185814275, 'superLevelRois': 3.9512437185814275, 'medulla7column_Meta': 3.9512437185814275, 'totalPostCount': 3.9512437185814275, 'roiHierarchy': 3.9512437185814275, 'logo': 3.9512437185814275, 'roiInfo': 0.10109611687136881, 'neuroglancerInfo': 3.9512437185814275, 'neuroglancerMeta': 3.9512437185814275, 'postHPThreshold': 3.9512437185814275, 'statusDefinitions': 3.9512437185814275, 'SynapseSet': 3.9512437185814275, 'mushroombody_SynapseSet': 3.9512437185814275, 'type': 1.3121863889661687, 'post': 0.12260232209233228, 'mushroombody_Segment': 0.12260232209233228, 'alpha2': 0.8602012652231116, 'size': 0.12260232209233228, 'Segment': 0.12260232209233228, 'instance': 0.4547361571149471, 'pre': 0.12260232209233228, 'mushroombody_Neuron': 0.6554068525770982, 'bodyId': 0.12260232209233228, 'status': 0.2135741002980591, 'alpha1': 1.0608719606852626, 'Neuron': 0.6554068525770982, 'statusLabel': 0.2135741002980591, 'alpha3': 1.0068047394149868, 'cropped': 1.1786549963416462, 'Synapse': 2.5649493574615367, 'confidence': 2.5649493574615367, 'mushroombody_Synapse': 2.5649493574615367, 'location': 2.5649493574615367}\n",
      "4 clusters found out of 52 nodes\n",
      "5 clusters found out of 461 nodes\n"
     ]
    }
   ],
   "source": [
    "mb6_sc.mergeByJaccardSim(idf=True)"
   ]
  },
  {
   "cell_type": "code",
   "execution_count": 6,
   "metadata": {},
   "outputs": [
    {
     "name": "stdout",
     "output_type": "stream",
     "text": [
      "1 3 3\n",
      "precision:  0.25\n",
      "recall:  0.25\n",
      "f1_score:  0.25\n",
      "1 4 4\n",
      "precision:  0.2\n",
      "recall:  0.2\n",
      "f1_score:  0.20000000000000004\n",
      "number of node types  4\n",
      "number of elements:  1\n",
      "------------Content Type----------------\n",
      "Meta     LBL            \n",
      "lastDatabaseEdit str            \n",
      "roiInfo  str            \n",
      "primaryRois list           \n",
      "totalPreCount int            \n",
      "totalPostCount int            \n",
      "uuid     str            \n",
      "number of elements:  1\n",
      "------------Content Type----------------\n",
      "bodyId   int            \n",
      "instance str            \n",
      "post     int            \n",
      "pre      int            \n",
      "roiInfo  str            \n",
      "size     int            \n",
      "type     str            \n",
      "cropped  bool           \n",
      "Neuron   LBL            \n",
      "Segment  LBL            \n",
      "mushroombody_Neuron LBL            \n",
      "mushroombody_Segment LBL            \n",
      "number of elements:  1\n",
      "------------Content Type----------------\n",
      "SynapseSet LBL            \n",
      "mushroombody_SynapseSet LBL            \n",
      "number of elements:  1\n",
      "------------Content Type----------------\n",
      "type     str            \n",
      "location int            \n",
      "Synapse  LBL            \n",
      "mushroombody_Synapse LBL            \n"
     ]
    }
   ],
   "source": [
    "mb6_sc.computeF1score(mb6_gt_sc)\n",
    "mb6_gt_sc.nodetypeset.print()"
   ]
  },
  {
   "cell_type": "code",
   "execution_count": 10,
   "metadata": {},
   "outputs": [
    {
     "name": "stdout",
     "output_type": "stream",
     "text": [
      "1 3 51\n",
      "precision:  0.019230769230769232\n",
      "recall:  0.25\n",
      "f1_score:  0.03571428571428572\n",
      "1 4 460\n",
      "precision:  0.0021691973969631237\n",
      "recall:  0.2\n",
      "f1_score:  0.004291845493562232\n"
     ]
    }
   ],
   "source": [
    "mb6_sc.computeF1score(mb6_gt_sc)"
   ]
  },
  {
   "cell_type": "code",
   "execution_count": 16,
   "metadata": {},
   "outputs": [
    {
     "name": "stdout",
     "output_type": "stream",
     "text": [
      "4 clusters found out of 52 nodes\n",
      "5 clusters found out of 461 nodes\n",
      "1 3 3\n",
      "precision:  0.25\n",
      "recall:  0.25\n",
      "f1_score:  0.25\n",
      "1 4 4\n",
      "precision:  0.2\n",
      "recall:  0.2\n",
      "f1_score:  0.20000000000000004\n",
      "number of edge types  5\n",
      "source\n",
      "------------Content Type----------------\n",
      "roiInfo  str            \n",
      "pre      int            \n",
      "post     int            \n",
      "size     int            \n",
      "bodyId   int            \n",
      "statusLabel str            \n",
      "status   str            \n",
      "alpha1   bool           \n",
      "Neuron   LBL            \n",
      "Segment  LBL            \n",
      "mushroombody_Neuron LBL            \n",
      "mushroombody_Segment LBL            \n",
      "instance str            \n",
      "type     str            \n",
      "alpha2   bool           \n",
      "alpha3   bool           \n",
      "cropped  bool           \n",
      "edge\n",
      "------------Content Type----------------\n",
      "roiInfo  str            \n",
      "weight   int            \n",
      "weightHP int            \n",
      "ConnectsTo LBL            \n",
      "target\n",
      "------------Content Type----------------\n",
      "roiInfo  str            \n",
      "pre      int            \n",
      "post     int            \n",
      "size     int            \n",
      "bodyId   int            \n",
      "statusLabel str            \n",
      "status   str            \n",
      "alpha1   bool           \n",
      "Neuron   LBL            \n",
      "Segment  LBL            \n",
      "mushroombody_Neuron LBL            \n",
      "mushroombody_Segment LBL            \n",
      "instance str            \n",
      "type     str            \n",
      "alpha2   bool           \n",
      "cropped  bool           \n",
      "alpha3   bool           \n",
      "source\n",
      "------------Content Type----------------\n",
      "SynapseSet LBL            \n",
      "mushroombody_SynapseSet LBL            \n",
      "edge\n",
      "------------Content Type----------------\n",
      "Contains LBL            \n",
      "target\n",
      "------------Content Type----------------\n",
      "alpha3   bool           \n",
      "location CartesianPoint \n",
      "type     str            \n",
      "confidence float          \n",
      "Synapse  LBL            \n",
      "mushroombody_Synapse LBL            \n",
      "alpha2   bool           \n",
      "alpha1   bool           \n",
      "source\n",
      "------------Content Type----------------\n",
      "SynapseSet LBL            \n",
      "mushroombody_SynapseSet LBL            \n",
      "edge\n",
      "------------Content Type----------------\n",
      "ConnectsTo LBL            \n",
      "target\n",
      "------------Content Type----------------\n",
      "SynapseSet LBL            \n",
      "mushroombody_SynapseSet LBL            \n",
      "source\n",
      "------------Content Type----------------\n",
      "roiInfo  str            \n",
      "pre      int            \n",
      "instance str            \n",
      "type     str            \n",
      "statusLabel str            \n",
      "post     int            \n",
      "size     int            \n",
      "alpha2   bool           \n",
      "alpha3   bool           \n",
      "bodyId   int            \n",
      "status   str            \n",
      "alpha1   bool           \n",
      "Neuron   LBL            \n",
      "Segment  LBL            \n",
      "mushroombody_Neuron LBL            \n",
      "mushroombody_Segment LBL            \n",
      "cropped  bool           \n",
      "edge\n",
      "------------Content Type----------------\n",
      "Contains LBL            \n",
      "target\n",
      "------------Content Type----------------\n",
      "SynapseSet LBL            \n",
      "mushroombody_SynapseSet LBL            \n",
      "source\n",
      "------------Content Type----------------\n",
      "alpha2   bool           \n",
      "location CartesianPoint \n",
      "type     str            \n",
      "confidence float          \n",
      "Synapse  LBL            \n",
      "mushroombody_Synapse LBL            \n",
      "alpha3   bool           \n",
      "alpha1   bool           \n",
      "edge\n",
      "------------Content Type----------------\n",
      "SynapsesTo LBL            \n",
      "target\n",
      "------------Content Type----------------\n",
      "alpha2   bool           \n",
      "location CartesianPoint \n",
      "type     str            \n",
      "confidence float          \n",
      "Synapse  LBL            \n",
      "mushroombody_Synapse LBL            \n",
      "alpha3   bool           \n",
      "alpha1   bool           \n"
     ]
    }
   ],
   "source": [
    "mb6_sc.mergeByJaccardSim()\n",
    "mb6_sc.computeF1score(mb6_gt_sc)\n",
    "mb6_sc.edgetypeset.print()"
   ]
  },
  {
   "cell_type": "code",
   "execution_count": 14,
   "metadata": {},
   "outputs": [
    {
     "name": "stdout",
     "output_type": "stream",
     "text": [
      "1 3 4\n",
      "precision:  0.2\n",
      "recall:  0.25\n",
      "f1_score:  0.22222222222222224\n",
      "1 4 8\n",
      "precision:  0.1111111111111111\n",
      "recall:  0.2\n",
      "f1_score:  0.14285714285714285\n"
     ]
    }
   ],
   "source": [
    "mb6_sc = pickle.load(open('schema_mb6_allNodesRels.pickle','rb',-1))\n",
    "mb6_sc.mergeByLabelsSet()\n",
    "mb6_sc.computeF1score(mb6_gt_sc)"
   ]
  },
  {
   "cell_type": "code",
   "execution_count": 24,
   "metadata": {},
   "outputs": [
    {
     "name": "stdout",
     "output_type": "stream",
     "text": [
      "9 5 3\n",
      "precision:  0.75\n",
      "recall:  0.6428571428571429\n",
      "f1_score:  0.6923076923076924\n",
      "7 13 22\n",
      "precision:  0.2413793103448276\n",
      "recall:  0.35\n",
      "f1_score:  0.2857142857142857\n"
     ]
    }
   ],
   "source": [
    "sc.computeF1score(snb_gt_sc)"
   ]
  },
  {
   "cell_type": "code",
   "execution_count": 25,
   "metadata": {},
   "outputs": [
    {
     "name": "stdout",
     "output_type": "stream",
     "text": [
      "10 4 1\n",
      "precision:  0.9090909090909091\n",
      "recall:  0.7142857142857143\n",
      "f1_score:  0.8\n",
      "8 12 17\n",
      "precision:  0.32\n",
      "recall:  0.4\n",
      "f1_score:  0.35555555555555557\n"
     ]
    }
   ],
   "source": [
    "sc.mergeByLabelsSet()\n",
    "sc.computeF1score(snb_gt_sc)\n",
    "# sc.nodetypeset.print()\n",
    "# len(snb_gt_sc.edgetypeset)\n"
   ]
  },
  {
   "cell_type": "code",
   "execution_count": 26,
   "metadata": {},
   "outputs": [
    {
     "name": "stdout",
     "output_type": "stream",
     "text": [
      "6 clusters found out of 12 nodes\n",
      "18 clusters found out of 29 nodes\n",
      "1 13 5\n",
      "precision:  0.16666666666666666\n",
      "recall:  0.07142857142857142\n",
      "f1_score:  0.1\n",
      "4 16 14\n",
      "precision:  0.2222222222222222\n",
      "recall:  0.2\n",
      "f1_score:  0.2105263157894737\n"
     ]
    }
   ],
   "source": [
    "from pickle5 import pickle\n",
    "sc = pickle.load(open('schema_snb-1_all_nodes_rels.pickle','rb',-1))\n",
    "sc.mergeByJaccardSim()\n",
    "sc.computeF1score(snb_gt_sc)"
   ]
  },
  {
   "cell_type": "code",
   "execution_count": 4,
   "metadata": {},
   "outputs": [
    {
     "name": "stdout",
     "output_type": "stream",
     "text": [
      "ignore attributes type only comparing attribute keys\n",
      "ignore attributes type only comparing attribute keys\n",
      "ignore attributes type only comparing attribute keys\n",
      "ignore attributes type only comparing attribute keys\n",
      "------------Content Type----------------\n",
      "Meta     LBL            \n",
      "lastDatabaseEdit str            \n",
      "roiInfo  str            \n",
      "primaryRois list           \n",
      "totalPreCount int            \n",
      "totalPostCount int            \n",
      "uuid     str            \n",
      "------------Content Type----------------\n",
      "bodyId   int            \n",
      "instance str            \n",
      "post     int            \n",
      "pre      int            \n",
      "roiInfo  str            \n",
      "size     int            \n",
      "type     str            \n",
      "cropped  bool           \n",
      "Neuron   LBL            \n",
      "Segment  LBL            \n",
      "mushroombody_Neuron LBL            \n",
      "mushroombody_Segment LBL            \n",
      "ignore attributes type only comparing attribute keys\n",
      "------------Content Type----------------\n",
      "type     str            \n",
      "location int            \n",
      "Synapse  LBL            \n",
      "mushroombody_Synapse LBL            \n",
      "4 3 1\n",
      "precision:  0.8\n",
      "recall:  0.5714285714285714\n",
      "f1_score:  0.6666666666666666\n"
     ]
    },
    {
     "data": {
      "text/plain": [
       "(0.8, 0.5714285714285714, 0.6666666666666666)"
      ]
     },
     "execution_count": 4,
     "metadata": {},
     "output_type": "execute_result"
    }
   ],
   "source": [
    "mb6_sc.mergeByLabelsSet()\n",
    "mb6_sc.nodetypeset.computeF1score(mb6_gt_sc.nodetypeset)"
   ]
  },
  {
   "cell_type": "code",
   "execution_count": 6,
   "metadata": {
    "scrolled": true
   },
   "outputs": [
    {
     "name": "stdout",
     "output_type": "stream",
     "text": [
      "4 clusters found out of 52 nodes\n",
      "5 clusters found out of 461 nodes\n",
      "ignore attributes type only comparing attribute keys\n",
      "ignore attributes type only comparing attribute keys\n",
      "ignore attributes type only comparing attribute keys\n",
      "ignore attributes type only comparing attribute keys\n",
      "------------Content Type----------------\n",
      "Meta     LBL            \n",
      "lastDatabaseEdit str            \n",
      "roiInfo  str            \n",
      "primaryRois list           \n",
      "totalPreCount int            \n",
      "totalPostCount int            \n",
      "uuid     str            \n",
      "------------Content Type----------------\n",
      "bodyId   int            \n",
      "instance str            \n",
      "post     int            \n",
      "pre      int            \n",
      "roiInfo  str            \n",
      "size     int            \n",
      "type     str            \n",
      "cropped  bool           \n",
      "Neuron   LBL            \n",
      "Segment  LBL            \n",
      "mushroombody_Neuron LBL            \n",
      "mushroombody_Segment LBL            \n",
      "ignore attributes type only comparing attribute keys\n",
      "------------Content Type----------------\n",
      "type     str            \n",
      "location int            \n",
      "Synapse  LBL            \n",
      "mushroombody_Synapse LBL            \n",
      "4 3 0\n",
      "precision:  1.0\n",
      "recall:  0.5714285714285714\n",
      "f1_score:  0.7272727272727273\n"
     ]
    },
    {
     "data": {
      "text/plain": [
       "(1.0, 0.5714285714285714, 0.7272727272727273)"
      ]
     },
     "execution_count": 6,
     "metadata": {},
     "output_type": "execute_result"
    }
   ],
   "source": [
    "mb6_sc = pickle.load(open('schema_mb6_allNodesRels.pickle','rb',-1))\n",
    "mb6_sc.mergeByJaccardSim()\n",
    "mb6_sc.nodetypeset.computeF1score(mb6_gt_sc.nodetypeset)"
   ]
  },
  {
   "cell_type": "code",
   "execution_count": 8,
   "metadata": {},
   "outputs": [
    {
     "name": "stdout",
     "output_type": "stream",
     "text": [
      "number of node types  4\n",
      "number of elements:  1\n",
      "------------Content Type----------------\n",
      "primaryRois list           \n",
      "roiInfo  str            \n",
      "roiHierarchy str            \n",
      "neuroglancerInfo str            \n",
      "totalPreCount int            \n",
      "lastDatabaseEdit str            \n",
      "uuid     str            \n",
      "statusDefinitions str            \n",
      "preHPThreshold float          \n",
      "totalPostCount int            \n",
      "superLevelRois list           \n",
      "latestMutationId int            \n",
      "logo     str            \n",
      "postHighAccuracyThreshold float          \n",
      "meshHost str            \n",
      "dataset  str            \n",
      "postHPThreshold float          \n",
      "neuroglancerMeta str            \n",
      "Meta     LBL            \n",
      "medulla7column_Meta LBL            \n",
      "number of elements:  160516\n",
      "------------Content Type----------------\n",
      "SynapseSet LBL            \n",
      "mushroombody_SynapseSet LBL            \n",
      "number of elements:  946\n",
      "------------Content Type----------------\n",
      "roiInfo  str            \n",
      "pre      int            \n",
      "instance str            \n",
      "type     str            \n",
      "statusLabel str            \n",
      "post     int            \n",
      "size     int            \n",
      "alpha2   bool           \n",
      "alpha3   bool           \n",
      "bodyId   int            \n",
      "status   str            \n",
      "alpha1   bool           \n",
      "Neuron   LBL            \n",
      "Segment  LBL            \n",
      "mushroombody_Neuron LBL            \n",
      "mushroombody_Segment LBL            \n",
      "cropped  bool           \n",
      "number of elements:  8\n",
      "------------Content Type----------------\n",
      "alpha3   bool           \n",
      "location CartesianPoint \n",
      "type     str            \n",
      "confidence float          \n",
      "Synapse  LBL            \n",
      "mushroombody_Synapse LBL            \n",
      "alpha1   bool           \n",
      "alpha2   bool           \n"
     ]
    }
   ],
   "source": [
    "mb6_sc.nodetypeset.print()"
   ]
  },
  {
   "cell_type": "code",
   "execution_count": 21,
   "metadata": {},
   "outputs": [],
   "source": [
    "snb_gt_sc = Schema()\n",
    "snb_gt_sc.nodetypeset.nodetypes = [NodeType(attr_type=i) for i in node_type]\n",
    "for nt in snb_gt_sc.nodetypeset.nodetypes:\n",
    "    nt.attributes['id']=set([int])\n",
    "snb_gt_sc.nodetypeset.numOfType = [1 for i in node_type]\n",
    "snb_gt_sc.edgetypeset.edgetypes = [i for i in gt_edge_types]\n",
    "# with open('schema_snb-1_all_nodes_rels_ground_truth.pickle', 'wb') as f:\n",
    "#     pickle.dump(sc, f, -1)"
   ]
  },
  {
   "cell_type": "code",
   "execution_count": 15,
   "metadata": {},
   "outputs": [
    {
     "name": "stdout",
     "output_type": "stream",
     "text": [
      "------------Content Type----------------\n",
      "name     str            \n",
      "url      str            \n",
      "Place    LBL            \n",
      "id       int            \n",
      "------------Content Type----------------\n",
      "name     str            \n",
      "url      str            \n",
      "City     LBL            \n",
      "Place    LBL            \n",
      "id       int            \n",
      "------------Content Type----------------\n",
      "name     str            \n",
      "url      str            \n",
      "Country  LBL            \n",
      "Place    LBL            \n",
      "id       int            \n",
      "------------Content Type----------------\n",
      "name     str            \n",
      "url      str            \n",
      "Continent LBL            \n",
      "Place    LBL            \n",
      "id       int            \n",
      "------------Content Type----------------\n",
      "name     str            \n",
      "url      str            \n",
      "Organisation LBL            \n",
      "id       int            \n",
      "------------Content Type----------------\n",
      "name     str            \n",
      "url      str            \n",
      "University LBL            \n",
      "Organisation LBL            \n",
      "id       int            \n",
      "------------Content Type----------------\n",
      "name     str            \n",
      "url      str            \n",
      "Company  LBL            \n",
      "Organisation LBL            \n",
      "id       int            \n",
      "------------Content Type----------------\n",
      "name     str            \n",
      "url      str            \n",
      "Tag      LBL            \n",
      "id       int            \n",
      "------------Content Type----------------\n",
      "name     str            \n",
      "url      str            \n",
      "TagClass LBL            \n",
      "id       int            \n",
      "------------Content Type----------------\n",
      "creationDate int            \n",
      "firstName str            \n",
      "lastName str            \n",
      "gender   str            \n",
      "birthday int            \n",
      "email    list           \n",
      "speaks   list           \n",
      "browserUsed str            \n",
      "locationIP str            \n",
      "Person   LBL            \n",
      "id       int            \n",
      "------------Content Type----------------\n",
      "creationDate int            \n",
      "browserUsed str            \n",
      "locationIP str            \n",
      "content  str            \n",
      "length   int            \n",
      "Message  LBL            \n",
      "id       int            \n",
      "------------Content Type----------------\n",
      "creationDate int            \n",
      "browserUsed str            \n",
      "locationIP str            \n",
      "content  str            \n",
      "length   int            \n",
      "Comment  LBL            \n",
      "Message  LBL            \n",
      "id       int            \n",
      "------------Content Type----------------\n",
      "creationDate int            \n",
      "browserUsed str            \n",
      "locationIP str            \n",
      "content  str            \n",
      "length   int            \n",
      "language str            \n",
      "imageFile str            \n",
      "Post     LBL            \n",
      "Message  LBL            \n",
      "id       int            \n",
      "1 13 5\n",
      "precision:  0.16666666666666666\n",
      "recall:  0.07142857142857142\n",
      "f1_score:  0.1\n"
     ]
    },
    {
     "data": {
      "text/plain": [
       "(0.16666666666666666, 0.07142857142857142, 0.1)"
      ]
     },
     "execution_count": 15,
     "metadata": {},
     "output_type": "execute_result"
    }
   ],
   "source": [
    "sc.nodetypeset.computeF1score(snb_gt_sc.nodetypeset)"
   ]
  },
  {
   "cell_type": "code",
   "execution_count": null,
   "metadata": {},
   "outputs": [],
   "source": []
  }
 ],
 "metadata": {
  "kernelspec": {
   "display_name": "Python 3",
   "language": "python",
   "name": "python3"
  },
  "language_info": {
   "codemirror_mode": {
    "name": "ipython",
    "version": 3
   },
   "file_extension": ".py",
   "mimetype": "text/x-python",
   "name": "python",
   "nbconvert_exporter": "python",
   "pygments_lexer": "ipython3",
   "version": "3.7.2"
  }
 },
 "nbformat": 4,
 "nbformat_minor": 1
}
